{
 "cells": [
  {
   "cell_type": "code",
   "execution_count": 1,
   "metadata": {},
   "outputs": [],
   "source": [
    "import sqlalchemy"
   ]
  },
  {
   "cell_type": "code",
   "execution_count": 2,
   "metadata": {},
   "outputs": [],
   "source": [
    "import numpy as np"
   ]
  },
  {
   "cell_type": "code",
   "execution_count": 3,
   "metadata": {},
   "outputs": [],
   "source": [
    "from io import StringIO"
   ]
  },
  {
   "cell_type": "code",
   "execution_count": 4,
   "metadata": {},
   "outputs": [
    {
     "data": {
      "text/plain": [
       "'1.3.13'"
      ]
     },
     "execution_count": 4,
     "metadata": {},
     "output_type": "execute_result"
    }
   ],
   "source": [
    "sqlalchemy.__version__"
   ]
  },
  {
   "cell_type": "code",
   "execution_count": 5,
   "metadata": {},
   "outputs": [],
   "source": [
    "from sqlalchemy import create_engine\n",
    "engine = create_engine('sqlite:///InPTA.db', echo = True)"
   ]
  },
  {
   "cell_type": "code",
   "execution_count": 6,
   "metadata": {},
   "outputs": [],
   "source": [
    "proposalinf = np.genfromtxt(r'C:\\Users\\nikita.agarwal\\Downloads\\Propo.txt',dtype=str,skip_header=1,delimiter=\",\")"
   ]
  },
  {
   "cell_type": "code",
   "execution_count": 7,
   "metadata": {},
   "outputs": [
    {
     "name": "stdout",
     "output_type": "stream",
     "text": [
      "[['38_014' '38']\n",
      " ['37_010' '37']\n",
      " ['37_013' '37']\n",
      " ['35_016' '35']\n",
      " ['34_102' '34']\n",
      " ['33_062' '33']\n",
      " ['33_076' '33']\n",
      " ['32_032' '32']\n",
      " ['32_092' '32']\n",
      " ['31_057' '31']\n",
      " ['31_107' '31']\n",
      " ['30_043' '30']\n",
      " ['30_050' '30']\n",
      " ['29_064' '29']]\n"
     ]
    }
   ],
   "source": [
    "print(proposalinf)"
   ]
  },
  {
   "cell_type": "code",
   "execution_count": 8,
   "metadata": {},
   "outputs": [],
   "source": [
    "from sqlalchemy.ext.declarative import declarative_base\n",
    "Base = declarative_base()"
   ]
  },
  {
   "cell_type": "code",
   "execution_count": 9,
   "metadata": {},
   "outputs": [],
   "source": [
    "from sqlalchemy import Column, Integer, String"
   ]
  },
  {
   "cell_type": "code",
   "execution_count": 10,
   "metadata": {},
   "outputs": [],
   "source": [
    "#Creating table Proposal\n",
    "class Proposal(Base):\n",
    "    __tablename__ = 'proposal'\n",
    "    \n",
    "    number = Column(String(45), primary_key=True)\n",
    "    cycle_number = Column(String(45))\n",
    "    title = Column(String(500))\n",
    "    #Telescope_ID = Column(String(45))\n",
    "    PI_ID = Column(Integer)\n",
    "    #file = Column(String(500))\n",
    "\n",
    "    def __repr__(self):\n",
    "        return \"<proposal(number='%s',cycle_number='%s',title='%s',telescope_ID='%s',PI_ID='%d',file='%s )>\" % (self.number, self.cycle_number, self.title, self.telescope_ID, self.PI_ID, self.file)"
   ]
  },
  {
   "cell_type": "code",
   "execution_count": 11,
   "metadata": {},
   "outputs": [
    {
     "data": {
      "text/plain": [
       "Table('proposal', MetaData(bind=None), Column('number', String(length=45), table=<proposal>, primary_key=True, nullable=False), Column('cycle_number', String(length=45), table=<proposal>), Column('title', String(length=500), table=<proposal>), Column('PI_ID', Integer(), table=<proposal>), schema=None)"
      ]
     },
     "execution_count": 11,
     "metadata": {},
     "output_type": "execute_result"
    }
   ],
   "source": [
    "Proposal.__table__"
   ]
  },
  {
   "cell_type": "code",
   "execution_count": 12,
   "metadata": {},
   "outputs": [
    {
     "name": "stdout",
     "output_type": "stream",
     "text": [
      "2020-08-21 19:02:21,901 INFO sqlalchemy.engine.base.Engine SELECT CAST('test plain returns' AS VARCHAR(60)) AS anon_1\n",
      "2020-08-21 19:02:21,904 INFO sqlalchemy.engine.base.Engine ()\n",
      "2020-08-21 19:02:21,910 INFO sqlalchemy.engine.base.Engine SELECT CAST('test unicode returns' AS VARCHAR(60)) AS anon_1\n",
      "2020-08-21 19:02:21,912 INFO sqlalchemy.engine.base.Engine ()\n",
      "2020-08-21 19:02:21,916 INFO sqlalchemy.engine.base.Engine PRAGMA main.table_info(\"proposal\")\n",
      "2020-08-21 19:02:21,919 INFO sqlalchemy.engine.base.Engine ()\n"
     ]
    }
   ],
   "source": [
    "Base.metadata.create_all(engine)"
   ]
  },
  {
   "cell_type": "code",
   "execution_count": 13,
   "metadata": {},
   "outputs": [],
   "source": [
    "proposal = [Proposal(number=ProposalID, cycle_number=CycleNumber) for ProposalID, CycleNumber in proposalinf]"
   ]
  },
  {
   "cell_type": "code",
   "execution_count": 14,
   "metadata": {},
   "outputs": [],
   "source": [
    "from sqlalchemy.orm import sessionmaker\n",
    "Session = sessionmaker(bind=engine)\n",
    "session = Session()"
   ]
  },
  {
   "cell_type": "code",
   "execution_count": 15,
   "metadata": {},
   "outputs": [],
   "source": [
    "session.add_all(proposal)"
   ]
  },
  {
   "cell_type": "code",
   "execution_count": 16,
   "metadata": {},
   "outputs": [],
   "source": [
    "session.rollback()"
   ]
  },
  {
   "cell_type": "code",
   "execution_count": 17,
   "metadata": {},
   "outputs": [
    {
     "name": "stdout",
     "output_type": "stream",
     "text": [
      "2020-08-21 19:02:22,546 INFO sqlalchemy.engine.base.Engine BEGIN (implicit)\n",
      "2020-08-21 19:02:22,552 INFO sqlalchemy.engine.base.Engine SELECT proposal.number AS proposal_number, proposal.cycle_number AS proposal_cycle_number, proposal.title AS proposal_title, proposal.\"PI_ID\" AS \"proposal_PI_ID\" \n",
      "FROM proposal \n",
      "WHERE proposal.number = ?\n",
      " LIMIT ? OFFSET ?\n",
      "2020-08-21 19:02:22,554 INFO sqlalchemy.engine.base.Engine ('38_014', 1, 0)\n"
     ]
    }
   ],
   "source": [
    "pro = session.query(Proposal).filter_by(number='38_014').first()"
   ]
  },
  {
   "cell_type": "code",
   "execution_count": 18,
   "metadata": {},
   "outputs": [
    {
     "data": {
      "text/plain": [
       "False"
      ]
     },
     "execution_count": 18,
     "metadata": {},
     "output_type": "execute_result"
    }
   ],
   "source": [
    "pro is proposal"
   ]
  },
  {
   "cell_type": "code",
   "execution_count": 19,
   "metadata": {},
   "outputs": [
    {
     "name": "stdout",
     "output_type": "stream",
     "text": [
      "2020-08-21 19:02:22,796 INFO sqlalchemy.engine.base.Engine COMMIT\n"
     ]
    }
   ],
   "source": [
    "session.commit()"
   ]
  },
  {
   "cell_type": "code",
   "execution_count": 20,
   "metadata": {},
   "outputs": [
    {
     "name": "stdout",
     "output_type": "stream",
     "text": [
      "2020-08-21 19:02:22,958 INFO sqlalchemy.engine.base.Engine BEGIN (implicit)\n",
      "2020-08-21 19:02:22,963 INFO sqlalchemy.engine.base.Engine SELECT proposal.number AS proposal_number, proposal.cycle_number AS proposal_cycle_number, proposal.title AS proposal_title, proposal.\"PI_ID\" AS \"proposal_PI_ID\" \n",
      "FROM proposal ORDER BY proposal.number\n",
      "2020-08-21 19:02:22,965 INFO sqlalchemy.engine.base.Engine ()\n"
     ]
    }
   ],
   "source": [
    "for Proposal in session.query(Proposal).order_by(Proposal.number):\n",
    "    print( Proposal.number,Proposal.cycle_number)"
   ]
  },
  {
   "cell_type": "code",
   "execution_count": 21,
   "metadata": {},
   "outputs": [],
   "source": [
    "#pro.cycle_number"
   ]
  },
  {
   "cell_type": "code",
   "execution_count": 22,
   "metadata": {},
   "outputs": [
    {
     "name": "stdout",
     "output_type": "stream",
     "text": [
      "2020-08-21 19:02:23,219 INFO sqlalchemy.engine.base.Engine SELECT count(proposal.number) AS count_1 \n",
      "FROM proposal\n",
      "2020-08-21 19:02:23,219 INFO sqlalchemy.engine.base.Engine ()\n"
     ]
    },
    {
     "data": {
      "text/plain": [
       "0"
      ]
     },
     "execution_count": 22,
     "metadata": {},
     "output_type": "execute_result"
    }
   ],
   "source": [
    "from sqlalchemy import func\n",
    "\n",
    "session.query(func.count(Proposal.number)).scalar()"
   ]
  },
  {
   "cell_type": "code",
   "execution_count": 23,
   "metadata": {},
   "outputs": [],
   "source": [
    "#Foreign Key\n",
    "from sqlalchemy import ForeignKey\n",
    "from sqlalchemy.orm import relationship\n",
    "\n",
    "class Member(Base):\n",
    "    __tablename__ = 'members'\n",
    "    \n",
    "    ID = Column(Integer, ForeignKey('PI_ID.ID'), primary_key=True,)\n",
    "    name = Column(String(45),nullable = False)\n",
    "    username = Column(String(45),nullable = False)\n",
    "    email = Column(String(45),nullable = False)\n",
    "    \n",
    "    # Access the user corresponding to an address.\n",
    "    proposal = relationship(\"Proposal\", back_populates=\"members\")\n",
    "\n",
    "    def __repr__(self):\n",
    "        return \"<Member(ID='%d')>\" % self.ID"
   ]
  },
  {
   "cell_type": "code",
   "execution_count": 24,
   "metadata": {},
   "outputs": [
    {
     "name": "stdout",
     "output_type": "stream",
     "text": [
      "2020-08-21 19:02:23,462 INFO sqlalchemy.engine.base.Engine PRAGMA main.table_info(\"proposal\")\n",
      "2020-08-21 19:02:23,468 INFO sqlalchemy.engine.base.Engine ()\n",
      "2020-08-21 19:02:23,472 INFO sqlalchemy.engine.base.Engine PRAGMA main.table_info(\"members\")\n",
      "2020-08-21 19:02:23,475 INFO sqlalchemy.engine.base.Engine ()\n"
     ]
    }
   ],
   "source": [
    "Base.metadata.create_all(engine)"
   ]
  },
  {
   "cell_type": "code",
   "execution_count": null,
   "metadata": {},
   "outputs": [],
   "source": []
  }
 ],
 "metadata": {
  "kernelspec": {
   "display_name": "Python 3",
   "language": "python",
   "name": "python3"
  },
  "language_info": {
   "codemirror_mode": {
    "name": "ipython",
    "version": 3
   },
   "file_extension": ".py",
   "mimetype": "text/x-python",
   "name": "python",
   "nbconvert_exporter": "python",
   "pygments_lexer": "ipython3",
   "version": "3.7.6"
  }
 },
 "nbformat": 4,
 "nbformat_minor": 4
}
