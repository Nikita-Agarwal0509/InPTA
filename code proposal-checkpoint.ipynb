{
 "cells": [
  {
   "cell_type": "code",
   "execution_count": 2,
   "metadata": {},
   "outputs": [],
   "source": [
    "import sqlalchemy"
   ]
  },
  {
   "cell_type": "code",
   "execution_count": 3,
   "metadata": {},
   "outputs": [],
   "source": [
    "import numpy as np"
   ]
  },
  {
   "cell_type": "code",
   "execution_count": 4,
   "metadata": {},
   "outputs": [],
   "source": [
    "from io import StringIO"
   ]
  },
  {
   "cell_type": "code",
   "execution_count": 5,
   "metadata": {},
   "outputs": [
    {
     "data": {
      "text/plain": [
       "'1.3.18'"
      ]
     },
     "execution_count": 5,
     "metadata": {},
     "output_type": "execute_result"
    }
   ],
   "source": [
    "sqlalchemy.__version__"
   ]
  },
  {
   "cell_type": "code",
   "execution_count": 6,
   "metadata": {},
   "outputs": [],
   "source": [
    "from sqlalchemy import create_engine\n",
    "engine = create_engine('sqlite:///InPTA.db', echo = True)"
   ]
  },
  {
   "cell_type": "code",
   "execution_count": 7,
   "metadata": {},
   "outputs": [],
   "source": [
    "proposalinf = np.genfromtxt(r'C:\\Users\\nikita.agarwal\\Downloads\\pro.txt',dtype=str,skip_header=1,delimiter='\\t')"
   ]
  },
  {
   "cell_type": "code",
   "execution_count": 8,
   "metadata": {},
   "outputs": [
    {
     "name": "stdout",
     "output_type": "stream",
     "text": [
      "['38_014 38 Indian Pulsar Timing Array (InPTA) experiment using the upgraded wideband GMRT and the ORTT : 2020'\n",
      " 'Update   BHAL CHANDRA JOSHI'\n",
      " '37_010 37 Indian Pulsar Timing Array (InPTA) experiment using the upgraded wideband GMRT and the ORT : 2019 Update  BHAL CHANDRA JOSHI'\n",
      " '37_013 37 A Study of possible profile mode changes in the millisecond pulsar J2124-3358  Arpita Choudhary'\n",
      " '35_016 35 Indian Pulsar Timing Array (InPTA) experiment using the upgraded wideband GMRT and the ORT  BHAL CHANDRA JOSHI'\n",
      " '34_102 34 Indian Pulsar Timing Array (InPTA) experiment using the upgraded wideband GMRT and the ORT  BHAL CHANDRA JOSHI'\n",
      " '33_062 33 Extending timing baseline for the ORTGMRT Indian Pulsar Timing Array (InPTA) experiment  BHAL CHANDRA JOSHI'\n",
      " '33_076 33 Towards precision pulsar timing with the upgraded GMRT  Yashwant Gupta'\n",
      " '32_032 32 Towards precision pulsar timing with the upgraded GMRT  Yashwant Gupta'\n",
      " '32_092 32 Extending timing baseline for the ORTGMRT Indian Pulsar Timing Array (InPTA) experiment  BHAL CHANDRA JOSHI'\n",
      " '31_057 31 Towards precision pulsar timing with the upgraded GMRT  Yashwant Gupta'\n",
      " '31_107 31 Extending timing baseline for the pilot proposal for Indian Pulsar Timing Array (InPTA)  BHAL CHANDRA JOSHI'\n",
      " '30_043 30 Towards high precision pulsar timing with the upgraded GMRT  Yashwant Gupta'\n",
      " '30_050 30 Continuing observations for a Pilot proposal for an Indian Pulsar Timing Array (IndPTA)  BHAL CHANDRA JOSHI'\n",
      " '29_064 29 A Pilot proposal for an Indian Pulsar Timing Array (IndPTA)  BHAL CHANDRA JOSHI']\n"
     ]
    }
   ],
   "source": [
    "print(proposalinf)"
   ]
  },
  {
   "cell_type": "code",
   "execution_count": 9,
   "metadata": {},
   "outputs": [],
   "source": [
    "from sqlalchemy.ext.declarative import declarative_base\n",
    "Base = declarative_base()"
   ]
  },
  {
   "cell_type": "code",
   "execution_count": 10,
   "metadata": {},
   "outputs": [],
   "source": [
    "from sqlalchemy.orm import sessionmaker\n",
    "Session = sessionmaker(bind=engine)\n",
    "session = Session()"
   ]
  },
  {
   "cell_type": "code",
   "execution_count": 11,
   "metadata": {},
   "outputs": [],
   "source": [
    "from sqlalchemy import Column, Integer, String"
   ]
  },
  {
   "cell_type": "code",
   "execution_count": 12,
   "metadata": {},
   "outputs": [],
   "source": [
    "class Telescope(Base):\n",
    "    __tablename__ = 'telescopes'\n",
    "    \n",
    "    Telescope_ID = Column(String(45), primary_key=True)\n",
    "    Telescope_name = Column(String(45))\n",
    "    #lat = Column(String(500))\n",
    "    #long = Column(String(45))\n",
    "\n",
    "    def __repr__(self):\n",
    "        return \"<telescopes(Telescope_ID='%s',Telescope_name='%s')>\" % (self.Telescope_ID, self.Telescope_name)"
   ]
  },
  {
   "cell_type": "code",
   "execution_count": 13,
   "metadata": {},
   "outputs": [],
   "source": [
    "GMRT= Telescope(Telescope_ID='GMRT',Telescope_name='Giant Meterwave Radio Telescope')\n",
    "#session.add(GMRT)"
   ]
  },
  {
   "cell_type": "code",
   "execution_count": 14,
   "metadata": {},
   "outputs": [
    {
     "data": {
      "text/plain": [
       "Table('telescopes', MetaData(bind=None), Column('Telescope_ID', String(length=45), table=<telescopes>, primary_key=True, nullable=False), Column('Telescope_name', String(length=45), table=<telescopes>), schema=None)"
      ]
     },
     "execution_count": 14,
     "metadata": {},
     "output_type": "execute_result"
    }
   ],
   "source": [
    "Telescope.__table__"
   ]
  },
  {
   "cell_type": "code",
   "execution_count": 15,
   "metadata": {},
   "outputs": [],
   "source": [
    "#Creating table Proposal\n",
    "from sqlalchemy import ForeignKey\n",
    "from sqlalchemy.orm import relationship\n",
    "\n",
    "class Proposal(Base):\n",
    "    __tablename__ = 'proposal'\n",
    "    \n",
    "    number = Column(String(45), primary_key=True)\n",
    "    cycle_number = Column(String(45))\n",
    "    title = Column(String(500))\n",
    "    Telescope_ID = Column(String(45),ForeignKey(\"Telescope.Telescope_id\"))\n",
    "    PI_ID = Column(Integer,ForeignKey(\"Member.ID\"))\n",
    "    #file = Column(String(500))\n",
    "    \n",
    "    telescope = relationship(\"Telescope\")\n",
    "    PI = relationship(\"User\")\n",
    "\n",
    "\n",
    "\n",
    "    def __repr__(self):\n",
    "        return \"<proposal(number='%s',cycle_number='%s',title='%s',telescope_ID='%s',PI_ID='%d',file='%s )>\" % (self.number, self.cycle_number, self.title, self.telescope_ID, self.PI_ID, self.file)"
   ]
  },
  {
   "cell_type": "code",
   "execution_count": 16,
   "metadata": {},
   "outputs": [
    {
     "data": {
      "text/plain": [
       "Table('proposal', MetaData(bind=None), Column('number', String(length=45), table=<proposal>, primary_key=True, nullable=False), Column('cycle_number', String(length=45), table=<proposal>), Column('title', String(length=500), table=<proposal>), Column('Telescope_ID', String(length=45), ForeignKey('Telescope.Telescope_id'), table=<proposal>), Column('PI_ID', Integer(), ForeignKey('Member.ID'), table=<proposal>), schema=None)"
      ]
     },
     "execution_count": 16,
     "metadata": {},
     "output_type": "execute_result"
    }
   ],
   "source": [
    "Proposal.__table__"
   ]
  },
  {
   "cell_type": "code",
   "execution_count": 17,
   "metadata": {},
   "outputs": [
    {
     "name": "stdout",
     "output_type": "stream",
     "text": [
      "2020-08-27 20:02:54,171 INFO sqlalchemy.engine.base.Engine SELECT CAST('test plain returns' AS VARCHAR(60)) AS anon_1\n",
      "2020-08-27 20:02:54,174 INFO sqlalchemy.engine.base.Engine ()\n",
      "2020-08-27 20:02:54,177 INFO sqlalchemy.engine.base.Engine SELECT CAST('test unicode returns' AS VARCHAR(60)) AS anon_1\n",
      "2020-08-27 20:02:54,179 INFO sqlalchemy.engine.base.Engine ()\n",
      "2020-08-27 20:02:54,185 INFO sqlalchemy.engine.base.Engine PRAGMA main.table_info(\"telescopes\")\n",
      "2020-08-27 20:02:54,188 INFO sqlalchemy.engine.base.Engine ()\n",
      "2020-08-27 20:02:54,193 INFO sqlalchemy.engine.base.Engine PRAGMA main.table_info(\"proposal\")\n",
      "2020-08-27 20:02:54,195 INFO sqlalchemy.engine.base.Engine ()\n"
     ]
    }
   ],
   "source": [
    "Base.metadata.create_all(engine)"
   ]
  },
  {
   "cell_type": "code",
   "execution_count": 18,
   "metadata": {},
   "outputs": [],
   "source": [
    "session.add(GMRT)"
   ]
  },
  {
   "cell_type": "code",
   "execution_count": 21,
   "metadata": {},
   "outputs": [
    {
     "ename": "ValueError",
     "evalue": "too many values to unpack (expected 4)",
     "output_type": "error",
     "traceback": [
      "\u001b[1;31m---------------------------------------------------------------------------\u001b[0m",
      "\u001b[1;31mValueError\u001b[0m                                Traceback (most recent call last)",
      "\u001b[1;32m<ipython-input-21-69d0023d3dc1>\u001b[0m in \u001b[0;36m<module>\u001b[1;34m\u001b[0m\n\u001b[1;32m----> 1\u001b[1;33m \u001b[0mproposals\u001b[0m \u001b[1;33m=\u001b[0m \u001b[1;33m[\u001b[0m\u001b[0mProposal\u001b[0m\u001b[1;33m(\u001b[0m\u001b[0mnumber\u001b[0m\u001b[1;33m=\u001b[0m\u001b[0mProposal_ID\u001b[0m\u001b[1;33m,\u001b[0m \u001b[0mcycle_number\u001b[0m\u001b[1;33m=\u001b[0m\u001b[0mCycle_Number\u001b[0m\u001b[1;33m,\u001b[0m \u001b[0mtitle\u001b[0m\u001b[1;33m=\u001b[0m\u001b[0mTitle\u001b[0m\u001b[1;33m,\u001b[0m \u001b[0mpi_id\u001b[0m\u001b[1;33m=\u001b[0m \u001b[0mPI_ID\u001b[0m\u001b[1;33m)\u001b[0m \u001b[1;32mfor\u001b[0m \u001b[0mProposal_ID\u001b[0m\u001b[1;33m,\u001b[0m \u001b[0mCycle_Number\u001b[0m\u001b[1;33m,\u001b[0m \u001b[0mTitle\u001b[0m\u001b[1;33m,\u001b[0m \u001b[0mPI_ID\u001b[0m \u001b[1;32min\u001b[0m \u001b[0mproposalinf\u001b[0m\u001b[1;33m]\u001b[0m\u001b[1;33m\u001b[0m\u001b[1;33m\u001b[0m\u001b[0m\n\u001b[0m",
      "\u001b[1;32m<ipython-input-21-69d0023d3dc1>\u001b[0m in \u001b[0;36m<listcomp>\u001b[1;34m(.0)\u001b[0m\n\u001b[1;32m----> 1\u001b[1;33m \u001b[0mproposals\u001b[0m \u001b[1;33m=\u001b[0m \u001b[1;33m[\u001b[0m\u001b[0mProposal\u001b[0m\u001b[1;33m(\u001b[0m\u001b[0mnumber\u001b[0m\u001b[1;33m=\u001b[0m\u001b[0mProposal_ID\u001b[0m\u001b[1;33m,\u001b[0m \u001b[0mcycle_number\u001b[0m\u001b[1;33m=\u001b[0m\u001b[0mCycle_Number\u001b[0m\u001b[1;33m,\u001b[0m \u001b[0mtitle\u001b[0m\u001b[1;33m=\u001b[0m\u001b[0mTitle\u001b[0m\u001b[1;33m,\u001b[0m \u001b[0mpi_id\u001b[0m\u001b[1;33m=\u001b[0m \u001b[0mPI_ID\u001b[0m\u001b[1;33m)\u001b[0m \u001b[1;32mfor\u001b[0m \u001b[0mProposal_ID\u001b[0m\u001b[1;33m,\u001b[0m \u001b[0mCycle_Number\u001b[0m\u001b[1;33m,\u001b[0m \u001b[0mTitle\u001b[0m\u001b[1;33m,\u001b[0m \u001b[0mPI_ID\u001b[0m \u001b[1;32min\u001b[0m \u001b[0mproposalinf\u001b[0m\u001b[1;33m]\u001b[0m\u001b[1;33m\u001b[0m\u001b[1;33m\u001b[0m\u001b[0m\n\u001b[0m",
      "\u001b[1;31mValueError\u001b[0m: too many values to unpack (expected 4)"
     ]
    }
   ],
   "source": [
    "proposals = [Proposal(number=Proposal_ID, cycle_number=Cycle_Number, title=Title, pi_id= PI_ID) for Proposal_ID, Cycle_Number, Title, PI_ID in proposalinf]"
   ]
  },
  {
   "cell_type": "code",
   "execution_count": null,
   "metadata": {},
   "outputs": [],
   "source": [
    "session.add_all(proposals)"
   ]
  },
  {
   "cell_type": "code",
   "execution_count": null,
   "metadata": {},
   "outputs": [],
   "source": [
    "session.rollback()"
   ]
  },
  {
   "cell_type": "code",
   "execution_count": null,
   "metadata": {},
   "outputs": [],
   "source": [
    "pro = session.query(Proposal).filter_by(number='38_014').first()"
   ]
  },
  {
   "cell_type": "code",
   "execution_count": null,
   "metadata": {},
   "outputs": [],
   "source": [
    "pro is proposal"
   ]
  },
  {
   "cell_type": "code",
   "execution_count": null,
   "metadata": {},
   "outputs": [],
   "source": [
    "session.commit()"
   ]
  },
  {
   "cell_type": "code",
   "execution_count": null,
   "metadata": {},
   "outputs": [],
   "source": [
    "for Proposal in session.query(Proposal).order_by(Proposal.number):\n",
    "    print( Proposal.number,Proposal.cycle_number)"
   ]
  },
  {
   "cell_type": "code",
   "execution_count": null,
   "metadata": {},
   "outputs": [],
   "source": [
    "#pro.cycle_number"
   ]
  },
  {
   "cell_type": "code",
   "execution_count": null,
   "metadata": {},
   "outputs": [],
   "source": [
    "from sqlalchemy import func\n",
    "\n",
    "session.query(func.count(Proposal.number)).scalar()"
   ]
  },
  {
   "cell_type": "code",
   "execution_count": null,
   "metadata": {},
   "outputs": [],
   "source": [
    "#Foreign Key\n",
    "from sqlalchemy import ForeignKey\n",
    "from sqlalchemy.orm import relationship\n",
    "\n",
    "class Member(Base):\n",
    "    __tablename__ = 'members'\n",
    "    \n",
    "    ID = Column(Integer, ForeignKey('PI_ID.ID'), primary_key=True,)\n",
    "    name = Column(String(45),nullable = False)\n",
    "    username = Column(String(45),nullable = False)\n",
    "    email = Column(String(45),nullable = False)\n",
    "    \n",
    "    # Access the user corresponding to an address.\n",
    "    proposal = relationship(\"Proposal\", back_populates=\"members\")\n",
    "\n",
    "    def __repr__(self):\n",
    "        return \"<Member(ID='%d')>\" % self.ID"
   ]
  },
  {
   "cell_type": "code",
   "execution_count": null,
   "metadata": {},
   "outputs": [],
   "source": [
    "Base.metadata.create_all(engine)"
   ]
  },
  {
   "cell_type": "code",
   "execution_count": null,
   "metadata": {},
   "outputs": [],
   "source": []
  }
 ],
 "metadata": {
  "kernelspec": {
   "display_name": "Python 3",
   "language": "python",
   "name": "python3"
  },
  "language_info": {
   "codemirror_mode": {
    "name": "ipython",
    "version": 3
   },
   "file_extension": ".py",
   "mimetype": "text/x-python",
   "name": "python",
   "nbconvert_exporter": "python",
   "pygments_lexer": "ipython3",
   "version": "3.7.7"
  }
 },
 "nbformat": 4,
 "nbformat_minor": 4
}
