{
 "cells": [
  {
   "cell_type": "code",
   "execution_count": 73,
   "metadata": {},
   "outputs": [],
   "source": [
    "from sqlalchemy.ext.declarative import declarative_base\n",
    "from sqlalchemy import Column, Integer, String, Float, ForeignKey\n",
    "from sqlalchemy.orm import sessionmaker\n",
    "from sqlalchemy.orm import relationship"
   ]
  },
  {
   "cell_type": "code",
   "execution_count": 74,
   "metadata": {},
   "outputs": [],
   "source": [
    "import numpy as np"
   ]
  },
  {
   "cell_type": "code",
   "execution_count": 75,
   "metadata": {},
   "outputs": [],
   "source": [
    "from sqlalchemy import create_engine\n",
    "engine = create_engine('sqlite:///InPTA.db', echo = True)"
   ]
  },
  {
   "cell_type": "code",
   "execution_count": 76,
   "metadata": {},
   "outputs": [],
   "source": [
    "Base = declarative_base()"
   ]
  },
  {
   "cell_type": "code",
   "execution_count": 77,
   "metadata": {},
   "outputs": [],
   "source": [
    "class Member(Base):\n",
    "    __tablename__ = 'members'\n",
    "    \n",
    "    id = Column(Integer, primary_key=True)\n",
    "    name = Column(String(100))\n",
    "    username = Column(String(45))\n",
    "    email = Column(String(100))\n",
    "\n",
    "    def __repr__(self):\n",
    "        return \"<Member(id='%s', name='%s', username='%s')>\" % (self.id, self.name, self.username)"
   ]
  },
  {
   "cell_type": "code",
   "execution_count": 78,
   "metadata": {},
   "outputs": [],
   "source": [
    "userinfos = np.genfromtxt(r'users.txt',dtype=str,delimiter='\\t',skip_header=1)"
   ]
  },
  {
   "cell_type": "code",
   "execution_count": 79,
   "metadata": {},
   "outputs": [],
   "source": [
    "#print(userinfos)"
   ]
  },
  {
   "cell_type": "code",
   "execution_count": 80,
   "metadata": {},
   "outputs": [],
   "source": [
    "def hms_to_rad(raj):\n",
    "    if raj.count(':') == 2:\n",
    "        hh, mm, ss = raj.split(':')\n",
    "        rad = (float(hh) + float(mm)/60. + float(ss)/3600.)*np.pi/12.\n",
    "        return rad\n",
    "    elif raj.count(':') == 1:\n",
    "        hh, mm = raj.split(':')\n",
    "        rad = (float(hh) + float(mm)/60.)*np.pi/12.\n",
    "        return rad\n",
    "    elif raj.count(':') == 0:\n",
    "        rad = (float(raj))*np.pi/12.\n",
    "        return rad\n",
    "    \n",
    "def dms_to_rad(decj):\n",
    "    if decj.count(':') == 2:\n",
    "        dd, mm, ss = decj.split(':')\n",
    "        sign = np.sign(float(dd))\n",
    "        rad = sign*(sign*float(dd) + float(mm)/60. + float(ss)/3600.)*np.pi/180.\n",
    "        return rad\n",
    "    elif decj.count(':') == 1:\n",
    "        dd, mm = decj.split(':')\n",
    "        sign = np.sign(float(dd))\n",
    "        rad = sign*(sign*float(dd) + float(mm)/60.)*np.pi/180.\n",
    "        return rad\n",
    "    elif decj.count(':') == 0:\n",
    "        rad = (float(decj))*np.pi/180.\n",
    "        return rad"
   ]
  },
  {
   "cell_type": "code",
   "execution_count": 81,
   "metadata": {},
   "outputs": [],
   "source": [
    "class Source(Base):\n",
    "    __tablename__ = 'sources'\n",
    "    \n",
    "    jname = Column(String(45), primary_key=True)\n",
    "    srctype = Column(String(10))\n",
    "    raj = Column(Float)\n",
    "    decj = Column(Float)\n",
    "        \n",
    "    def __repr__(self):\n",
    "        return \"<Source(JName='%s',SrcType='%s', RA='%s', DEC='%s')>\" % (self.jname,self.srctype,self.raj,self.decj)"
   ]
  },
  {
   "cell_type": "code",
   "execution_count": 82,
   "metadata": {},
   "outputs": [],
   "source": [
    "psrinfos = np.genfromtxt(r'psrs.txt',skip_header=1,dtype=str,delimiter='\\t')"
   ]
  },
  {
   "cell_type": "code",
   "execution_count": 83,
   "metadata": {},
   "outputs": [
    {
     "name": "stdout",
     "output_type": "stream",
     "text": [
      "[['J0002+6216' '00:02:58.17' '+62:16:09.4']\n",
      " ['J0006+1834' '00:06:04.8' '+18:34:59']\n",
      " ['J0007+7303' '00:07:01.7' '+73:03:07.4']\n",
      " ...\n",
      " ['J2352+65' '23:52' '+65']\n",
      " ['J2354-22' '23:54:26' '-22:51:53']\n",
      " ['J2354+6155' '23:54:04.724' '+61:55:46.79']]\n"
     ]
    }
   ],
   "source": [
    "print(psrinfos)"
   ]
  },
  {
   "cell_type": "code",
   "execution_count": 84,
   "metadata": {},
   "outputs": [],
   "source": [
    "class Telescope(Base):\n",
    "    __tablename__ = 'telescopes'\n",
    "    \n",
    "    id = Column(String(10), primary_key=True)\n",
    "    name = Column(String(45))\n",
    "    lat = Column(Float)\n",
    "    long = Column(Float)\n",
    "\n",
    "    def __repr__(self):\n",
    "        return \"<Telescope('%s')>\" % (self.id)"
   ]
  },
  {
   "cell_type": "code",
   "execution_count": 85,
   "metadata": {},
   "outputs": [],
   "source": [
    "class Proposal(Base):\n",
    "    __tablename__ = 'proposals'\n",
    "    \n",
    "    number = Column(String(10), primary_key=True)\n",
    "    cycle_number = Column(Integer)\n",
    "    title = Column(String(500))\n",
    "    telescope_id = Column(String(10), ForeignKey(\"telescopes.id\")) \n",
    "    pi_id = Column(Integer, ForeignKey(\"members.id\")) # The foreign key is given like \"tablename.fieldname\".\n",
    "    file = Column(String(500))\n",
    "    \n",
    "    telescope = relationship(\"Telescope\")\n",
    "    PI = relationship(\"Member\")\n",
    "\n",
    "    def __repr__(self):\n",
    "        return \"<Proposal(number='%s',title='%s')>\" % (self.number, self.title)"
   ]
  },
  {
   "cell_type": "code",
   "execution_count": 86,
   "metadata": {},
   "outputs": [],
   "source": [
    "proposalinfs = np.genfromtxt(r'pr.txt',dtype=str,skip_header=1,delimiter=',')"
   ]
  },
  {
   "cell_type": "code",
   "execution_count": 87,
   "metadata": {},
   "outputs": [
    {
     "name": "stdout",
     "output_type": "stream",
     "text": [
      "[['38_014' '38'\n",
      "  'Indian Pulsar Timing Array (InPTA) experiment using the upgraded wideband GMRT and the ORTT : 2020 Update'\n",
      "  ' bcj']\n",
      " ['37_010' '37'\n",
      "  'Indian Pulsar Timing Array (InPTA) experiment using the upgraded wideband GMRT and the ORT : 2019 Update'\n",
      "  'bcj']\n",
      " ['37_013' '37'\n",
      "  'A Study of possible profile mode changes in the millisecond pulsar J2124-3358'\n",
      "  'achoudhary']\n",
      " ['35_016' '35'\n",
      "  'Indian Pulsar Timing Array (InPTA) experiment using the upgraded wideband GMRT and the ORT'\n",
      "  'bcj']\n",
      " ['34_102' '34'\n",
      "  'Indian Pulsar Timing Array (InPTA) experiment using the upgraded wideband GMRT and the ORT'\n",
      "  'bcj']\n",
      " ['33_062' '33'\n",
      "  'Extending timing baseline for the ORTGMRT Indian Pulsar Timing Array (InPTA) experiment'\n",
      "  'bcj']\n",
      " ['33_076' '33' 'Towards precision pulsar timing with the upgraded GMRT'\n",
      "  'ygupta']\n",
      " ['32_032' '32' 'Towards precision pulsar timing with the upgraded GMRT'\n",
      "  'ygupta']\n",
      " ['32_092' '32'\n",
      "  'Extending timing baseline for the ORTGMRT Indian Pulsar Timing Array (InPTA) experiment'\n",
      "  'bcj']\n",
      " ['31_057' '31' 'Towards precision pulsar timing with the upgraded GMRT'\n",
      "  'ygupta']\n",
      " ['31_107' '31'\n",
      "  'Extending timing baseline for the pilot proposal for Indian Pulsar Timing Array (InPTA)'\n",
      "  'bcj']\n",
      " ['30_043' '30'\n",
      "  'Towards high precision pulsar timing with the upgraded GMRT' 'ygupta']\n",
      " ['30_050' '30'\n",
      "  'Continuing observations for a Pilot proposal for an Indian Pulsar Timing Array (IndPTA)'\n",
      "  'bcj']\n",
      " ['29_064' '29'\n",
      "  'A Pilot proposal for an Indian Pulsar Timing Array (IndPTA)' 'bcj']]\n"
     ]
    }
   ],
   "source": [
    "print(proposalinfs)"
   ]
  },
  {
   "cell_type": "code",
   "execution_count": 88,
   "metadata": {},
   "outputs": [
    {
     "name": "stdout",
     "output_type": "stream",
     "text": [
      "2020-09-10 16:18:01,216 INFO sqlalchemy.engine.base.Engine SELECT CAST('test plain returns' AS VARCHAR(60)) AS anon_1\n",
      "2020-09-10 16:18:01,219 INFO sqlalchemy.engine.base.Engine ()\n",
      "2020-09-10 16:18:01,225 INFO sqlalchemy.engine.base.Engine SELECT CAST('test unicode returns' AS VARCHAR(60)) AS anon_1\n",
      "2020-09-10 16:18:01,228 INFO sqlalchemy.engine.base.Engine ()\n",
      "2020-09-10 16:18:01,231 INFO sqlalchemy.engine.base.Engine PRAGMA main.table_info(\"members\")\n",
      "2020-09-10 16:18:01,233 INFO sqlalchemy.engine.base.Engine ()\n",
      "2020-09-10 16:18:01,236 INFO sqlalchemy.engine.base.Engine PRAGMA main.table_info(\"sources\")\n",
      "2020-09-10 16:18:01,237 INFO sqlalchemy.engine.base.Engine ()\n",
      "2020-09-10 16:18:01,239 INFO sqlalchemy.engine.base.Engine PRAGMA main.table_info(\"telescopes\")\n",
      "2020-09-10 16:18:01,240 INFO sqlalchemy.engine.base.Engine ()\n",
      "2020-09-10 16:18:01,243 INFO sqlalchemy.engine.base.Engine PRAGMA main.table_info(\"proposals\")\n",
      "2020-09-10 16:18:01,244 INFO sqlalchemy.engine.base.Engine ()\n"
     ]
    }
   ],
   "source": [
    "Base.metadata.create_all(engine)"
   ]
  },
  {
   "cell_type": "code",
   "execution_count": 89,
   "metadata": {},
   "outputs": [],
   "source": [
    "Session = sessionmaker(bind=engine)\n",
    "session = Session()"
   ]
  },
  {
   "cell_type": "code",
   "execution_count": 90,
   "metadata": {},
   "outputs": [],
   "source": [
    "#session.rollback()"
   ]
  },
  {
   "cell_type": "code",
   "execution_count": 91,
   "metadata": {},
   "outputs": [],
   "source": [
    "#testsrc = Source(jname=\"J0002+6216\", raj=\"00:02:58.17\", decj=\"+62:16:09.4\", srctype=\"PSR\")\n",
    "#session.add(testsrc)\n",
    "#session.commit()\n",
    "\n",
    "#testsrc = session.query(Source).filter(Source.jname=='J0002+6216').one()"
   ]
  },
  {
   "cell_type": "code",
   "execution_count": 92,
   "metadata": {},
   "outputs": [
    {
     "data": {
      "text/plain": [
       "array([['J0002+6216', '00:02:58.17', '+62:16:09.4'],\n",
       "       ['J0006+1834', '00:06:04.8', '+18:34:59'],\n",
       "       ['J0007+7303', '00:07:01.7', '+73:03:07.4'],\n",
       "       ...,\n",
       "       ['J2352+65', '23:52', '+65'],\n",
       "       ['J2354-22', '23:54:26', '-22:51:53'],\n",
       "       ['J2354+6155', '23:54:04.724', '+61:55:46.79']], dtype='<U16')"
      ]
     },
     "execution_count": 92,
     "metadata": {},
     "output_type": "execute_result"
    }
   ],
   "source": [
    "psrinfos"
   ]
  },
  {
   "cell_type": "code",
   "execution_count": 93,
   "metadata": {},
   "outputs": [],
   "source": [
    "plsrinfs = [Source(jname=PSRJ, raj=hms_to_rad(RAJ), decj=dms_to_rad(DECJ), srctype=\"PSR\") for PSRJ, RAJ, DECJ in psrinfos]"
   ]
  },
  {
   "cell_type": "code",
   "execution_count": 94,
   "metadata": {},
   "outputs": [
    {
     "data": {
      "text/plain": [
       "<Source(JName='J0006+1834',SrcType='PSR', RA='0.02652900463031381', DEC='0.3243355045254685')>"
      ]
     },
     "execution_count": 94,
     "metadata": {},
     "output_type": "execute_result"
    }
   ],
   "source": [
    "plsrinfs[1]"
   ]
  },
  {
   "cell_type": "code",
   "execution_count": 95,
   "metadata": {},
   "outputs": [],
   "source": [
    "session.add_all(plsrinfs)\n",
    "session.rollback()\n",
    "session.commit()"
   ]
  },
  {
   "cell_type": "code",
   "execution_count": 96,
   "metadata": {},
   "outputs": [
    {
     "name": "stdout",
     "output_type": "stream",
     "text": [
      "2020-09-10 16:18:08,534 INFO sqlalchemy.engine.base.Engine BEGIN (implicit)\n",
      "2020-09-10 16:18:08,538 INFO sqlalchemy.engine.base.Engine SELECT sources.jname AS sources_jname, sources.srctype AS sources_srctype, sources.raj AS sources_raj, sources.decj AS sources_decj \n",
      "FROM sources \n",
      "WHERE sources.jname = ?\n",
      " LIMIT ? OFFSET ?\n",
      "2020-09-10 16:18:08,540 INFO sqlalchemy.engine.base.Engine ('J0002+6216', 1, 0)\n"
     ]
    }
   ],
   "source": [
    "p = session.query(Source).filter_by(jname='J0002+6216').first()"
   ]
  },
  {
   "cell_type": "code",
   "execution_count": 97,
   "metadata": {},
   "outputs": [
    {
     "data": {
      "text/plain": [
       "<Source(JName='J0002+6216',SrcType='PSR', RA='0.0064784440172464515', DEC='1.0868039200611601')>"
      ]
     },
     "execution_count": 97,
     "metadata": {},
     "output_type": "execute_result"
    }
   ],
   "source": [
    "p"
   ]
  },
  {
   "cell_type": "code",
   "execution_count": 98,
   "metadata": {},
   "outputs": [
    {
     "name": "stdout",
     "output_type": "stream",
     "text": [
      "2020-09-10 16:18:11,381 INFO sqlalchemy.engine.base.Engine SELECT sources.jname AS sources_jname, sources.srctype AS sources_srctype, sources.raj AS sources_raj, sources.decj AS sources_decj \n",
      "FROM sources ORDER BY sources.jname\n",
      "2020-09-10 16:18:11,384 INFO sqlalchemy.engine.base.Engine ()\n",
      "J0002+6216 PSR 0.0064784440172464515 1.0868039200611601\n"
     ]
    }
   ],
   "source": [
    "for Source in session.query(Source).order_by(Source.jname):\n",
    "    print( Source.jname,Source.srctype, Source.raj,Source.decj)"
   ]
  },
  {
   "cell_type": "code",
   "execution_count": 99,
   "metadata": {},
   "outputs": [
    {
     "name": "stdout",
     "output_type": "stream",
     "text": [
      "2020-09-10 16:18:17,604 INFO sqlalchemy.engine.base.Engine SELECT telescopes.id AS telescopes_id, telescopes.name AS telescopes_name, telescopes.lat AS telescopes_lat, telescopes.long AS telescopes_long \n",
      "FROM telescopes \n",
      "WHERE telescopes.id = ?\n",
      "2020-09-10 16:18:17,606 INFO sqlalchemy.engine.base.Engine ('GMRT',)\n"
     ]
    }
   ],
   "source": [
    "#mrt = Telescope(id='GMRT', name='Giant Meterwave Radio Telescope', lat=0.33329486135, long=1.29241146296)\n",
    "#ession.add(gmrt)\n",
    "#session.commit()\n",
    "\n",
    "gmrt = session.query(Telescope).filter(Telescope.id=='GMRT').one()"
   ]
  },
  {
   "cell_type": "code",
   "execution_count": 100,
   "metadata": {},
   "outputs": [],
   "source": [
    "#testmember = Member(name=\"Test User\", username=\"testuser\", email=\"testusersassd@gmail.com\")\n",
    "#session.add(testmember)\n",
    "#session.commit()\n",
    "#testuser = session.query(Member).filter(Member.username=='testuser').one()"
   ]
  },
  {
   "cell_type": "code",
   "execution_count": 101,
   "metadata": {},
   "outputs": [],
   "source": [
    "members = [Member(name=name, email=email, username=uname) for name, email,uname in userinfos]"
   ]
  },
  {
   "cell_type": "code",
   "execution_count": 102,
   "metadata": {},
   "outputs": [
    {
     "name": "stdout",
     "output_type": "stream",
     "text": [
      "2020-09-10 16:18:23,682 INFO sqlalchemy.engine.base.Engine INSERT INTO members (name, username, email) VALUES (?, ?, ?)\n",
      "2020-09-10 16:18:23,685 INFO sqlalchemy.engine.base.Engine ('Abhimanyu Susobhanan', 'asusobhanan', 'abhisrkckl@gmail.com')\n",
      "2020-09-10 16:18:23,687 INFO sqlalchemy.engine.base.Engine INSERT INTO members (name, username, email) VALUES (?, ?, ?)\n",
      "2020-09-10 16:18:23,688 INFO sqlalchemy.engine.base.Engine ('Arpita Choudhary', 'achoudhary', 'arp.astro@gmail.com')\n",
      "2020-09-10 16:18:23,690 INFO sqlalchemy.engine.base.Engine INSERT INTO members (name, username, email) VALUES (?, ?, ?)\n",
      "2020-09-10 16:18:23,691 INFO sqlalchemy.engine.base.Engine ('Arun Kumar Naidu', 'arun', 'arunnaidu123@gmail.com')\n",
      "2020-09-10 16:18:23,693 INFO sqlalchemy.engine.base.Engine INSERT INTO members (name, username, email) VALUES (?, ?, ?)\n",
      "2020-09-10 16:18:23,694 INFO sqlalchemy.engine.base.Engine ('Avishek Basu', 'avishek', 'avishekbs3@gmail.com')\n",
      "2020-09-10 16:18:23,696 INFO sqlalchemy.engine.base.Engine INSERT INTO members (name, username, email) VALUES (?, ?, ?)\n",
      "2020-09-10 16:18:23,697 INFO sqlalchemy.engine.base.Engine ('Bhal Chandra Joshi', 'bcj', 'bcj@ncra.tifr.res.in')\n",
      "2020-09-10 16:18:23,699 INFO sqlalchemy.engine.base.Engine INSERT INTO members (name, username, email) VALUES (?, ?, ?)\n",
      "2020-09-10 16:18:23,700 INFO sqlalchemy.engine.base.Engine ('Dhruv Pathak', 'dhruv.pathak', 'pathakdhruv9786@gmail.com')\n",
      "2020-09-10 16:18:23,702 INFO sqlalchemy.engine.base.Engine INSERT INTO members (name, username, email) VALUES (?, ?, ?)\n",
      "2020-09-10 16:18:23,703 INFO sqlalchemy.engine.base.Engine ('Achamveedu Gopakumar', '', 'gopu.tifr@gmail.com')\n",
      "2020-09-10 16:18:23,705 INFO sqlalchemy.engine.base.Engine INSERT INTO members (name, username, email) VALUES (?, ?, ?)\n",
      "2020-09-10 16:18:23,706 INFO sqlalchemy.engine.base.Engine ('Jaikhomba Singha', 'jsingha', 'mjaikhomba@gmail.com')\n",
      "2020-09-10 16:18:23,708 INFO sqlalchemy.engine.base.Engine INSERT INTO members (name, username, email) VALUES (?, ?, ?)\n",
      "2020-09-10 16:18:23,709 INFO sqlalchemy.engine.base.Engine ('Kishalay De', 'kishalay', 'kde@astro.caltech.edu')\n",
      "2020-09-10 16:18:23,714 INFO sqlalchemy.engine.base.Engine INSERT INTO members (name, username, email) VALUES (?, ?, ?)\n",
      "2020-09-10 16:18:23,715 INFO sqlalchemy.engine.base.Engine ('Krishnakumar MA', 'kkma', 'kk.ambalappat@gmail.com')\n",
      "2020-09-10 16:18:23,716 INFO sqlalchemy.engine.base.Engine INSERT INTO members (name, username, email) VALUES (?, ?, ?)\n",
      "2020-09-10 16:18:23,718 INFO sqlalchemy.engine.base.Engine ('Lankeswar Dey', 'lankeswar.dey', 'lanky441@gmail.com')\n",
      "2020-09-10 16:18:23,719 INFO sqlalchemy.engine.base.Engine INSERT INTO members (name, username, email) VALUES (?, ?, ?)\n",
      "2020-09-10 16:18:23,720 INFO sqlalchemy.engine.base.Engine ('Manjari Bagchi', 'mbagchi', 'manjari.bagchi@gmail.com')\n",
      "2020-09-10 16:18:23,722 INFO sqlalchemy.engine.base.Engine INSERT INTO members (name, username, email) VALUES (?, ?, ?)\n",
      "2020-09-10 16:18:23,722 INFO sqlalchemy.engine.base.Engine ('Mayuresh Surnis', 'mpsurnis', 'msurnis@gmail.com')\n",
      "2020-09-10 16:18:23,724 INFO sqlalchemy.engine.base.Engine INSERT INTO members (name, username, email) VALUES (?, ?, ?)\n",
      "2020-09-10 16:18:23,725 INFO sqlalchemy.engine.base.Engine ('Neelam Dhanda', 'nbatra', 'neelam.dhanda@gmail.com')\n",
      "2020-09-10 16:18:23,727 INFO sqlalchemy.engine.base.Engine INSERT INTO members (name, username, email) VALUES (?, ?, ?)\n",
      "2020-09-10 16:18:23,729 INFO sqlalchemy.engine.base.Engine ('Nobleson K', 'nkunjappy', 'noble.son.k@gmail.com')\n",
      "2020-09-10 16:18:23,730 INFO sqlalchemy.engine.base.Engine INSERT INTO members (name, username, email) VALUES (?, ?, ?)\n",
      "2020-09-10 16:18:23,732 INFO sqlalchemy.engine.base.Engine ('P. K. Manoharan', 'mano', 'mano.rac@gmail.com')\n",
      "2020-09-10 16:18:23,733 INFO sqlalchemy.engine.base.Engine INSERT INTO members (name, username, email) VALUES (?, ?, ?)\n",
      "2020-09-10 16:18:23,735 INFO sqlalchemy.engine.base.Engine ('Raghav Girgaonkar', 'raghav', 'raghav.girgaonkar@gmail.com')\n",
      "2020-09-10 16:18:23,736 INFO sqlalchemy.engine.base.Engine INSERT INTO members (name, username, email) VALUES (?, ?, ?)\n",
      "2020-09-10 16:18:23,738 INFO sqlalchemy.engine.base.Engine ('Sai Chaitanya Susarla', 'ssusarla', 'saichaitus.99@gmail.com')\n",
      "2020-09-10 16:18:23,741 INFO sqlalchemy.engine.base.Engine INSERT INTO members (name, username, email) VALUES (?, ?, ?)\n",
      "2020-09-10 16:18:23,752 INFO sqlalchemy.engine.base.Engine ('Shantanu Desai', 'shantanu', 'shntn05@gmail.com')\n",
      "2020-09-10 16:18:23,756 INFO sqlalchemy.engine.base.Engine INSERT INTO members (name, username, email) VALUES (?, ?, ?)\n",
      "2020-09-10 16:18:23,757 INFO sqlalchemy.engine.base.Engine ('Suryarao Bethapudi', 'sbethapudi', 'shining.surya.d8@gmail.com')\n",
      "2020-09-10 16:18:23,758 INFO sqlalchemy.engine.base.Engine INSERT INTO members (name, username, email) VALUES (?, ?, ?)\n",
      "2020-09-10 16:18:23,759 INFO sqlalchemy.engine.base.Engine ('T Prabu', 'prabu', 'prabu@rri.res.in')\n",
      "2020-09-10 16:18:23,761 INFO sqlalchemy.engine.base.Engine INSERT INTO members (name, username, email) VALUES (?, ?, ?)\n",
      "2020-09-10 16:18:23,762 INFO sqlalchemy.engine.base.Engine ('Yashwant Gupta', 'ygupta', 'ygupta@ncra.tifr.res.in')\n",
      "2020-09-10 16:18:23,764 INFO sqlalchemy.engine.base.Engine INSERT INTO members (name, username, email) VALUES (?, ?, ?)\n",
      "2020-09-10 16:18:23,765 INFO sqlalchemy.engine.base.Engine ('Yogesh Maan', 'ymaan', 'ymaan4@gmail.com')\n",
      "2020-09-10 16:18:23,770 INFO sqlalchemy.engine.base.Engine COMMIT\n"
     ]
    }
   ],
   "source": [
    "session.add_all(members)\n",
    "session.commit()"
   ]
  },
  {
   "cell_type": "code",
   "execution_count": 103,
   "metadata": {},
   "outputs": [
    {
     "name": "stdout",
     "output_type": "stream",
     "text": [
      "2020-09-10 16:18:25,419 INFO sqlalchemy.engine.base.Engine BEGIN (implicit)\n",
      "2020-09-10 16:18:25,425 INFO sqlalchemy.engine.base.Engine SELECT members.id AS members_id, members.name AS members_name, members.username AS members_username, members.email AS members_email \n",
      "FROM members \n",
      "WHERE members.name = ?\n",
      " LIMIT ? OFFSET ?\n",
      "2020-09-10 16:18:25,427 INFO sqlalchemy.engine.base.Engine ('Abhimanyu Susobhanan', 1, 0)\n"
     ]
    }
   ],
   "source": [
    "m = session.query(Member).filter_by(name='Abhimanyu Susobhanan').first()"
   ]
  },
  {
   "cell_type": "code",
   "execution_count": 111,
   "metadata": {},
   "outputs": [],
   "source": [
    "def user_from_uname(uname):\n",
    "    return session.query(Member).filter_by(username=uname).one()"
   ]
  },
  {
   "cell_type": "code",
   "execution_count": 123,
   "metadata": {},
   "outputs": [
    {
     "name": "stdout",
     "output_type": "stream",
     "text": [
      "2020-09-10 16:25:12,904 INFO sqlalchemy.engine.base.Engine SELECT members.id AS members_id, members.name AS members_name, members.username AS members_username, members.email AS members_email \n",
      "FROM members \n",
      "WHERE members.username = ?\n",
      "2020-09-10 16:25:12,907 INFO sqlalchemy.engine.base.Engine ('achoudhary',)\n"
     ]
    },
    {
     "data": {
      "text/plain": [
       "<Member(id='3', name='Arpita Choudhary', username='achoudhary')>"
      ]
     },
     "execution_count": 123,
     "metadata": {},
     "output_type": "execute_result"
    }
   ],
   "source": [
    "user_from_uname('achoudhary')"
   ]
  },
  {
   "cell_type": "code",
   "execution_count": 125,
   "metadata": {},
   "outputs": [
    {
     "name": "stdout",
     "output_type": "stream",
     "text": [
      "2020-09-10 16:26:29,653 INFO sqlalchemy.engine.base.Engine SELECT members.id AS members_id, members.name AS members_name, members.username AS members_username, members.email AS members_email \n",
      "FROM members \n",
      "WHERE members.username = ?\n",
      "2020-09-10 16:26:29,661 INFO sqlalchemy.engine.base.Engine ('bcj',)\n",
      "2020-09-10 16:26:29,671 INFO sqlalchemy.engine.base.Engine SELECT members.id AS members_id, members.name AS members_name, members.username AS members_username, members.email AS members_email \n",
      "FROM members \n",
      "WHERE members.username = ?\n",
      "2020-09-10 16:26:29,675 INFO sqlalchemy.engine.base.Engine ('bcj',)\n",
      "2020-09-10 16:26:29,680 INFO sqlalchemy.engine.base.Engine SELECT members.id AS members_id, members.name AS members_name, members.username AS members_username, members.email AS members_email \n",
      "FROM members \n",
      "WHERE members.username = ?\n",
      "2020-09-10 16:26:29,682 INFO sqlalchemy.engine.base.Engine ('achoudhary',)\n",
      "2020-09-10 16:26:29,687 INFO sqlalchemy.engine.base.Engine SELECT members.id AS members_id, members.name AS members_name, members.username AS members_username, members.email AS members_email \n",
      "FROM members \n",
      "WHERE members.username = ?\n",
      "2020-09-10 16:26:29,690 INFO sqlalchemy.engine.base.Engine ('bcj',)\n",
      "2020-09-10 16:26:29,695 INFO sqlalchemy.engine.base.Engine SELECT members.id AS members_id, members.name AS members_name, members.username AS members_username, members.email AS members_email \n",
      "FROM members \n",
      "WHERE members.username = ?\n",
      "2020-09-10 16:26:29,697 INFO sqlalchemy.engine.base.Engine ('bcj',)\n",
      "2020-09-10 16:26:29,703 INFO sqlalchemy.engine.base.Engine SELECT members.id AS members_id, members.name AS members_name, members.username AS members_username, members.email AS members_email \n",
      "FROM members \n",
      "WHERE members.username = ?\n",
      "2020-09-10 16:26:29,704 INFO sqlalchemy.engine.base.Engine ('bcj',)\n",
      "2020-09-10 16:26:29,723 INFO sqlalchemy.engine.base.Engine SELECT members.id AS members_id, members.name AS members_name, members.username AS members_username, members.email AS members_email \n",
      "FROM members \n",
      "WHERE members.username = ?\n",
      "2020-09-10 16:26:29,724 INFO sqlalchemy.engine.base.Engine ('ygupta',)\n",
      "2020-09-10 16:26:29,726 INFO sqlalchemy.engine.base.Engine SELECT members.id AS members_id, members.name AS members_name, members.username AS members_username, members.email AS members_email \n",
      "FROM members \n",
      "WHERE members.username = ?\n",
      "2020-09-10 16:26:29,727 INFO sqlalchemy.engine.base.Engine ('ygupta',)\n",
      "2020-09-10 16:26:29,730 INFO sqlalchemy.engine.base.Engine SELECT members.id AS members_id, members.name AS members_name, members.username AS members_username, members.email AS members_email \n",
      "FROM members \n",
      "WHERE members.username = ?\n",
      "2020-09-10 16:26:29,731 INFO sqlalchemy.engine.base.Engine ('bcj',)\n",
      "2020-09-10 16:26:29,733 INFO sqlalchemy.engine.base.Engine SELECT members.id AS members_id, members.name AS members_name, members.username AS members_username, members.email AS members_email \n",
      "FROM members \n",
      "WHERE members.username = ?\n",
      "2020-09-10 16:26:29,734 INFO sqlalchemy.engine.base.Engine ('ygupta',)\n",
      "2020-09-10 16:26:29,736 INFO sqlalchemy.engine.base.Engine SELECT members.id AS members_id, members.name AS members_name, members.username AS members_username, members.email AS members_email \n",
      "FROM members \n",
      "WHERE members.username = ?\n",
      "2020-09-10 16:26:29,737 INFO sqlalchemy.engine.base.Engine ('bcj',)\n",
      "2020-09-10 16:26:29,739 INFO sqlalchemy.engine.base.Engine SELECT members.id AS members_id, members.name AS members_name, members.username AS members_username, members.email AS members_email \n",
      "FROM members \n",
      "WHERE members.username = ?\n",
      "2020-09-10 16:26:29,739 INFO sqlalchemy.engine.base.Engine ('ygupta',)\n",
      "2020-09-10 16:26:29,741 INFO sqlalchemy.engine.base.Engine SELECT members.id AS members_id, members.name AS members_name, members.username AS members_username, members.email AS members_email \n",
      "FROM members \n",
      "WHERE members.username = ?\n",
      "2020-09-10 16:26:29,742 INFO sqlalchemy.engine.base.Engine ('bcj',)\n",
      "2020-09-10 16:26:29,744 INFO sqlalchemy.engine.base.Engine SELECT members.id AS members_id, members.name AS members_name, members.username AS members_username, members.email AS members_email \n",
      "FROM members \n",
      "WHERE members.username = ?\n",
      "2020-09-10 16:26:29,748 INFO sqlalchemy.engine.base.Engine ('bcj',)\n"
     ]
    }
   ],
   "source": [
    "proposals = [Proposal(number=proposal_id.strip(), cycle_number=cycle_number.strip(), title=title.strip(), PI=user_from_uname(pi_uname.strip()), telescope=gmrt) for proposal_id, cycle_number, title, pi_uname in proposalinfs]"
   ]
  },
  {
   "cell_type": "code",
   "execution_count": 72,
   "metadata": {},
   "outputs": [
    {
     "data": {
      "text/plain": [
       "<Proposal(number='37_066',title='Bla bla')>"
      ]
     },
     "execution_count": 72,
     "metadata": {},
     "output_type": "execute_result"
    }
   ],
   "source": [
    "Proposal"
   ]
  },
  {
   "cell_type": "code",
   "execution_count": 58,
   "metadata": {},
   "outputs": [
    {
     "name": "stdout",
     "output_type": "stream",
     "text": [
      "2020-09-10 16:07:31,055 INFO sqlalchemy.engine.base.Engine ROLLBACK\n"
     ]
    }
   ],
   "source": [
    "session.add_all(proposals)\n",
    "session.rollback()\n",
    "session.commit()"
   ]
  },
  {
   "cell_type": "code",
   "execution_count": 59,
   "metadata": {},
   "outputs": [
    {
     "name": "stdout",
     "output_type": "stream",
     "text": [
      "2020-09-10 16:07:31,606 INFO sqlalchemy.engine.base.Engine BEGIN (implicit)\n",
      "2020-09-10 16:07:31,614 INFO sqlalchemy.engine.base.Engine SELECT proposals.number AS proposals_number, proposals.cycle_number AS proposals_cycle_number, proposals.title AS proposals_title, proposals.telescope_id AS proposals_telescope_id, proposals.pi_id AS proposals_pi_id, proposals.file AS proposals_file \n",
      "FROM proposals \n",
      "WHERE proposals.number = ?\n",
      " LIMIT ? OFFSET ?\n",
      "2020-09-10 16:07:31,617 INFO sqlalchemy.engine.base.Engine ('38_014', 1, 0)\n"
     ]
    }
   ],
   "source": [
    "pro = session.query(Proposal).filter_by(number='38_014').first()"
   ]
  },
  {
   "cell_type": "code",
   "execution_count": 60,
   "metadata": {},
   "outputs": [
    {
     "name": "stdout",
     "output_type": "stream",
     "text": [
      "2020-09-10 16:07:32,478 INFO sqlalchemy.engine.base.Engine SELECT proposals.number AS proposals_number, proposals.cycle_number AS proposals_cycle_number, proposals.title AS proposals_title, proposals.telescope_id AS proposals_telescope_id, proposals.pi_id AS proposals_pi_id, proposals.file AS proposals_file \n",
      "FROM proposals ORDER BY proposals.number\n",
      "2020-09-10 16:07:32,485 INFO sqlalchemy.engine.base.Engine ()\n",
      "37_066 37 Bla bla 1\n"
     ]
    }
   ],
   "source": [
    "for Proposal in session.query(Proposal).order_by(Proposal.number):\n",
    "    print( Proposal.number,Proposal.cycle_number, Proposal.title,Proposal.pi_id)"
   ]
  },
  {
   "cell_type": "code",
   "execution_count": null,
   "metadata": {},
   "outputs": [],
   "source": []
  }
 ],
 "metadata": {
  "celltoolbar": "Raw Cell Format",
  "kernelspec": {
   "display_name": "Python 3",
   "language": "python",
   "name": "python3"
  },
  "language_info": {
   "codemirror_mode": {
    "name": "ipython",
    "version": 3
   },
   "file_extension": ".py",
   "mimetype": "text/x-python",
   "name": "python",
   "nbconvert_exporter": "python",
   "pygments_lexer": "ipython3",
   "version": "3.6.9"
  }
 },
 "nbformat": 4,
 "nbformat_minor": 2
}
