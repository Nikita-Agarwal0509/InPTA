{
 "cells": [
  {
   "cell_type": "code",
   "execution_count": 1,
   "metadata": {},
   "outputs": [],
   "source": [
    "from sqlalchemy.ext.declarative import declarative_base\n",
    "from sqlalchemy import Column, Integer, String, Float, ForeignKey\n",
    "from sqlalchemy.orm import sessionmaker\n",
    "from sqlalchemy.orm import relationship"
   ]
  },
  {
   "cell_type": "code",
   "execution_count": 2,
   "metadata": {},
   "outputs": [],
   "source": [
    "import numpy as np"
   ]
  },
  {
   "cell_type": "code",
   "execution_count": 3,
   "metadata": {},
   "outputs": [],
   "source": [
    "from sqlalchemy import create_engine\n",
    "engine = create_engine('sqlite:///InPTA.db', echo = True)"
   ]
  },
  {
   "cell_type": "code",
   "execution_count": 4,
   "metadata": {},
   "outputs": [],
   "source": [
    "Base = declarative_base()"
   ]
  },
  {
   "cell_type": "code",
   "execution_count": 5,
   "metadata": {},
   "outputs": [],
   "source": [
    "class Member(Base):\n",
    "    __tablename__ = 'members'\n",
    "    \n",
    "    id = Column(Integer, primary_key=True)\n",
    "    name = Column(String(100))\n",
    "    username = Column(String(45))\n",
    "    email = Column(String(100))\n",
    "\n",
    "    def __repr__(self):\n",
    "        return \"<Member(id='%s', name='%s', username='%s')>\" % (self.id, self.name, self.username)"
   ]
  },
  {
   "cell_type": "code",
   "execution_count": 6,
   "metadata": {},
   "outputs": [],
   "source": [
    "userinfos = np.genfromtxt(r'C:\\Users\\nikita.agarwal\\Downloads\\users.txt',dtype=str,delimiter='\\t',skip_header=1)"
   ]
  },
  {
   "cell_type": "code",
   "execution_count": 7,
   "metadata": {},
   "outputs": [],
   "source": [
    "#print(userinfos)"
   ]
  },
  {
   "cell_type": "code",
   "execution_count": 8,
   "metadata": {},
   "outputs": [],
   "source": [
    "def hms_to_rad(raj):\n",
    "    hh, mm, ss = raj.split(':')\n",
    "    rad = (float(hh) + float(mm)/60. + float(ss)/3600.)*np.pi/12.\n",
    "    return rad\n",
    "\n",
    "def dms_to_rad(decj):\n",
    "    dd, mm, ss = decj.split(':')\n",
    "    sign = np.sign(float(dd))\n",
    "    rad = sign*(sign*float(dd) + float(mm)/60. + float(ss)/3600.)*np.pi/180.\n",
    "    return rad"
   ]
  },
  {
   "cell_type": "code",
   "execution_count": 9,
   "metadata": {},
   "outputs": [],
   "source": [
    "class Source(Base):\n",
    "    __tablename__ = 'sources'\n",
    "    \n",
    "    jname = Column(String(45), primary_key=True)\n",
    "    srctype = Column(String(10))\n",
    "    raj = Column(Float)\n",
    "    decj = Column(Float)\n",
    "    \n",
    "    def __init__(self, jname, srctype, raj, decj):\n",
    "        self.jname = jname\n",
    "        self.srctype = srctype\n",
    "        self.raj = hms_to_rad(raj)\n",
    "        self.decj = dms_to_rad(decj)\n",
    "        \n",
    "    def __repr__(self):\n",
    "        return \"<Source(JName='%s', SrcType='%s', RA='%s', DEC='%s')>\" % (self.jname, self.srctype, self.raj, self.decj)"
   ]
  },
  {
   "cell_type": "code",
   "execution_count": 10,
   "metadata": {},
   "outputs": [],
   "source": [
    "psrinfos = np.genfromtxt(r'C:\\Users\\nikita.agarwal\\Downloads\\psrs.txt',skip_header=1,dtype=str,delimiter='\\t')"
   ]
  },
  {
   "cell_type": "code",
   "execution_count": 11,
   "metadata": {},
   "outputs": [],
   "source": [
    "#print(psrinfos)"
   ]
  },
  {
   "cell_type": "code",
   "execution_count": 12,
   "metadata": {},
   "outputs": [],
   "source": [
    "class Telescope(Base):\n",
    "    __tablename__ = 'telescopes'\n",
    "    \n",
    "    id = Column(String(10), primary_key=True)\n",
    "    name = Column(String(45))\n",
    "    lat = Column(Float)\n",
    "    long = Column(Float)\n",
    "\n",
    "    def __repr__(self):\n",
    "        return \"<Telescope('%s')>\" % (self.id)"
   ]
  },
  {
   "cell_type": "code",
   "execution_count": 13,
   "metadata": {},
   "outputs": [],
   "source": [
    "class Proposal(Base):\n",
    "    __tablename__ = 'proposals'\n",
    "    \n",
    "    number = Column(String(10), primary_key=True)\n",
    "    cycle_number = Column(Integer)\n",
    "    title = Column(String(500))\n",
    "    telescope_id = Column(String(10), ForeignKey(\"telescopes.id\")) \n",
    "    pi_id = Column(Integer, ForeignKey(\"members.id\")) # The foreign key is given like \"tablename.fieldname\".\n",
    "    file = Column(String(500))\n",
    "    \n",
    "    telescope = relationship(\"Telescope\")\n",
    "    PI = relationship(\"Member\")\n",
    "\n",
    "    def __repr__(self):\n",
    "        return \"<Proposal(number='%s',title='%s')>\" % (self.number, self.title)"
   ]
  },
  {
   "cell_type": "code",
   "execution_count": 14,
   "metadata": {},
   "outputs": [],
   "source": [
    "proposalinfs = np.genfromtxt(r'C:\\Users\\nikita.agarwal\\Downloads\\pr.txt',dtype=str,skip_header=1,delimiter=',')"
   ]
  },
  {
   "cell_type": "code",
   "execution_count": 15,
   "metadata": {},
   "outputs": [],
   "source": [
    "#print(proposalinfs)"
   ]
  },
  {
   "cell_type": "code",
   "execution_count": 16,
   "metadata": {},
   "outputs": [
    {
     "name": "stdout",
     "output_type": "stream",
     "text": [
      "2020-08-28 11:33:38,659 INFO sqlalchemy.engine.base.Engine SELECT CAST('test plain returns' AS VARCHAR(60)) AS anon_1\n",
      "2020-08-28 11:33:38,665 INFO sqlalchemy.engine.base.Engine ()\n",
      "2020-08-28 11:33:38,669 INFO sqlalchemy.engine.base.Engine SELECT CAST('test unicode returns' AS VARCHAR(60)) AS anon_1\n",
      "2020-08-28 11:33:38,672 INFO sqlalchemy.engine.base.Engine ()\n",
      "2020-08-28 11:33:38,677 INFO sqlalchemy.engine.base.Engine PRAGMA main.table_info(\"members\")\n",
      "2020-08-28 11:33:38,680 INFO sqlalchemy.engine.base.Engine ()\n",
      "2020-08-28 11:33:38,686 INFO sqlalchemy.engine.base.Engine PRAGMA main.table_info(\"sources\")\n",
      "2020-08-28 11:33:38,689 INFO sqlalchemy.engine.base.Engine ()\n",
      "2020-08-28 11:33:38,692 INFO sqlalchemy.engine.base.Engine PRAGMA main.table_info(\"telescopes\")\n",
      "2020-08-28 11:33:38,695 INFO sqlalchemy.engine.base.Engine ()\n",
      "2020-08-28 11:33:38,700 INFO sqlalchemy.engine.base.Engine PRAGMA main.table_info(\"proposals\")\n",
      "2020-08-28 11:33:38,702 INFO sqlalchemy.engine.base.Engine ()\n"
     ]
    }
   ],
   "source": [
    "Base.metadata.create_all(engine)"
   ]
  },
  {
   "cell_type": "code",
   "execution_count": 17,
   "metadata": {},
   "outputs": [],
   "source": [
    "Session = sessionmaker(bind=engine)\n",
    "session = Session()"
   ]
  },
  {
   "cell_type": "code",
   "execution_count": 18,
   "metadata": {},
   "outputs": [],
   "source": [
    "session.rollback()"
   ]
  },
  {
   "cell_type": "code",
   "execution_count": 19,
   "metadata": {},
   "outputs": [],
   "source": [
    "#testsrc = Source(jname=\"J0002+6216\", raj=\"00:02:58.17\", decj=\"+62:16:09.4\", srctype=\"PSR\")\n",
    "#session.add(testsrc)\n",
    "#session.commit()\n",
    "\n",
    "#testsrc = session.query(Source).filter(Source.jname=='J0002+6216').one()"
   ]
  },
  {
   "cell_type": "code",
   "execution_count": 20,
   "metadata": {},
   "outputs": [],
   "source": [
    "#testsrc"
   ]
  },
  {
   "cell_type": "code",
   "execution_count": 34,
   "metadata": {},
   "outputs": [
    {
     "ename": "TypeError",
     "evalue": "__init__() got an unexpected keyword argument 'JName'",
     "output_type": "error",
     "traceback": [
      "\u001b[1;31m---------------------------------------------------------------------------\u001b[0m",
      "\u001b[1;31mTypeError\u001b[0m                                 Traceback (most recent call last)",
      "\u001b[1;32m<ipython-input-34-093ab8074ebf>\u001b[0m in \u001b[0;36m<module>\u001b[1;34m\u001b[0m\n\u001b[1;32m----> 1\u001b[1;33m \u001b[0mplsrinfs\u001b[0m \u001b[1;33m=\u001b[0m \u001b[1;33m[\u001b[0m\u001b[0mSource\u001b[0m\u001b[1;33m(\u001b[0m\u001b[0mJName\u001b[0m\u001b[1;33m=\u001b[0m\u001b[0mJName\u001b[0m\u001b[1;33m,\u001b[0m \u001b[0mRA\u001b[0m\u001b[1;33m=\u001b[0m\u001b[0mRAJ\u001b[0m\u001b[1;33m,\u001b[0m \u001b[0mDEC\u001b[0m\u001b[1;33m=\u001b[0m\u001b[0mDECJ\u001b[0m\u001b[1;33m)\u001b[0m \u001b[1;32mfor\u001b[0m \u001b[0mJName\u001b[0m\u001b[1;33m,\u001b[0m \u001b[0mRAJ\u001b[0m\u001b[1;33m,\u001b[0m \u001b[0mDECJ\u001b[0m \u001b[1;32min\u001b[0m \u001b[0mpsrinfos\u001b[0m\u001b[1;33m]\u001b[0m\u001b[1;33m\u001b[0m\u001b[1;33m\u001b[0m\u001b[0m\n\u001b[0m",
      "\u001b[1;32m<ipython-input-34-093ab8074ebf>\u001b[0m in \u001b[0;36m<listcomp>\u001b[1;34m(.0)\u001b[0m\n\u001b[1;32m----> 1\u001b[1;33m \u001b[0mplsrinfs\u001b[0m \u001b[1;33m=\u001b[0m \u001b[1;33m[\u001b[0m\u001b[0mSource\u001b[0m\u001b[1;33m(\u001b[0m\u001b[0mJName\u001b[0m\u001b[1;33m=\u001b[0m\u001b[0mJName\u001b[0m\u001b[1;33m,\u001b[0m \u001b[0mRA\u001b[0m\u001b[1;33m=\u001b[0m\u001b[0mRAJ\u001b[0m\u001b[1;33m,\u001b[0m \u001b[0mDEC\u001b[0m\u001b[1;33m=\u001b[0m\u001b[0mDECJ\u001b[0m\u001b[1;33m)\u001b[0m \u001b[1;32mfor\u001b[0m \u001b[0mJName\u001b[0m\u001b[1;33m,\u001b[0m \u001b[0mRAJ\u001b[0m\u001b[1;33m,\u001b[0m \u001b[0mDECJ\u001b[0m \u001b[1;32min\u001b[0m \u001b[0mpsrinfos\u001b[0m\u001b[1;33m]\u001b[0m\u001b[1;33m\u001b[0m\u001b[1;33m\u001b[0m\u001b[0m\n\u001b[0m",
      "\u001b[1;31mTypeError\u001b[0m: __init__() got an unexpected keyword argument 'JName'"
     ]
    }
   ],
   "source": [
    "plsrinfs = [Source(JName=JName, RA=RAJ, DEC=DECJ) for JName, RAJ, DECJ in psrinfos]"
   ]
  },
  {
   "cell_type": "code",
   "execution_count": 35,
   "metadata": {},
   "outputs": [
    {
     "ename": "NameError",
     "evalue": "name 'plsrinfs' is not defined",
     "output_type": "error",
     "traceback": [
      "\u001b[1;31m---------------------------------------------------------------------------\u001b[0m",
      "\u001b[1;31mNameError\u001b[0m                                 Traceback (most recent call last)",
      "\u001b[1;32m<ipython-input-35-36f0fb04a070>\u001b[0m in \u001b[0;36m<module>\u001b[1;34m\u001b[0m\n\u001b[1;32m----> 1\u001b[1;33m \u001b[0msession\u001b[0m\u001b[1;33m.\u001b[0m\u001b[0madd_all\u001b[0m\u001b[1;33m(\u001b[0m\u001b[0mplsrinfs\u001b[0m\u001b[1;33m)\u001b[0m\u001b[1;33m\u001b[0m\u001b[1;33m\u001b[0m\u001b[0m\n\u001b[0m\u001b[0;32m      2\u001b[0m \u001b[0msession\u001b[0m\u001b[1;33m.\u001b[0m\u001b[0mrollback\u001b[0m\u001b[1;33m(\u001b[0m\u001b[1;33m)\u001b[0m\u001b[1;33m\u001b[0m\u001b[1;33m\u001b[0m\u001b[0m\n\u001b[0;32m      3\u001b[0m \u001b[0msession\u001b[0m\u001b[1;33m.\u001b[0m\u001b[0mcommit\u001b[0m\u001b[1;33m(\u001b[0m\u001b[1;33m)\u001b[0m\u001b[1;33m\u001b[0m\u001b[1;33m\u001b[0m\u001b[0m\n",
      "\u001b[1;31mNameError\u001b[0m: name 'plsrinfs' is not defined"
     ]
    }
   ],
   "source": [
    "session.add_all(plsrinfs)\n",
    "session.rollback()\n",
    "session.commit()"
   ]
  },
  {
   "cell_type": "code",
   "execution_count": 36,
   "metadata": {},
   "outputs": [
    {
     "ename": "InvalidRequestError",
     "evalue": "Entity '<class '__main__.Source'>' has no property 'JName'",
     "output_type": "error",
     "traceback": [
      "\u001b[1;31m---------------------------------------------------------------------------\u001b[0m",
      "\u001b[1;31mAttributeError\u001b[0m                            Traceback (most recent call last)",
      "\u001b[1;32mc:\\Users\\nikita.agarwal\\OneDrive\\Attachments\\lib\\site-packages\\sqlalchemy\\orm\\base.py\u001b[0m in \u001b[0;36m_entity_descriptor\u001b[1;34m(entity, key)\u001b[0m\n\u001b[0;32m    405\u001b[0m     \u001b[1;32mtry\u001b[0m\u001b[1;33m:\u001b[0m\u001b[1;33m\u001b[0m\u001b[1;33m\u001b[0m\u001b[0m\n\u001b[1;32m--> 406\u001b[1;33m         \u001b[1;32mreturn\u001b[0m \u001b[0mgetattr\u001b[0m\u001b[1;33m(\u001b[0m\u001b[0mentity\u001b[0m\u001b[1;33m,\u001b[0m \u001b[0mkey\u001b[0m\u001b[1;33m)\u001b[0m\u001b[1;33m\u001b[0m\u001b[1;33m\u001b[0m\u001b[0m\n\u001b[0m\u001b[0;32m    407\u001b[0m     \u001b[1;32mexcept\u001b[0m \u001b[0mAttributeError\u001b[0m \u001b[1;32mas\u001b[0m \u001b[0merr\u001b[0m\u001b[1;33m:\u001b[0m\u001b[1;33m\u001b[0m\u001b[1;33m\u001b[0m\u001b[0m\n",
      "\u001b[1;31mAttributeError\u001b[0m: type object 'Source' has no attribute 'JName'",
      "\nThe above exception was the direct cause of the following exception:\n",
      "\u001b[1;31mInvalidRequestError\u001b[0m                       Traceback (most recent call last)",
      "\u001b[1;32m<ipython-input-36-ae1da9de346f>\u001b[0m in \u001b[0;36m<module>\u001b[1;34m\u001b[0m\n\u001b[1;32m----> 1\u001b[1;33m \u001b[0mp\u001b[0m \u001b[1;33m=\u001b[0m \u001b[0msession\u001b[0m\u001b[1;33m.\u001b[0m\u001b[0mquery\u001b[0m\u001b[1;33m(\u001b[0m\u001b[0mSource\u001b[0m\u001b[1;33m)\u001b[0m\u001b[1;33m.\u001b[0m\u001b[0mfilter_by\u001b[0m\u001b[1;33m(\u001b[0m\u001b[0mJName\u001b[0m\u001b[1;33m=\u001b[0m\u001b[1;34m'J0002+6216'\u001b[0m\u001b[1;33m)\u001b[0m\u001b[1;33m.\u001b[0m\u001b[0mfirst\u001b[0m\u001b[1;33m(\u001b[0m\u001b[1;33m)\u001b[0m\u001b[1;33m\u001b[0m\u001b[1;33m\u001b[0m\u001b[0m\n\u001b[0m",
      "\u001b[1;32mc:\\Users\\nikita.agarwal\\OneDrive\\Attachments\\lib\\site-packages\\sqlalchemy\\orm\\query.py\u001b[0m in \u001b[0;36mfilter_by\u001b[1;34m(self, **kwargs)\u001b[0m\n\u001b[0;32m   1902\u001b[0m         clauses = [\n\u001b[0;32m   1903\u001b[0m             \u001b[0m_entity_descriptor\u001b[0m\u001b[1;33m(\u001b[0m\u001b[0mzero\u001b[0m\u001b[1;33m,\u001b[0m \u001b[0mkey\u001b[0m\u001b[1;33m)\u001b[0m \u001b[1;33m==\u001b[0m \u001b[0mvalue\u001b[0m\u001b[1;33m\u001b[0m\u001b[1;33m\u001b[0m\u001b[0m\n\u001b[1;32m-> 1904\u001b[1;33m             \u001b[1;32mfor\u001b[0m \u001b[0mkey\u001b[0m\u001b[1;33m,\u001b[0m \u001b[0mvalue\u001b[0m \u001b[1;32min\u001b[0m \u001b[0mkwargs\u001b[0m\u001b[1;33m.\u001b[0m\u001b[0mitems\u001b[0m\u001b[1;33m(\u001b[0m\u001b[1;33m)\u001b[0m\u001b[1;33m\u001b[0m\u001b[1;33m\u001b[0m\u001b[0m\n\u001b[0m\u001b[0;32m   1905\u001b[0m         ]\n\u001b[0;32m   1906\u001b[0m         \u001b[1;32mreturn\u001b[0m \u001b[0mself\u001b[0m\u001b[1;33m.\u001b[0m\u001b[0mfilter\u001b[0m\u001b[1;33m(\u001b[0m\u001b[1;33m*\u001b[0m\u001b[0mclauses\u001b[0m\u001b[1;33m)\u001b[0m\u001b[1;33m\u001b[0m\u001b[1;33m\u001b[0m\u001b[0m\n",
      "\u001b[1;32mc:\\Users\\nikita.agarwal\\OneDrive\\Attachments\\lib\\site-packages\\sqlalchemy\\orm\\query.py\u001b[0m in \u001b[0;36m<listcomp>\u001b[1;34m(.0)\u001b[0m\n\u001b[0;32m   1902\u001b[0m         clauses = [\n\u001b[0;32m   1903\u001b[0m             \u001b[0m_entity_descriptor\u001b[0m\u001b[1;33m(\u001b[0m\u001b[0mzero\u001b[0m\u001b[1;33m,\u001b[0m \u001b[0mkey\u001b[0m\u001b[1;33m)\u001b[0m \u001b[1;33m==\u001b[0m \u001b[0mvalue\u001b[0m\u001b[1;33m\u001b[0m\u001b[1;33m\u001b[0m\u001b[0m\n\u001b[1;32m-> 1904\u001b[1;33m             \u001b[1;32mfor\u001b[0m \u001b[0mkey\u001b[0m\u001b[1;33m,\u001b[0m \u001b[0mvalue\u001b[0m \u001b[1;32min\u001b[0m \u001b[0mkwargs\u001b[0m\u001b[1;33m.\u001b[0m\u001b[0mitems\u001b[0m\u001b[1;33m(\u001b[0m\u001b[1;33m)\u001b[0m\u001b[1;33m\u001b[0m\u001b[1;33m\u001b[0m\u001b[0m\n\u001b[0m\u001b[0;32m   1905\u001b[0m         ]\n\u001b[0;32m   1906\u001b[0m         \u001b[1;32mreturn\u001b[0m \u001b[0mself\u001b[0m\u001b[1;33m.\u001b[0m\u001b[0mfilter\u001b[0m\u001b[1;33m(\u001b[0m\u001b[1;33m*\u001b[0m\u001b[0mclauses\u001b[0m\u001b[1;33m)\u001b[0m\u001b[1;33m\u001b[0m\u001b[1;33m\u001b[0m\u001b[0m\n",
      "\u001b[1;32mc:\\Users\\nikita.agarwal\\OneDrive\\Attachments\\lib\\site-packages\\sqlalchemy\\orm\\base.py\u001b[0m in \u001b[0;36m_entity_descriptor\u001b[1;34m(entity, key)\u001b[0m\n\u001b[0;32m    410\u001b[0m                 \u001b[1;34m\"Entity '%s' has no property '%s'\"\u001b[0m \u001b[1;33m%\u001b[0m \u001b[1;33m(\u001b[0m\u001b[0mdescription\u001b[0m\u001b[1;33m,\u001b[0m \u001b[0mkey\u001b[0m\u001b[1;33m)\u001b[0m\u001b[1;33m\u001b[0m\u001b[1;33m\u001b[0m\u001b[0m\n\u001b[0;32m    411\u001b[0m             ),\n\u001b[1;32m--> 412\u001b[1;33m             \u001b[0mreplace_context\u001b[0m\u001b[1;33m=\u001b[0m\u001b[0merr\u001b[0m\u001b[1;33m,\u001b[0m\u001b[1;33m\u001b[0m\u001b[1;33m\u001b[0m\u001b[0m\n\u001b[0m\u001b[0;32m    413\u001b[0m         )\n\u001b[0;32m    414\u001b[0m \u001b[1;33m\u001b[0m\u001b[0m\n",
      "\u001b[1;32mc:\\Users\\nikita.agarwal\\OneDrive\\Attachments\\lib\\site-packages\\sqlalchemy\\util\\compat.py\u001b[0m in \u001b[0;36mraise_\u001b[1;34m(***failed resolving arguments***)\u001b[0m\n\u001b[0;32m    176\u001b[0m \u001b[1;33m\u001b[0m\u001b[0m\n\u001b[0;32m    177\u001b[0m         \u001b[1;32mtry\u001b[0m\u001b[1;33m:\u001b[0m\u001b[1;33m\u001b[0m\u001b[1;33m\u001b[0m\u001b[0m\n\u001b[1;32m--> 178\u001b[1;33m             \u001b[1;32mraise\u001b[0m \u001b[0mexception\u001b[0m\u001b[1;33m\u001b[0m\u001b[1;33m\u001b[0m\u001b[0m\n\u001b[0m\u001b[0;32m    179\u001b[0m         \u001b[1;32mfinally\u001b[0m\u001b[1;33m:\u001b[0m\u001b[1;33m\u001b[0m\u001b[1;33m\u001b[0m\u001b[0m\n\u001b[0;32m    180\u001b[0m             \u001b[1;31m# credit to\u001b[0m\u001b[1;33m\u001b[0m\u001b[1;33m\u001b[0m\u001b[1;33m\u001b[0m\u001b[0m\n",
      "\u001b[1;31mInvalidRequestError\u001b[0m: Entity '<class '__main__.Source'>' has no property 'JName'"
     ]
    }
   ],
   "source": [
    "p = session.query(Source).filter_by(JName='J0002+6216').first()"
   ]
  },
  {
   "cell_type": "code",
   "execution_count": 37,
   "metadata": {},
   "outputs": [],
   "source": [
    "#gmrt = Telescope(id='GMRT', name='Giant Meterwave Radio Telescope', lat=0.33329486135, long=1.29241146296)\n",
    "#session.add(gmrt)\n",
    "#session.commit()\n",
    "\n",
    "#gmrt = session.query(Telescope).filter(Telescope.id=='GMRT').one()"
   ]
  },
  {
   "cell_type": "code",
   "execution_count": 38,
   "metadata": {},
   "outputs": [],
   "source": [
    "#testmember = Member(name=\"Test User\", username=\"testuser\", email=\"testusersassd@gmail.com\")\n",
    "#session.add(testmember)\n",
    "#session.commit()\n",
    "#testuser = session.query(Member).filter(Member.username=='testuser').one()"
   ]
  },
  {
   "cell_type": "code",
   "execution_count": 39,
   "metadata": {},
   "outputs": [],
   "source": [
    "members = [Member(name=name, email=email, username=uname) for name, email,uname in userinfos]\n"
   ]
  },
  {
   "cell_type": "code",
   "execution_count": 40,
   "metadata": {},
   "outputs": [
    {
     "name": "stdout",
     "output_type": "stream",
     "text": [
      "2020-08-28 11:40:28,841 INFO sqlalchemy.engine.base.Engine BEGIN (implicit)\n",
      "2020-08-28 11:40:28,847 INFO sqlalchemy.engine.base.Engine INSERT INTO members (name, username, email) VALUES (?, ?, ?)\n",
      "2020-08-28 11:40:28,848 INFO sqlalchemy.engine.base.Engine ('Abhimanyu Susobhanan', 'asusobhanan', 'abhisrkckl@gmail.com')\n",
      "2020-08-28 11:40:29,003 INFO sqlalchemy.engine.base.Engine INSERT INTO members (name, username, email) VALUES (?, ?, ?)\n",
      "2020-08-28 11:40:29,006 INFO sqlalchemy.engine.base.Engine ('Arpita Choudhary', 'achoudhary', 'arp.astro@gmail.com')\n",
      "2020-08-28 11:40:29,010 INFO sqlalchemy.engine.base.Engine INSERT INTO members (name, username, email) VALUES (?, ?, ?)\n",
      "2020-08-28 11:40:29,012 INFO sqlalchemy.engine.base.Engine ('Arun Kumar Naidu', 'arun', 'arunnaidu123@gmail.com')\n",
      "2020-08-28 11:40:29,016 INFO sqlalchemy.engine.base.Engine INSERT INTO members (name, username, email) VALUES (?, ?, ?)\n",
      "2020-08-28 11:40:29,019 INFO sqlalchemy.engine.base.Engine ('Avishek Basu', 'avishek', 'avishekbs3@gmail.com')\n",
      "2020-08-28 11:40:29,021 INFO sqlalchemy.engine.base.Engine INSERT INTO members (name, username, email) VALUES (?, ?, ?)\n",
      "2020-08-28 11:40:29,021 INFO sqlalchemy.engine.base.Engine ('Bhal Chandra Joshi', 'bcj', 'bcj@ncra.tifr.res.in')\n",
      "2020-08-28 11:40:29,027 INFO sqlalchemy.engine.base.Engine INSERT INTO members (name, username, email) VALUES (?, ?, ?)\n",
      "2020-08-28 11:40:29,027 INFO sqlalchemy.engine.base.Engine ('Dhruv Pathak', 'dhruv.pathak', 'pathakdhruv9786@gmail.com')\n",
      "2020-08-28 11:40:29,034 INFO sqlalchemy.engine.base.Engine INSERT INTO members (name, username, email) VALUES (?, ?, ?)\n",
      "2020-08-28 11:40:29,038 INFO sqlalchemy.engine.base.Engine ('Achamveedu Gopakumar', '', 'gopu.tifr@gmail.com')\n",
      "2020-08-28 11:40:29,042 INFO sqlalchemy.engine.base.Engine INSERT INTO members (name, username, email) VALUES (?, ?, ?)\n",
      "2020-08-28 11:40:29,047 INFO sqlalchemy.engine.base.Engine ('Jaikhomba Singha', 'jsingha', 'mjaikhomba@gmail.com')\n",
      "2020-08-28 11:40:29,049 INFO sqlalchemy.engine.base.Engine INSERT INTO members (name, username, email) VALUES (?, ?, ?)\n",
      "2020-08-28 11:40:29,050 INFO sqlalchemy.engine.base.Engine ('Kishalay De', 'kishalay', 'kde@astro.caltech.edu')\n",
      "2020-08-28 11:40:29,051 INFO sqlalchemy.engine.base.Engine INSERT INTO members (name, username, email) VALUES (?, ?, ?)\n",
      "2020-08-28 11:40:29,055 INFO sqlalchemy.engine.base.Engine ('Krishnakumar MA', 'kkma', 'kk.ambalappat@gmail.com')\n",
      "2020-08-28 11:40:29,057 INFO sqlalchemy.engine.base.Engine INSERT INTO members (name, username, email) VALUES (?, ?, ?)\n",
      "2020-08-28 11:40:29,060 INFO sqlalchemy.engine.base.Engine ('Lankeswar Dey', 'lankeswar.dey', 'lanky441@gmail.com')\n",
      "2020-08-28 11:40:29,064 INFO sqlalchemy.engine.base.Engine INSERT INTO members (name, username, email) VALUES (?, ?, ?)\n",
      "2020-08-28 11:40:29,067 INFO sqlalchemy.engine.base.Engine ('Manjari Bagchi', 'mbagchi', 'manjari.bagchi@gmail.com')\n",
      "2020-08-28 11:40:29,068 INFO sqlalchemy.engine.base.Engine INSERT INTO members (name, username, email) VALUES (?, ?, ?)\n",
      "2020-08-28 11:40:29,069 INFO sqlalchemy.engine.base.Engine ('Mayuresh Surnis', 'mpsurnis', 'msurnis@gmail.com')\n",
      "2020-08-28 11:40:29,071 INFO sqlalchemy.engine.base.Engine INSERT INTO members (name, username, email) VALUES (?, ?, ?)\n",
      "2020-08-28 11:40:29,074 INFO sqlalchemy.engine.base.Engine ('Neelam Dhanda', 'nbatra', 'neelam.dhanda@gmail.com')\n",
      "2020-08-28 11:40:29,077 INFO sqlalchemy.engine.base.Engine INSERT INTO members (name, username, email) VALUES (?, ?, ?)\n",
      "2020-08-28 11:40:29,079 INFO sqlalchemy.engine.base.Engine ('Nobleson K', 'nkunjappy', 'noble.son.k@gmail.com')\n",
      "2020-08-28 11:40:29,081 INFO sqlalchemy.engine.base.Engine INSERT INTO members (name, username, email) VALUES (?, ?, ?)\n",
      "2020-08-28 11:40:29,083 INFO sqlalchemy.engine.base.Engine ('P. K. Manoharan', 'mano', 'mano.rac@gmail.com')\n",
      "2020-08-28 11:40:29,084 INFO sqlalchemy.engine.base.Engine INSERT INTO members (name, username, email) VALUES (?, ?, ?)\n",
      "2020-08-28 11:40:29,087 INFO sqlalchemy.engine.base.Engine ('Raghav Girgaonkar', 'raghav', 'raghav.girgaonkar@gmail.com')\n",
      "2020-08-28 11:40:29,089 INFO sqlalchemy.engine.base.Engine INSERT INTO members (name, username, email) VALUES (?, ?, ?)\n",
      "2020-08-28 11:40:29,090 INFO sqlalchemy.engine.base.Engine ('Sai Chaitanya Susarla', 'ssusarla', 'saichaitus.99@gmail.com')\n",
      "2020-08-28 11:40:29,093 INFO sqlalchemy.engine.base.Engine INSERT INTO members (name, username, email) VALUES (?, ?, ?)\n",
      "2020-08-28 11:40:29,094 INFO sqlalchemy.engine.base.Engine ('Shantanu Desai', 'shantanu', 'shntn05@gmail.com')\n",
      "2020-08-28 11:40:29,094 INFO sqlalchemy.engine.base.Engine INSERT INTO members (name, username, email) VALUES (?, ?, ?)\n",
      "2020-08-28 11:40:29,097 INFO sqlalchemy.engine.base.Engine ('Suryarao Bethapudi', 'sbethapudi', 'shining.surya.d8@gmail.com')\n",
      "2020-08-28 11:40:29,101 INFO sqlalchemy.engine.base.Engine INSERT INTO members (name, username, email) VALUES (?, ?, ?)\n",
      "2020-08-28 11:40:29,103 INFO sqlalchemy.engine.base.Engine ('T Prabu', 'prabu', 'prabu@rri.res.in')\n",
      "2020-08-28 11:40:29,105 INFO sqlalchemy.engine.base.Engine INSERT INTO members (name, username, email) VALUES (?, ?, ?)\n",
      "2020-08-28 11:40:29,108 INFO sqlalchemy.engine.base.Engine ('Yashwant Gupta', 'ygupta', 'ygupta@ncra.tifr.res.in')\n",
      "2020-08-28 11:40:29,111 INFO sqlalchemy.engine.base.Engine INSERT INTO members (name, username, email) VALUES (?, ?, ?)\n",
      "2020-08-28 11:40:29,112 INFO sqlalchemy.engine.base.Engine ('Yogesh Maan', 'ymaan', 'ymaan4@gmail.com')\n",
      "2020-08-28 11:40:29,116 INFO sqlalchemy.engine.base.Engine COMMIT\n"
     ]
    }
   ],
   "source": [
    "session.add_all(members)\n",
    "session.commit()"
   ]
  },
  {
   "cell_type": "code",
   "execution_count": 41,
   "metadata": {},
   "outputs": [
    {
     "name": "stdout",
     "output_type": "stream",
     "text": [
      "2020-08-28 11:40:29,784 INFO sqlalchemy.engine.base.Engine BEGIN (implicit)\n",
      "2020-08-28 11:40:29,786 INFO sqlalchemy.engine.base.Engine SELECT members.id AS members_id, members.name AS members_name, members.username AS members_username, members.email AS members_email \n",
      "FROM members \n",
      "WHERE members.name = ?\n",
      " LIMIT ? OFFSET ?\n",
      "2020-08-28 11:40:29,787 INFO sqlalchemy.engine.base.Engine ('Abhimanyu Susobhanan', 1, 0)\n"
     ]
    }
   ],
   "source": [
    "m = session.query(Member).filter_by(name='Abhimanyu Susobhanan').first()"
   ]
  },
  {
   "cell_type": "code",
   "execution_count": 42,
   "metadata": {},
   "outputs": [],
   "source": [
    "## This is how you create an object with foreign keys.\n",
    "#testproposal = Proposal(number='37_066', cycle_number=37, title=\"Bla bla\", telescope=gmrt, PI=testuser)\n",
    "#session.add(testproposal)\n",
    "#session.commit()\n",
    "\n",
    "#pro = session.query(Proposal).filter_by(number='37_066').first()"
   ]
  },
  {
   "cell_type": "code",
   "execution_count": null,
   "metadata": {},
   "outputs": [],
   "source": [
    "proposals = [Proposal(number=Proposal_ID, cycle_number=Cycle_Number, title=Title,pi_id= PI_ID) for Proposal_ID, Cycle_Number, Title, PI_ID in proposalinfs]"
   ]
  },
  {
   "cell_type": "code",
   "execution_count": null,
   "metadata": {},
   "outputs": [],
   "source": [
    "session.add_all(proposals)\n",
    "session.rollback()\n",
    "session.commit()"
   ]
  },
  {
   "cell_type": "code",
   "execution_count": null,
   "metadata": {},
   "outputs": [],
   "source": [
    "pro = session.query(Proposal).filter_by(number='38_014').first()"
   ]
  }
 ],
 "metadata": {
  "celltoolbar": "Raw Cell Format",
  "kernelspec": {
   "display_name": "Python 3",
   "language": "python",
   "name": "python3"
  },
  "language_info": {
   "codemirror_mode": {
    "name": "ipython",
    "version": 3
   },
   "file_extension": ".py",
   "mimetype": "text/x-python",
   "name": "python",
   "nbconvert_exporter": "python",
   "pygments_lexer": "ipython3",
   "version": "3.7.7"
  }
 },
 "nbformat": 4,
 "nbformat_minor": 2
}
