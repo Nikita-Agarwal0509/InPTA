{
 "cells": [
  {
   "cell_type": "code",
   "execution_count": 33,
   "metadata": {},
   "outputs": [],
   "source": [
    "import sqlalchemy\n",
    "import argparse"
   ]
  },
  {
   "cell_type": "code",
   "execution_count": 34,
   "metadata": {},
   "outputs": [],
   "source": [
    "import numpy as np"
   ]
  },
  {
   "cell_type": "code",
   "execution_count": 35,
   "metadata": {},
   "outputs": [],
   "source": [
    "from io import StringIO"
   ]
  },
  {
   "cell_type": "code",
   "execution_count": 36,
   "metadata": {},
   "outputs": [
    {
     "data": {
      "text/plain": [
       "'1.3.19'"
      ]
     },
     "execution_count": 36,
     "metadata": {},
     "output_type": "execute_result"
    }
   ],
   "source": [
    "sqlalchemy.__version__"
   ]
  },
  {
   "cell_type": "code",
   "execution_count": 44,
   "metadata": {},
   "outputs": [
    {
     "name": "stdout",
     "output_type": "stream",
     "text": [
      "['Name\\tE-mail\\tUsername\\n', 'Abhimanyu Susobhanan\\tabhisrkckl@gmail.com\\tasusobhanan\\n', 'Arpita Choudhary\\tarp.astro@gmail.com\\tachoudhary\\n', 'Arun Kumar Naidu\\tarunnaidu123@gmail.com\\tarun\\n', 'Avishek Basu\\tavishekbs3@gmail.com\\tavishek\\n', 'Bhal Chandra Joshi\\tbcj@ncra.tifr.res.in\\tbcj\\n', 'Dhruv Pathak\\tpathakdhruv9786@gmail.com\\tdhruv.pathak\\n', 'Achamveedu Gopakumar\\tgopu.tifr@gmail.com\\t\\n', 'Jaikhomba Singha\\tmjaikhomba@gmail.com\\tjsingha\\n', 'Kishalay De\\tkde@astro.caltech.edu\\tkishalay\\n', 'Krishnakumar MA\\tkk.ambalappat@gmail.com\\tkkma\\n', 'Lankeswar Dey\\tlanky441@gmail.com\\tlankeswar.dey\\n', 'Manjari Bagchi\\tmanjari.bagchi@gmail.com\\tmbagchi\\n', 'Mayuresh Surnis\\tmsurnis@gmail.com\\tmpsurnis\\n', 'Neelam Dhanda\\tneelam.dhanda@gmail.com\\tnbatra\\n', 'Nobleson K\\tnoble.son.k@gmail.com\\tnkunjappy\\n', 'P. K. Manoharan\\tmano.rac@gmail.com\\tmano\\n', 'Raghav Girgaonkar\\traghav.girgaonkar@gmail.com\\traghav\\n', 'Sai Chaitanya Susarla\\tsaichaitus.99@gmail.com\\tssusarla\\n', 'Shantanu Desai\\tshntn05@gmail.com\\tshantanu\\n', 'Suryarao Bethapudi\\tshining.surya.d8@gmail.com\\tsbethapudi\\n', 'T Prabu\\tprabu@rri.res.in\\tprabu\\n', 'Yashwant Gupta\\tygupta@ncra.tifr.res.in\\tygupta\\n', 'Yogesh Maan\\tymaan4@gmail.com\\tymaan\\n', '\\n']\n"
     ]
    }
   ],
   "source": [
    "parser = argparse.ArgumentParser(add_help=False)\n",
    "parser.add_argument('-f', type=argparse.FileType('r'))\n",
    "\n",
    "args = parser.parse_args(['-f', r'C:\\Users\\nikita.agarwal\\Downloads\\users.txt'])\n",
    "print (args.f.readlines())"
   ]
  },
  {
   "cell_type": "code",
   "execution_count": null,
   "metadata": {},
   "outputs": [],
   "source": [
    "from sqlalchemy import create_engine\n",
    "engine = create_engine('sqlite:///InPTA.db', echo = True)"
   ]
  },
  {
   "cell_type": "code",
   "execution_count": null,
   "metadata": {},
   "outputs": [],
   "source": [
    "userinfo = np.genfromtxt(r'C:\\Users\\nikita.agarwal\\Downloads\\users.txt',dtype=str,delimiter='\\t',skip_header=1)"
   ]
  },
  {
   "cell_type": "code",
   "execution_count": null,
   "metadata": {},
   "outputs": [],
   "source": [
    "print(userinfo)"
   ]
  },
  {
   "cell_type": "code",
   "execution_count": null,
   "metadata": {},
   "outputs": [],
   "source": [
    "from sqlalchemy.ext.declarative import declarative_base\n",
    "Base = declarative_base()"
   ]
  },
  {
   "cell_type": "code",
   "execution_count": null,
   "metadata": {},
   "outputs": [],
   "source": [
    "from sqlalchemy import Column, Integer, String"
   ]
  },
  {
   "cell_type": "code",
   "execution_count": null,
   "metadata": {},
   "outputs": [],
   "source": [
    "#Creating table Member\n",
    "class Member(Base):\n",
    "    __tablename__ = 'members'\n",
    "    \n",
    "    ID = Column(Integer, primary_key=True)\n",
    "    name = Column(String(45))\n",
    "    username = Column(String(45))\n",
    "    email = Column(String(45))\n",
    "\n",
    "    def __repr__(self):\n",
    "        return \"<members(ID='%s',name='%s',username='%s',email='%s' )>\" % (self.ID,self.name, self.username,self.email)"
   ]
  },
  {
   "cell_type": "code",
   "execution_count": null,
   "metadata": {},
   "outputs": [],
   "source": [
    "Member.__table__"
   ]
  },
  {
   "cell_type": "code",
   "execution_count": null,
   "metadata": {},
   "outputs": [],
   "source": [
    "Base.metadata.create_all(engine)"
   ]
  },
  {
   "cell_type": "code",
   "execution_count": null,
   "metadata": {},
   "outputs": [],
   "source": [
    "members = [Member(name=name, email=email, username=uname) for name, email,uname in userinfo]\n"
   ]
  },
  {
   "cell_type": "code",
   "execution_count": null,
   "metadata": {},
   "outputs": [],
   "source": [
    "from sqlalchemy.orm import sessionmaker\n",
    "Session = sessionmaker(bind=engine)\n",
    "session = Session()"
   ]
  },
  {
   "cell_type": "code",
   "execution_count": null,
   "metadata": {},
   "outputs": [],
   "source": [
    "session.add_all(members)\n"
   ]
  },
  {
   "cell_type": "code",
   "execution_count": null,
   "metadata": {},
   "outputs": [],
   "source": [
    "session.rollback()"
   ]
  },
  {
   "cell_type": "code",
   "execution_count": null,
   "metadata": {
    "scrolled": false
   },
   "outputs": [],
   "source": [
    "m = session.query(Member).filter_by(name='Abhimanyu Susobhanan').first()"
   ]
  },
  {
   "cell_type": "code",
   "execution_count": null,
   "metadata": {},
   "outputs": [],
   "source": [
    "m is members"
   ]
  },
  {
   "cell_type": "code",
   "execution_count": null,
   "metadata": {},
   "outputs": [],
   "source": [
    "session.commit()"
   ]
  },
  {
   "cell_type": "code",
   "execution_count": null,
   "metadata": {},
   "outputs": [],
   "source": [
    "m.username"
   ]
  },
  {
   "cell_type": "code",
   "execution_count": null,
   "metadata": {},
   "outputs": [],
   "source": [
    "#for Member in session.query(Member).order_by(Member.name):\n",
    "    #print( Member.ID,Member.name, Member.username,Member.email)"
   ]
  },
  {
   "cell_type": "code",
   "execution_count": null,
   "metadata": {},
   "outputs": [],
   "source": [
    "from sqlalchemy import func\n",
    "\n",
    "session.query(func.count(Member.ID)).scalar()"
   ]
  },
  {
   "cell_type": "code",
   "execution_count": null,
   "metadata": {},
   "outputs": [],
   "source": []
  },
  {
   "cell_type": "code",
   "execution_count": null,
   "metadata": {},
   "outputs": [],
   "source": []
  }
 ],
 "metadata": {
  "kernelspec": {
   "display_name": "Python 3",
   "language": "python",
   "name": "python3"
  },
  "language_info": {
   "codemirror_mode": {
    "name": "ipython",
    "version": 3
   },
   "file_extension": ".py",
   "mimetype": "text/x-python",
   "name": "python",
   "nbconvert_exporter": "python",
   "pygments_lexer": "ipython3",
   "version": "3.8.3"
  }
 },
 "nbformat": 4,
 "nbformat_minor": 4
}
