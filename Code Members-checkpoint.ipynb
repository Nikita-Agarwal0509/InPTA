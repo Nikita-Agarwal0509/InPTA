{
 "cells": [
  {
   "cell_type": "code",
   "execution_count": 1,
   "metadata": {},
   "outputs": [],
   "source": [
    "import sqlalchemy"
   ]
  },
  {
   "cell_type": "code",
   "execution_count": 2,
   "metadata": {},
   "outputs": [],
   "source": [
    "import numpy as np"
   ]
  },
  {
   "cell_type": "code",
   "execution_count": 3,
   "metadata": {},
   "outputs": [],
   "source": [
    "from io import StringIO"
   ]
  },
  {
   "cell_type": "code",
   "execution_count": 4,
   "metadata": {},
   "outputs": [
    {
     "data": {
      "text/plain": [
       "'1.3.18'"
      ]
     },
     "execution_count": 4,
     "metadata": {},
     "output_type": "execute_result"
    }
   ],
   "source": [
    "sqlalchemy.__version__"
   ]
  },
  {
   "cell_type": "code",
   "execution_count": 5,
   "metadata": {},
   "outputs": [],
   "source": [
    "from sqlalchemy import create_engine\n",
    "engine = create_engine('sqlite:///InPTA.db', echo = True)"
   ]
  },
  {
   "cell_type": "code",
   "execution_count": 6,
   "metadata": {},
   "outputs": [],
   "source": [
    "userinfo = np.genfromtxt(r'C:\\Users\\nikita.agarwal\\Downloads\\users.txt',dtype=str,delimiter='\\t',skip_header=1)"
   ]
  },
  {
   "cell_type": "code",
   "execution_count": 7,
   "metadata": {},
   "outputs": [
    {
     "name": "stdout",
     "output_type": "stream",
     "text": [
      "[['Abhimanyu Susobhanan' 'abhisrkckl@gmail.com' 'asusobhanan']\n",
      " ['Arpita Choudhary' 'arp.astro@gmail.com' 'achoudhary']\n",
      " ['Arun Kumar Naidu' 'arunnaidu123@gmail.com' 'arun']\n",
      " ['Avishek Basu' 'avishekbs3@gmail.com' 'avishek']\n",
      " ['Bhal Chandra Joshi' 'bcj@ncra.tifr.res.in' 'bcj']\n",
      " ['Dhruv Pathak' 'pathakdhruv9786@gmail.com' 'dhruv.pathak']\n",
      " ['Achamveedu Gopakumar' 'gopu.tifr@gmail.com' '']\n",
      " ['Jaikhomba Singha' 'mjaikhomba@gmail.com' 'jsingha']\n",
      " ['Kishalay De' 'kde@astro.caltech.edu' 'kishalay']\n",
      " ['Krishnakumar MA' 'kk.ambalappat@gmail.com' 'kkma']\n",
      " ['Lankeswar Dey' 'lanky441@gmail.com' 'lankeswar.dey']\n",
      " ['Manjari Bagchi' 'manjari.bagchi@gmail.com' 'mbagchi']\n",
      " ['Mayuresh Surnis' 'msurnis@gmail.com' 'mpsurnis']\n",
      " ['Neelam Dhanda' 'neelam.dhanda@gmail.com' 'nbatra']\n",
      " ['Nobleson K' 'noble.son.k@gmail.com' 'nkunjappy']\n",
      " ['P. K. Manoharan' 'mano.rac@gmail.com' 'mano']\n",
      " ['Raghav Girgaonkar' 'raghav.girgaonkar@gmail.com' 'raghav']\n",
      " ['Sai Chaitanya Susarla' 'saichaitus.99@gmail.com' 'ssusarla']\n",
      " ['Shantanu Desai' 'shntn05@gmail.com' 'shantanu']\n",
      " ['Suryarao Bethapudi' 'shining.surya.d8@gmail.com' 'sbethapudi']\n",
      " ['T Prabu' 'prabu@rri.res.in' 'prabu']\n",
      " ['Yashwant Gupta' 'ygupta@ncra.tifr.res.in' 'ygupta']\n",
      " ['Yogesh Maan' 'ymaan4@gmail.com' 'ymaan']]\n"
     ]
    }
   ],
   "source": [
    "print(userinfo)"
   ]
  },
  {
   "cell_type": "code",
   "execution_count": 8,
   "metadata": {},
   "outputs": [],
   "source": [
    "from sqlalchemy.ext.declarative import declarative_base\n",
    "Base = declarative_base()"
   ]
  },
  {
   "cell_type": "code",
   "execution_count": 9,
   "metadata": {},
   "outputs": [],
   "source": [
    "from sqlalchemy import Column, Integer, String"
   ]
  },
  {
   "cell_type": "code",
   "execution_count": 10,
   "metadata": {},
   "outputs": [],
   "source": [
    "#Creating table Member\n",
    "class Member(Base):\n",
    "    __tablename__ = 'members'\n",
    "    \n",
    "    ID = Column(Integer, primary_key=True)\n",
    "    name = Column(String(45))\n",
    "    username = Column(String(45))\n",
    "    email = Column(String(45))\n",
    "\n",
    "    def __repr__(self):\n",
    "        return \"<members(ID='%s',name='%s',username='%s',email='%s' )>\" % (self.ID,self.name, self.username,self.email)"
   ]
  },
  {
   "cell_type": "code",
   "execution_count": 11,
   "metadata": {},
   "outputs": [
    {
     "data": {
      "text/plain": [
       "Table('members', MetaData(bind=None), Column('ID', Integer(), table=<members>, primary_key=True, nullable=False), Column('name', String(length=45), table=<members>), Column('username', String(length=45), table=<members>), Column('email', String(length=45), table=<members>), schema=None)"
      ]
     },
     "execution_count": 11,
     "metadata": {},
     "output_type": "execute_result"
    }
   ],
   "source": [
    "Member.__table__"
   ]
  },
  {
   "cell_type": "code",
   "execution_count": 12,
   "metadata": {},
   "outputs": [
    {
     "name": "stdout",
     "output_type": "stream",
     "text": [
      "2020-08-16 13:51:08,777 INFO sqlalchemy.engine.base.Engine SELECT CAST('test plain returns' AS VARCHAR(60)) AS anon_1\n",
      "2020-08-16 13:51:08,780 INFO sqlalchemy.engine.base.Engine ()\n",
      "2020-08-16 13:51:08,782 INFO sqlalchemy.engine.base.Engine SELECT CAST('test unicode returns' AS VARCHAR(60)) AS anon_1\n",
      "2020-08-16 13:51:08,785 INFO sqlalchemy.engine.base.Engine ()\n",
      "2020-08-16 13:51:08,787 INFO sqlalchemy.engine.base.Engine PRAGMA main.table_info(\"members\")\n",
      "2020-08-16 13:51:08,788 INFO sqlalchemy.engine.base.Engine ()\n"
     ]
    }
   ],
   "source": [
    "Base.metadata.create_all(engine)"
   ]
  },
  {
   "cell_type": "code",
   "execution_count": 13,
   "metadata": {},
   "outputs": [],
   "source": [
    "#mem1= Member(name='Abhimanyu Susobhanan', username='asuso', email='aaa@gmail.com') \n"
   ]
  },
  {
   "cell_type": "code",
   "execution_count": 14,
   "metadata": {},
   "outputs": [],
   "source": [
    "members = [Member(name=name, email=email, username=uname) for name, email,uname in userinfo]\n"
   ]
  },
  {
   "cell_type": "code",
   "execution_count": 15,
   "metadata": {},
   "outputs": [],
   "source": [
    "from sqlalchemy.orm import sessionmaker\n",
    "Session = sessionmaker(bind=engine)\n",
    "session = Session()"
   ]
  },
  {
   "cell_type": "code",
   "execution_count": 16,
   "metadata": {},
   "outputs": [],
   "source": [
    "session.add_all(members)\n"
   ]
  },
  {
   "cell_type": "code",
   "execution_count": 17,
   "metadata": {},
   "outputs": [],
   "source": [
    "session.rollback()"
   ]
  },
  {
   "cell_type": "code",
   "execution_count": 18,
   "metadata": {
    "scrolled": false
   },
   "outputs": [
    {
     "name": "stdout",
     "output_type": "stream",
     "text": [
      "2020-08-16 13:51:09,625 INFO sqlalchemy.engine.base.Engine BEGIN (implicit)\n",
      "2020-08-16 13:51:09,629 INFO sqlalchemy.engine.base.Engine SELECT members.\"ID\" AS \"members_ID\", members.name AS members_name, members.username AS members_username, members.email AS members_email \n",
      "FROM members \n",
      "WHERE members.name = ?\n",
      " LIMIT ? OFFSET ?\n",
      "2020-08-16 13:51:09,631 INFO sqlalchemy.engine.base.Engine ('Abhimanyu Susobhanan', 1, 0)\n"
     ]
    }
   ],
   "source": [
    "m = session.query(Member).filter_by(name='Abhimanyu Susobhanan').first()"
   ]
  },
  {
   "cell_type": "code",
   "execution_count": 19,
   "metadata": {},
   "outputs": [
    {
     "data": {
      "text/plain": [
       "False"
      ]
     },
     "execution_count": 19,
     "metadata": {},
     "output_type": "execute_result"
    }
   ],
   "source": [
    "m is members"
   ]
  },
  {
   "cell_type": "code",
   "execution_count": 20,
   "metadata": {},
   "outputs": [
    {
     "name": "stdout",
     "output_type": "stream",
     "text": [
      "2020-08-16 13:51:09,930 INFO sqlalchemy.engine.base.Engine COMMIT\n"
     ]
    }
   ],
   "source": [
    "session.commit()"
   ]
  },
  {
   "cell_type": "code",
   "execution_count": 21,
   "metadata": {},
   "outputs": [
    {
     "name": "stdout",
     "output_type": "stream",
     "text": [
      "2020-08-16 13:51:10,047 INFO sqlalchemy.engine.base.Engine BEGIN (implicit)\n",
      "2020-08-16 13:51:10,048 INFO sqlalchemy.engine.base.Engine SELECT members.\"ID\" AS \"members_ID\", members.name AS members_name, members.username AS members_username, members.email AS members_email \n",
      "FROM members \n",
      "WHERE members.\"ID\" = ?\n",
      "2020-08-16 13:51:10,049 INFO sqlalchemy.engine.base.Engine (34,)\n"
     ]
    },
    {
     "data": {
      "text/plain": [
       "'asusobhanan'"
      ]
     },
     "execution_count": 21,
     "metadata": {},
     "output_type": "execute_result"
    }
   ],
   "source": [
    "m.username"
   ]
  },
  {
   "cell_type": "code",
   "execution_count": 22,
   "metadata": {},
   "outputs": [
    {
     "name": "stdout",
     "output_type": "stream",
     "text": [
      "2020-08-16 13:51:10,198 INFO sqlalchemy.engine.base.Engine SELECT members.\"ID\" AS \"members_ID\", members.name AS members_name, members.username AS members_username, members.email AS members_email \n",
      "FROM members ORDER BY members.name\n",
      "2020-08-16 13:51:10,200 INFO sqlalchemy.engine.base.Engine ()\n",
      "34 Abhimanyu Susobhanan asusobhanan abhisrkckl@gmail.com\n",
      "57 Abhimanyu Susobhanan asusobhanan abhisrkckl@gmail.com\n",
      "80 Abhimanyu Susobhanan asusobhanan abhisrkckl@gmail.com\n",
      "103 Abhimanyu Susobhanan asusobhanan abhisrkckl@gmail.com\n",
      "126 Abhimanyu Susobhanan asusobhanan abhisrkckl@gmail.com\n",
      "149 Abhimanyu Susobhanan asusobhanan abhisrkckl@gmail.com\n",
      "40 Achamveedu Gopakumar  gopu.tifr@gmail.com\n",
      "63 Achamveedu Gopakumar  gopu.tifr@gmail.com\n",
      "86 Achamveedu Gopakumar  gopu.tifr@gmail.com\n",
      "109 Achamveedu Gopakumar  gopu.tifr@gmail.com\n",
      "132 Achamveedu Gopakumar  gopu.tifr@gmail.com\n",
      "155 Achamveedu Gopakumar  gopu.tifr@gmail.com\n",
      "35 Arpita Choudhary achoudhary arp.astro@gmail.com\n",
      "58 Arpita Choudhary achoudhary arp.astro@gmail.com\n",
      "81 Arpita Choudhary achoudhary arp.astro@gmail.com\n",
      "104 Arpita Choudhary achoudhary arp.astro@gmail.com\n",
      "127 Arpita Choudhary achoudhary arp.astro@gmail.com\n",
      "150 Arpita Choudhary achoudhary arp.astro@gmail.com\n",
      "36 Arun Kumar Naidu arun arunnaidu123@gmail.com\n",
      "59 Arun Kumar Naidu arun arunnaidu123@gmail.com\n",
      "82 Arun Kumar Naidu arun arunnaidu123@gmail.com\n",
      "105 Arun Kumar Naidu arun arunnaidu123@gmail.com\n",
      "128 Arun Kumar Naidu arun arunnaidu123@gmail.com\n",
      "151 Arun Kumar Naidu arun arunnaidu123@gmail.com\n",
      "37 Avishek Basu avishek avishekbs3@gmail.com\n",
      "60 Avishek Basu avishek avishekbs3@gmail.com\n",
      "83 Avishek Basu avishek avishekbs3@gmail.com\n",
      "106 Avishek Basu avishek avishekbs3@gmail.com\n",
      "129 Avishek Basu avishek avishekbs3@gmail.com\n",
      "152 Avishek Basu avishek avishekbs3@gmail.com\n",
      "38 Bhal Chandra Joshi bcj bcj@ncra.tifr.res.in\n",
      "61 Bhal Chandra Joshi bcj bcj@ncra.tifr.res.in\n",
      "84 Bhal Chandra Joshi bcj bcj@ncra.tifr.res.in\n",
      "107 Bhal Chandra Joshi bcj bcj@ncra.tifr.res.in\n",
      "130 Bhal Chandra Joshi bcj bcj@ncra.tifr.res.in\n",
      "153 Bhal Chandra Joshi bcj bcj@ncra.tifr.res.in\n",
      "39 Dhruv Pathak dhruv.pathak pathakdhruv9786@gmail.com\n",
      "62 Dhruv Pathak dhruv.pathak pathakdhruv9786@gmail.com\n",
      "85 Dhruv Pathak dhruv.pathak pathakdhruv9786@gmail.com\n",
      "108 Dhruv Pathak dhruv.pathak pathakdhruv9786@gmail.com\n",
      "131 Dhruv Pathak dhruv.pathak pathakdhruv9786@gmail.com\n",
      "154 Dhruv Pathak dhruv.pathak pathakdhruv9786@gmail.com\n",
      "41 Jaikhomba Singha jsingha mjaikhomba@gmail.com\n",
      "64 Jaikhomba Singha jsingha mjaikhomba@gmail.com\n",
      "87 Jaikhomba Singha jsingha mjaikhomba@gmail.com\n",
      "110 Jaikhomba Singha jsingha mjaikhomba@gmail.com\n",
      "133 Jaikhomba Singha jsingha mjaikhomba@gmail.com\n",
      "156 Jaikhomba Singha jsingha mjaikhomba@gmail.com\n",
      "42 Kishalay De kishalay kde@astro.caltech.edu\n",
      "65 Kishalay De kishalay kde@astro.caltech.edu\n",
      "88 Kishalay De kishalay kde@astro.caltech.edu\n",
      "111 Kishalay De kishalay kde@astro.caltech.edu\n",
      "134 Kishalay De kishalay kde@astro.caltech.edu\n",
      "157 Kishalay De kishalay kde@astro.caltech.edu\n",
      "43 Krishnakumar MA kkma kk.ambalappat@gmail.com\n",
      "66 Krishnakumar MA kkma kk.ambalappat@gmail.com\n",
      "89 Krishnakumar MA kkma kk.ambalappat@gmail.com\n",
      "112 Krishnakumar MA kkma kk.ambalappat@gmail.com\n",
      "135 Krishnakumar MA kkma kk.ambalappat@gmail.com\n",
      "158 Krishnakumar MA kkma kk.ambalappat@gmail.com\n",
      "44 Lankeswar Dey lankeswar.dey lanky441@gmail.com\n",
      "67 Lankeswar Dey lankeswar.dey lanky441@gmail.com\n",
      "90 Lankeswar Dey lankeswar.dey lanky441@gmail.com\n",
      "113 Lankeswar Dey lankeswar.dey lanky441@gmail.com\n",
      "136 Lankeswar Dey lankeswar.dey lanky441@gmail.com\n",
      "159 Lankeswar Dey lankeswar.dey lanky441@gmail.com\n",
      "45 Manjari Bagchi mbagchi manjari.bagchi@gmail.com\n",
      "68 Manjari Bagchi mbagchi manjari.bagchi@gmail.com\n",
      "91 Manjari Bagchi mbagchi manjari.bagchi@gmail.com\n",
      "114 Manjari Bagchi mbagchi manjari.bagchi@gmail.com\n",
      "137 Manjari Bagchi mbagchi manjari.bagchi@gmail.com\n",
      "160 Manjari Bagchi mbagchi manjari.bagchi@gmail.com\n",
      "46 Mayuresh Surnis mpsurnis msurnis@gmail.com\n",
      "69 Mayuresh Surnis mpsurnis msurnis@gmail.com\n",
      "92 Mayuresh Surnis mpsurnis msurnis@gmail.com\n",
      "115 Mayuresh Surnis mpsurnis msurnis@gmail.com\n",
      "138 Mayuresh Surnis mpsurnis msurnis@gmail.com\n",
      "161 Mayuresh Surnis mpsurnis msurnis@gmail.com\n",
      "47 Neelam Dhanda nbatra neelam.dhanda@gmail.com\n",
      "70 Neelam Dhanda nbatra neelam.dhanda@gmail.com\n",
      "93 Neelam Dhanda nbatra neelam.dhanda@gmail.com\n",
      "116 Neelam Dhanda nbatra neelam.dhanda@gmail.com\n",
      "139 Neelam Dhanda nbatra neelam.dhanda@gmail.com\n",
      "162 Neelam Dhanda nbatra neelam.dhanda@gmail.com\n",
      "48 Nobleson K nkunjappy noble.son.k@gmail.com\n",
      "71 Nobleson K nkunjappy noble.son.k@gmail.com\n",
      "94 Nobleson K nkunjappy noble.son.k@gmail.com\n",
      "117 Nobleson K nkunjappy noble.son.k@gmail.com\n",
      "140 Nobleson K nkunjappy noble.son.k@gmail.com\n",
      "163 Nobleson K nkunjappy noble.son.k@gmail.com\n",
      "49 P. K. Manoharan mano mano.rac@gmail.com\n",
      "72 P. K. Manoharan mano mano.rac@gmail.com\n",
      "95 P. K. Manoharan mano mano.rac@gmail.com\n",
      "118 P. K. Manoharan mano mano.rac@gmail.com\n",
      "141 P. K. Manoharan mano mano.rac@gmail.com\n",
      "164 P. K. Manoharan mano mano.rac@gmail.com\n",
      "50 Raghav Girgaonkar raghav raghav.girgaonkar@gmail.com\n",
      "73 Raghav Girgaonkar raghav raghav.girgaonkar@gmail.com\n",
      "96 Raghav Girgaonkar raghav raghav.girgaonkar@gmail.com\n",
      "119 Raghav Girgaonkar raghav raghav.girgaonkar@gmail.com\n",
      "142 Raghav Girgaonkar raghav raghav.girgaonkar@gmail.com\n",
      "165 Raghav Girgaonkar raghav raghav.girgaonkar@gmail.com\n",
      "51 Sai Chaitanya Susarla ssusarla saichaitus.99@gmail.com\n",
      "74 Sai Chaitanya Susarla ssusarla saichaitus.99@gmail.com\n",
      "97 Sai Chaitanya Susarla ssusarla saichaitus.99@gmail.com\n",
      "120 Sai Chaitanya Susarla ssusarla saichaitus.99@gmail.com\n",
      "143 Sai Chaitanya Susarla ssusarla saichaitus.99@gmail.com\n",
      "166 Sai Chaitanya Susarla ssusarla saichaitus.99@gmail.com\n",
      "52 Shantanu Desai shantanu shntn05@gmail.com\n",
      "75 Shantanu Desai shantanu shntn05@gmail.com\n",
      "98 Shantanu Desai shantanu shntn05@gmail.com\n",
      "121 Shantanu Desai shantanu shntn05@gmail.com\n",
      "144 Shantanu Desai shantanu shntn05@gmail.com\n",
      "167 Shantanu Desai shantanu shntn05@gmail.com\n",
      "53 Suryarao Bethapudi sbethapudi shining.surya.d8@gmail.com\n",
      "76 Suryarao Bethapudi sbethapudi shining.surya.d8@gmail.com\n",
      "99 Suryarao Bethapudi sbethapudi shining.surya.d8@gmail.com\n",
      "122 Suryarao Bethapudi sbethapudi shining.surya.d8@gmail.com\n",
      "145 Suryarao Bethapudi sbethapudi shining.surya.d8@gmail.com\n",
      "168 Suryarao Bethapudi sbethapudi shining.surya.d8@gmail.com\n",
      "54 T Prabu prabu prabu@rri.res.in\n",
      "77 T Prabu prabu prabu@rri.res.in\n",
      "100 T Prabu prabu prabu@rri.res.in\n",
      "123 T Prabu prabu prabu@rri.res.in\n",
      "146 T Prabu prabu prabu@rri.res.in\n",
      "169 T Prabu prabu prabu@rri.res.in\n",
      "55 Yashwant Gupta ygupta ygupta@ncra.tifr.res.in\n",
      "78 Yashwant Gupta ygupta ygupta@ncra.tifr.res.in\n",
      "101 Yashwant Gupta ygupta ygupta@ncra.tifr.res.in\n",
      "124 Yashwant Gupta ygupta ygupta@ncra.tifr.res.in\n",
      "147 Yashwant Gupta ygupta ygupta@ncra.tifr.res.in\n",
      "170 Yashwant Gupta ygupta ygupta@ncra.tifr.res.in\n",
      "56 Yogesh Maan ymaan ymaan4@gmail.com\n",
      "79 Yogesh Maan ymaan ymaan4@gmail.com\n",
      "102 Yogesh Maan ymaan ymaan4@gmail.com\n",
      "125 Yogesh Maan ymaan ymaan4@gmail.com\n",
      "148 Yogesh Maan ymaan ymaan4@gmail.com\n",
      "171 Yogesh Maan ymaan ymaan4@gmail.com\n",
      "2 abc abc123 None\n",
      "5 abc abc123 None\n",
      "8 abc abc123 None\n",
      "11 abc abc123 None\n",
      "14 abc abc123 None\n",
      "17 abc abc123 None\n",
      "20 abc abc123 None\n",
      "23 abc abc123 None\n",
      "26 abc abc123 None\n",
      "29 abc abc123 None\n",
      "32 abc abc123 None\n",
      "1 nikita nikita123 None\n",
      "4 nikita nikita123 None\n",
      "7 nikita nikita123 None\n",
      "10 nikita nikita123 None\n",
      "13 nikita nikita123 None\n",
      "16 nikita nikita123 None\n",
      "19 nikita nikita123 None\n",
      "22 nikita nikita123 None\n",
      "25 nikita nikita123 None\n",
      "28 nikita nikita123 None\n",
      "31 nikita nikita123 None\n",
      "3 xyz xyz456 None\n",
      "6 xyz xyz456 None\n",
      "9 xyz xyz456 None\n",
      "12 xyz xyz456 None\n",
      "15 xyz xyz456 None\n",
      "18 xyz xyz456 None\n",
      "21 xyz xyz456 None\n",
      "24 xyz xyz456 None\n",
      "27 xyz xyz456 None\n",
      "30 xyz xyz456 None\n",
      "33 xyz xyz456 None\n"
     ]
    }
   ],
   "source": [
    "for Member in session.query(Member).order_by(Member.name):\n",
    "    print( Member.ID,Member.name, Member.username,Member.email)"
   ]
  },
  {
   "cell_type": "code",
   "execution_count": 23,
   "metadata": {},
   "outputs": [
    {
     "name": "stdout",
     "output_type": "stream",
     "text": [
      "2020-08-16 13:51:10,367 INFO sqlalchemy.engine.base.Engine SELECT count(?) AS count_1\n",
      "2020-08-16 13:51:10,368 INFO sqlalchemy.engine.base.Engine (33,)\n"
     ]
    },
    {
     "data": {
      "text/plain": [
       "1"
      ]
     },
     "execution_count": 23,
     "metadata": {},
     "output_type": "execute_result"
    }
   ],
   "source": [
    "from sqlalchemy import func\n",
    "\n",
    "session.query(func.count(Member.ID)).scalar()"
   ]
  },
  {
   "cell_type": "code",
   "execution_count": 24,
   "metadata": {},
   "outputs": [],
   "source": []
  },
  {
   "cell_type": "code",
   "execution_count": null,
   "metadata": {},
   "outputs": [],
   "source": []
  }
 ],
 "metadata": {
  "kernelspec": {
   "display_name": "Python 3",
   "language": "python",
   "name": "python3"
  },
  "language_info": {
   "codemirror_mode": {
    "name": "ipython",
    "version": 3
   },
   "file_extension": ".py",
   "mimetype": "text/x-python",
   "name": "python",
   "nbconvert_exporter": "python",
   "pygments_lexer": "ipython3",
   "version": "3.7.7"
  }
 },
 "nbformat": 4,
 "nbformat_minor": 4
}
