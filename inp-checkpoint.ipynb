{
 "cells": [
  {
   "cell_type": "code",
   "execution_count": 1,
   "metadata": {},
   "outputs": [],
   "source": [
    "import sqlalchemy"
   ]
  },
  {
   "cell_type": "code",
   "execution_count": 2,
   "metadata": {},
   "outputs": [
    {
     "data": {
      "text/plain": [
       "'1.3.18'"
      ]
     },
     "execution_count": 2,
     "metadata": {},
     "output_type": "execute_result"
    }
   ],
   "source": [
    "sqlalchemy.__version__\n"
   ]
  },
  {
   "cell_type": "code",
   "execution_count": 3,
   "metadata": {},
   "outputs": [],
   "source": [
    "from sqlalchemy import create_engine\n",
    "engine = create_engine('sqlite:///InPTA.db', echo = True)"
   ]
  },
  {
   "cell_type": "code",
   "execution_count": 4,
   "metadata": {},
   "outputs": [],
   "source": [
    "from sqlalchemy.ext.declarative import declarative_base\n",
    "Base = declarative_base()"
   ]
  },
  {
   "cell_type": "code",
   "execution_count": 5,
   "metadata": {},
   "outputs": [],
   "source": [
    "from sqlalchemy import Column, Integer, String, Float"
   ]
  },
  {
   "cell_type": "code",
   "execution_count": 6,
   "metadata": {},
   "outputs": [],
   "source": [
    "# Creating table Telescopes\n",
    "class telescopes(Base):\n",
    "    __tablename__ = 'telescopes'\n",
    "    \n",
    "    ID = Column(String(45), primary_key=True)\n",
    "    name = Column(String(45))\n",
    "    latitude = Column(Float)\n",
    "    longitude = Column(Float)\n",
    "\n",
    "    def __repr__(self):\n",
    "        return \"<telescopes(ID='%s',name='%s', latitude='%f',longitude='%f')>\" % (self.ID,self.name, self.latitude, self.longitude)"
   ]
  },
  {
   "cell_type": "code",
   "execution_count": 7,
   "metadata": {},
   "outputs": [
    {
     "data": {
      "text/plain": [
       "Table('telescopes', MetaData(bind=None), Column('ID', String(length=45), table=<telescopes>, primary_key=True, nullable=False), Column('name', String(length=45), table=<telescopes>), Column('latitude', Float(), table=<telescopes>), Column('longitude', Float(), table=<telescopes>), schema=None)"
      ]
     },
     "execution_count": 7,
     "metadata": {},
     "output_type": "execute_result"
    }
   ],
   "source": [
    "telescopes.__table__"
   ]
  },
  {
   "cell_type": "code",
   "execution_count": 8,
   "metadata": {},
   "outputs": [
    {
     "name": "stdout",
     "output_type": "stream",
     "text": [
      "2020-07-31 13:22:02,837 INFO sqlalchemy.engine.base.Engine SELECT CAST('test plain returns' AS VARCHAR(60)) AS anon_1\n",
      "2020-07-31 13:22:02,843 INFO sqlalchemy.engine.base.Engine ()\n",
      "2020-07-31 13:22:02,846 INFO sqlalchemy.engine.base.Engine SELECT CAST('test unicode returns' AS VARCHAR(60)) AS anon_1\n",
      "2020-07-31 13:22:02,847 INFO sqlalchemy.engine.base.Engine ()\n",
      "2020-07-31 13:22:02,849 INFO sqlalchemy.engine.base.Engine PRAGMA main.table_info(\"telescopes\")\n",
      "2020-07-31 13:22:02,850 INFO sqlalchemy.engine.base.Engine ()\n"
     ]
    }
   ],
   "source": [
    "Base.metadata.create_all(engine)"
   ]
  },
  {
   "cell_type": "code",
   "execution_count": 9,
   "metadata": {},
   "outputs": [],
   "source": [
    "from sqlalchemy.ext.declarative import declarative_base\n",
    "Base = declarative_base()"
   ]
  },
  {
   "cell_type": "code",
   "execution_count": 10,
   "metadata": {},
   "outputs": [],
   "source": [
    "from sqlalchemy import Column, Integer, String"
   ]
  },
  {
   "cell_type": "code",
   "execution_count": 11,
   "metadata": {},
   "outputs": [],
   "source": [
    "#Creating table Members\n",
    "class members(Base):\n",
    "    __tablename__ = 'members'\n",
    "    \n",
    "    ID = Column(Integer, primary_key=True)\n",
    "    name = Column(String(45))\n",
    "    username = Column(String(45))\n",
    "    email = Column(String(45))\n",
    "\n",
    "    def __repr__(self):\n",
    "        return \"<members(ID='%d',name='%s',username='%s',email='%s' )>\" % (self.ID,self.name, self.username,self.email)"
   ]
  },
  {
   "cell_type": "code",
   "execution_count": 12,
   "metadata": {},
   "outputs": [
    {
     "data": {
      "text/plain": [
       "Table('members', MetaData(bind=None), Column('ID', Integer(), table=<members>, primary_key=True, nullable=False), Column('name', String(length=45), table=<members>), Column('username', String(length=45), table=<members>), Column('email', String(length=45), table=<members>), schema=None)"
      ]
     },
     "execution_count": 12,
     "metadata": {},
     "output_type": "execute_result"
    }
   ],
   "source": [
    "members.__table__"
   ]
  },
  {
   "cell_type": "code",
   "execution_count": 13,
   "metadata": {},
   "outputs": [
    {
     "name": "stdout",
     "output_type": "stream",
     "text": [
      "2020-07-31 13:22:07,109 INFO sqlalchemy.engine.base.Engine PRAGMA main.table_info(\"members\")\n",
      "2020-07-31 13:22:07,110 INFO sqlalchemy.engine.base.Engine ()\n"
     ]
    }
   ],
   "source": [
    "Base.metadata.create_all(engine)"
   ]
  },
  {
   "cell_type": "code",
   "execution_count": 14,
   "metadata": {},
   "outputs": [],
   "source": [
    "mem1 = members(name='nikita', username='nikita123')"
   ]
  },
  {
   "cell_type": "code",
   "execution_count": 15,
   "metadata": {},
   "outputs": [],
   "source": [
    "from sqlalchemy.orm import sessionmaker\n",
    "Session = sessionmaker(bind=engine)\n",
    "session = Session()"
   ]
  },
  {
   "cell_type": "code",
   "execution_count": 16,
   "metadata": {},
   "outputs": [],
   "source": [
    "session.add(mem1)"
   ]
  },
  {
   "cell_type": "code",
   "execution_count": 17,
   "metadata": {},
   "outputs": [
    {
     "name": "stdout",
     "output_type": "stream",
     "text": [
      "2020-07-31 13:22:13,194 INFO sqlalchemy.engine.base.Engine BEGIN (implicit)\n",
      "2020-07-31 13:22:13,196 INFO sqlalchemy.engine.base.Engine INSERT INTO members (name, username, email) VALUES (?, ?, ?)\n",
      "2020-07-31 13:22:13,196 INFO sqlalchemy.engine.base.Engine ('nikita', 'nikita123', None)\n",
      "2020-07-31 13:22:13,263 INFO sqlalchemy.engine.base.Engine SELECT members.\"ID\" AS \"members_ID\", members.name AS members_name, members.username AS members_username, members.email AS members_email \n",
      "FROM members \n",
      "WHERE members.name = ?\n",
      " LIMIT ? OFFSET ?\n",
      "2020-07-31 13:22:13,264 INFO sqlalchemy.engine.base.Engine ('nikita', 1, 0)\n"
     ]
    }
   ],
   "source": [
    "#Trial to add data\n",
    "m1 = session.query(members).filter_by(name='nikita').first()"
   ]
  },
  {
   "cell_type": "code",
   "execution_count": 18,
   "metadata": {
    "scrolled": true
   },
   "outputs": [
    {
     "data": {
      "text/plain": [
       "False"
      ]
     },
     "execution_count": 18,
     "metadata": {},
     "output_type": "execute_result"
    }
   ],
   "source": [
    "m1 is mem1"
   ]
  },
  {
   "cell_type": "code",
   "execution_count": 19,
   "metadata": {},
   "outputs": [],
   "source": [
    "m2 = members(name='abc', username='abc123')\n",
    "m3 = members(name='xyz', username='xyz456')\n",
    "session.add_all([m2, m3])"
   ]
  },
  {
   "cell_type": "code",
   "execution_count": 20,
   "metadata": {},
   "outputs": [
    {
     "name": "stdout",
     "output_type": "stream",
     "text": [
      "2020-07-31 13:22:19,452 INFO sqlalchemy.engine.base.Engine INSERT INTO members (name, username, email) VALUES (?, ?, ?)\n",
      "2020-07-31 13:22:19,453 INFO sqlalchemy.engine.base.Engine ('abc', 'abc123', None)\n",
      "2020-07-31 13:22:19,454 INFO sqlalchemy.engine.base.Engine INSERT INTO members (name, username, email) VALUES (?, ?, ?)\n",
      "2020-07-31 13:22:19,455 INFO sqlalchemy.engine.base.Engine ('xyz', 'xyz456', None)\n",
      "2020-07-31 13:22:19,456 INFO sqlalchemy.engine.base.Engine COMMIT\n"
     ]
    }
   ],
   "source": [
    "session.commit()"
   ]
  },
  {
   "cell_type": "code",
   "execution_count": 21,
   "metadata": {},
   "outputs": [
    {
     "name": "stdout",
     "output_type": "stream",
     "text": [
      "2020-07-31 13:22:20,018 INFO sqlalchemy.engine.base.Engine BEGIN (implicit)\n",
      "2020-07-31 13:22:20,019 INFO sqlalchemy.engine.base.Engine SELECT members.\"ID\" AS \"members_ID\", members.name AS members_name, members.username AS members_username, members.email AS members_email \n",
      "FROM members \n",
      "WHERE members.\"ID\" = ?\n",
      "2020-07-31 13:22:20,021 INFO sqlalchemy.engine.base.Engine (1,)\n"
     ]
    },
    {
     "data": {
      "text/plain": [
       "1"
      ]
     },
     "execution_count": 21,
     "metadata": {},
     "output_type": "execute_result"
    }
   ],
   "source": [
    "# testing\n",
    "m1.ID"
   ]
  },
  {
   "cell_type": "code",
   "execution_count": 22,
   "metadata": {},
   "outputs": [
    {
     "name": "stdout",
     "output_type": "stream",
     "text": [
      "2020-07-31 13:22:23,887 INFO sqlalchemy.engine.base.Engine SELECT members.\"ID\" AS \"members_ID\", members.name AS members_name, members.username AS members_username, members.email AS members_email \n",
      "FROM members \n",
      "WHERE members.\"ID\" = ?\n",
      "2020-07-31 13:22:23,887 INFO sqlalchemy.engine.base.Engine (15,)\n"
     ]
    },
    {
     "data": {
      "text/plain": [
       "15"
      ]
     },
     "execution_count": 22,
     "metadata": {},
     "output_type": "execute_result"
    }
   ],
   "source": [
    "m3.ID"
   ]
  },
  {
   "cell_type": "code",
   "execution_count": 23,
   "metadata": {},
   "outputs": [
    {
     "data": {
      "text/plain": [
       "'nikita'"
      ]
     },
     "execution_count": 23,
     "metadata": {},
     "output_type": "execute_result"
    }
   ],
   "source": [
    "m1.name"
   ]
  },
  {
   "cell_type": "code",
   "execution_count": 24,
   "metadata": {},
   "outputs": [
    {
     "name": "stdout",
     "output_type": "stream",
     "text": [
      "2020-07-31 13:22:29,468 INFO sqlalchemy.engine.base.Engine SELECT members.\"ID\" AS \"members_ID\", members.name AS members_name, members.username AS members_username, members.email AS members_email \n",
      "FROM members \n",
      "WHERE members.\"ID\" = ?\n",
      "2020-07-31 13:22:29,469 INFO sqlalchemy.engine.base.Engine (14,)\n"
     ]
    },
    {
     "data": {
      "text/plain": [
       "'abc123'"
      ]
     },
     "execution_count": 24,
     "metadata": {},
     "output_type": "execute_result"
    }
   ],
   "source": [
    "m2.username"
   ]
  },
  {
   "cell_type": "code",
   "execution_count": 25,
   "metadata": {},
   "outputs": [
    {
     "name": "stdout",
     "output_type": "stream",
     "text": [
      "2020-07-31 13:22:30,637 INFO sqlalchemy.engine.base.Engine SELECT members.\"ID\" AS \"members_ID\", members.name AS members_name, members.username AS members_username, members.email AS members_email \n",
      "FROM members ORDER BY members.\"ID\"\n",
      "2020-07-31 13:22:30,638 INFO sqlalchemy.engine.base.Engine ()\n",
      "1 nikita nikita123\n",
      "2 abc abc123\n",
      "3 xyz xyz456\n",
      "4 nikita nikita123\n",
      "5 abc abc123\n",
      "6 xyz xyz456\n",
      "7 nikita nikita123\n",
      "8 abc abc123\n",
      "9 xyz xyz456\n",
      "10 nikita nikita123\n",
      "11 abc abc123\n",
      "12 xyz xyz456\n",
      "13 nikita nikita123\n",
      "14 abc abc123\n",
      "15 xyz xyz456\n"
     ]
    }
   ],
   "source": [
    "for members in session.query(members).order_by(members.ID):\n",
    "    print(members.ID,members.name, members.username)"
   ]
  },
  {
   "cell_type": "code",
   "execution_count": 26,
   "metadata": {},
   "outputs": [
    {
     "name": "stdout",
     "output_type": "stream",
     "text": [
      "2020-07-31 13:22:32,313 INFO sqlalchemy.engine.base.Engine SELECT count(?) AS count_1\n",
      "2020-07-31 13:22:32,314 INFO sqlalchemy.engine.base.Engine (15,)\n"
     ]
    },
    {
     "data": {
      "text/plain": [
       "1"
      ]
     },
     "execution_count": 26,
     "metadata": {},
     "output_type": "execute_result"
    }
   ],
   "source": [
    "from sqlalchemy import func\n",
    "\n",
    "session.query(func.count(members.ID)).scalar()"
   ]
  },
  {
   "cell_type": "code",
   "execution_count": 27,
   "metadata": {},
   "outputs": [
    {
     "name": "stdout",
     "output_type": "stream",
     "text": [
      "2020-07-31 13:22:34,517 INFO sqlalchemy.engine.base.Engine SELECT sum(?) AS sum_1\n",
      "2020-07-31 13:22:34,519 INFO sqlalchemy.engine.base.Engine (15,)\n"
     ]
    },
    {
     "data": {
      "text/plain": [
       "15"
      ]
     },
     "execution_count": 27,
     "metadata": {},
     "output_type": "execute_result"
    }
   ],
   "source": [
    "session.query(func.sum(members.ID)).scalar()"
   ]
  },
  {
   "cell_type": "code",
   "execution_count": 28,
   "metadata": {},
   "outputs": [],
   "source": [
    "#Trial for Foreign Key\n",
    "from sqlalchemy import ForeignKey\n",
    "from sqlalchemy.orm import relationship\n",
    "\n",
    "class Proposal(Base):\n",
    "    __tablename__ = 'Proposal'\n",
    "    \n",
    "    Number = Column(String, primary_key=True)\n",
    "    Cycle_Number = Column(Float,nullable = False)\n",
    "    Title = Column(String, nullable=False)\n",
    "    #Telescope_ID = Column(String,ForeignKey('telescopes.ID') )\n",
    "    PI_ID = Column(Integer,ForeignKey('members.ID') )\n",
    "    \n",
    "    \n",
    "    # Access the user corresponding to an address.\n",
    "    members = relationship(\"members\", back_populates=\"Proposal\")\n",
    "\n",
    "    def __repr__(self):\n",
    "        return \"<Proposal(PI_ID='%s')>\" % self.PI_ID"
   ]
  },
  {
   "cell_type": "code",
   "execution_count": 29,
   "metadata": {},
   "outputs": [
    {
     "name": "stdout",
     "output_type": "stream",
     "text": [
      "2020-07-31 13:22:39,243 INFO sqlalchemy.engine.base.Engine PRAGMA main.table_info(\"members\")\n",
      "2020-07-31 13:22:39,245 INFO sqlalchemy.engine.base.Engine ()\n",
      "2020-07-31 13:22:39,247 INFO sqlalchemy.engine.base.Engine PRAGMA main.table_info(\"Proposal\")\n",
      "2020-07-31 13:22:39,248 INFO sqlalchemy.engine.base.Engine ()\n",
      "2020-07-31 13:22:39,249 INFO sqlalchemy.engine.base.Engine PRAGMA temp.table_info(\"Proposal\")\n",
      "2020-07-31 13:22:39,250 INFO sqlalchemy.engine.base.Engine ()\n",
      "2020-07-31 13:22:39,252 INFO sqlalchemy.engine.base.Engine \n",
      "CREATE TABLE \"Proposal\" (\n",
      "\t\"Number\" VARCHAR NOT NULL, \n",
      "\t\"Cycle_Number\" FLOAT NOT NULL, \n",
      "\t\"Title\" VARCHAR NOT NULL, \n",
      "\t\"PI_ID\" INTEGER, \n",
      "\tPRIMARY KEY (\"Number\"), \n",
      "\tFOREIGN KEY(\"PI_ID\") REFERENCES members (\"ID\")\n",
      ")\n",
      "\n",
      "\n",
      "2020-07-31 13:22:39,253 INFO sqlalchemy.engine.base.Engine ()\n",
      "2020-07-31 13:22:39,758 INFO sqlalchemy.engine.base.Engine COMMIT\n"
     ]
    }
   ],
   "source": [
    "Base.metadata.create_all(engine)"
   ]
  },
  {
   "cell_type": "code",
   "execution_count": null,
   "metadata": {},
   "outputs": [],
   "source": []
  },
  {
   "cell_type": "code",
   "execution_count": null,
   "metadata": {},
   "outputs": [],
   "source": []
  }
 ],
 "metadata": {
  "kernelspec": {
   "display_name": "Python 3",
   "language": "python",
   "name": "python3"
  },
  "language_info": {
   "codemirror_mode": {
    "name": "ipython",
    "version": 3
   },
   "file_extension": ".py",
   "mimetype": "text/x-python",
   "name": "python",
   "nbconvert_exporter": "python",
   "pygments_lexer": "ipython3",
   "version": "3.7.7"
  }
 },
 "nbformat": 4,
 "nbformat_minor": 4
}
