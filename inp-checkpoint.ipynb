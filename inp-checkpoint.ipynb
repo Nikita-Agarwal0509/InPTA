{
 "cells": [
  {
   "cell_type": "code",
   "execution_count": 1,
   "metadata": {},
   "outputs": [],
   "source": [
    "import sqlalchemy"
   ]
  },
  {
   "cell_type": "code",
   "execution_count": 2,
   "metadata": {},
   "outputs": [],
   "source": [
    "import numpy as np"
   ]
  },
  {
   "cell_type": "code",
   "execution_count": 3,
   "metadata": {},
   "outputs": [],
   "source": [
    "from io import StringIO"
   ]
  },
  {
   "cell_type": "code",
   "execution_count": 4,
   "metadata": {},
   "outputs": [
    {
     "data": {
      "text/plain": [
       "'1.3.18'"
      ]
     },
     "execution_count": 4,
     "metadata": {},
     "output_type": "execute_result"
    }
   ],
   "source": [
    "sqlalchemy.__version__\n"
   ]
  },
  {
   "cell_type": "code",
   "execution_count": 5,
   "metadata": {},
   "outputs": [],
   "source": [
    "from sqlalchemy import create_engine\n",
    "engine = create_engine('sqlite:///InPTA.db', echo = True)"
   ]
  },
  {
   "cell_type": "code",
   "execution_count": 6,
   "metadata": {},
   "outputs": [],
   "source": [
    "from sqlalchemy.ext.declarative import declarative_base\n",
    "Base = declarative_base()"
   ]
  },
  {
   "cell_type": "code",
   "execution_count": 7,
   "metadata": {},
   "outputs": [],
   "source": [
    "from sqlalchemy import Column, Integer, String, Float"
   ]
  },
  {
   "cell_type": "code",
   "execution_count": 8,
   "metadata": {},
   "outputs": [],
   "source": [
    "# Creating table Telescopes\n",
    "class telescopes(Base):\n",
    "    __tablename__ = 'telescopes'\n",
    "    \n",
    "    ID = Column(String(45), primary_key=True)\n",
    "    name = Column(String(45))\n",
    "    latitude = Column(Float)\n",
    "    longitude = Column(Float)\n",
    "\n",
    "    def __repr__(self):\n",
    "        return \"<telescopes(ID='%s',name='%s', latitude='%f',longitude='%f')>\" % (self.ID,self.name, self.latitude, self.longitude)"
   ]
  },
  {
   "cell_type": "code",
   "execution_count": 9,
   "metadata": {},
   "outputs": [
    {
     "data": {
      "text/plain": [
       "Table('telescopes', MetaData(bind=None), Column('ID', String(length=45), table=<telescopes>, primary_key=True, nullable=False), Column('name', String(length=45), table=<telescopes>), Column('latitude', Float(), table=<telescopes>), Column('longitude', Float(), table=<telescopes>), schema=None)"
      ]
     },
     "execution_count": 9,
     "metadata": {},
     "output_type": "execute_result"
    }
   ],
   "source": [
    "telescopes.__table__"
   ]
  },
  {
   "cell_type": "code",
   "execution_count": 10,
   "metadata": {},
   "outputs": [
    {
     "name": "stdout",
     "output_type": "stream",
     "text": [
      "2020-08-09 12:50:41,465 INFO sqlalchemy.engine.base.Engine SELECT CAST('test plain returns' AS VARCHAR(60)) AS anon_1\n",
      "2020-08-09 12:50:41,469 INFO sqlalchemy.engine.base.Engine ()\n",
      "2020-08-09 12:50:41,473 INFO sqlalchemy.engine.base.Engine SELECT CAST('test unicode returns' AS VARCHAR(60)) AS anon_1\n",
      "2020-08-09 12:50:41,478 INFO sqlalchemy.engine.base.Engine ()\n",
      "2020-08-09 12:50:41,483 INFO sqlalchemy.engine.base.Engine PRAGMA main.table_info(\"telescopes\")\n",
      "2020-08-09 12:50:41,483 INFO sqlalchemy.engine.base.Engine ()\n"
     ]
    }
   ],
   "source": [
    "Base.metadata.create_all(engine)"
   ]
  },
  {
   "cell_type": "code",
   "execution_count": 11,
   "metadata": {},
   "outputs": [],
   "source": [
    "from sqlalchemy.ext.declarative import declarative_base\n",
    "Base = declarative_base()"
   ]
  },
  {
   "cell_type": "code",
   "execution_count": 12,
   "metadata": {},
   "outputs": [],
   "source": [
    "from sqlalchemy import Column, Integer, String"
   ]
  },
  {
   "cell_type": "code",
   "execution_count": 13,
   "metadata": {},
   "outputs": [],
   "source": [
    "#Creating table Members\n",
    "class members(Base):\n",
    "    __tablename__ = 'members'\n",
    "    \n",
    "    ID = Column(Integer, primary_key=True)\n",
    "    name = Column(String(45))\n",
    "    username = Column(String(45))\n",
    "    email = Column(String(45))\n",
    "\n",
    "    def __repr__(self):\n",
    "        return \"<members(ID='%d',name='%s',username='%s',email='%s' )>\" % (self.ID,self.name, self.username,self.email)"
   ]
  },
  {
   "cell_type": "code",
   "execution_count": 14,
   "metadata": {},
   "outputs": [
    {
     "data": {
      "text/plain": [
       "Table('members', MetaData(bind=None), Column('ID', Integer(), table=<members>, primary_key=True, nullable=False), Column('name', String(length=45), table=<members>), Column('username', String(length=45), table=<members>), Column('email', String(length=45), table=<members>), schema=None)"
      ]
     },
     "execution_count": 14,
     "metadata": {},
     "output_type": "execute_result"
    }
   ],
   "source": [
    "members.__table__"
   ]
  },
  {
   "cell_type": "code",
   "execution_count": 15,
   "metadata": {},
   "outputs": [
    {
     "name": "stdout",
     "output_type": "stream",
     "text": [
      "2020-08-09 12:50:41,961 INFO sqlalchemy.engine.base.Engine PRAGMA main.table_info(\"members\")\n",
      "2020-08-09 12:50:41,964 INFO sqlalchemy.engine.base.Engine ()\n"
     ]
    }
   ],
   "source": [
    "Base.metadata.create_all(engine)"
   ]
  },
  {
   "cell_type": "code",
   "execution_count": 16,
   "metadata": {},
   "outputs": [],
   "source": [
    "mem1 = members(name='nikita', username='nikita123')"
   ]
  },
  {
   "cell_type": "code",
   "execution_count": 17,
   "metadata": {},
   "outputs": [],
   "source": [
    "from sqlalchemy.orm import sessionmaker\n",
    "Session = sessionmaker(bind=engine)\n",
    "session = Session()"
   ]
  },
  {
   "cell_type": "code",
   "execution_count": 18,
   "metadata": {},
   "outputs": [],
   "source": [
    "session.add(mem1)"
   ]
  },
  {
   "cell_type": "code",
   "execution_count": 19,
   "metadata": {},
   "outputs": [
    {
     "name": "stdout",
     "output_type": "stream",
     "text": [
      "2020-08-09 12:50:42,467 INFO sqlalchemy.engine.base.Engine BEGIN (implicit)\n",
      "2020-08-09 12:50:42,473 INFO sqlalchemy.engine.base.Engine INSERT INTO members (name, username, email) VALUES (?, ?, ?)\n",
      "2020-08-09 12:50:42,479 INFO sqlalchemy.engine.base.Engine ('nikita', 'nikita123', None)\n",
      "2020-08-09 12:50:42,517 INFO sqlalchemy.engine.base.Engine SELECT members.\"ID\" AS \"members_ID\", members.name AS members_name, members.username AS members_username, members.email AS members_email \n",
      "FROM members \n",
      "WHERE members.name = ?\n",
      " LIMIT ? OFFSET ?\n",
      "2020-08-09 12:50:42,519 INFO sqlalchemy.engine.base.Engine ('nikita', 1, 0)\n"
     ]
    }
   ],
   "source": [
    "#Trial to add data\n",
    "m1 = session.query(members).filter_by(name='nikita').first()"
   ]
  },
  {
   "cell_type": "code",
   "execution_count": 20,
   "metadata": {
    "scrolled": true
   },
   "outputs": [
    {
     "data": {
      "text/plain": [
       "False"
      ]
     },
     "execution_count": 20,
     "metadata": {},
     "output_type": "execute_result"
    }
   ],
   "source": [
    "m1 is mem1"
   ]
  },
  {
   "cell_type": "code",
   "execution_count": 21,
   "metadata": {},
   "outputs": [],
   "source": [
    "m2 = members(name='abc', username='abc123')\n",
    "m3 = members(name='xyz', username='xyz456')\n",
    "session.add_all([m2, m3])"
   ]
  },
  {
   "cell_type": "code",
   "execution_count": 22,
   "metadata": {},
   "outputs": [
    {
     "name": "stdout",
     "output_type": "stream",
     "text": [
      "2020-08-09 12:50:42,895 INFO sqlalchemy.engine.base.Engine INSERT INTO members (name, username, email) VALUES (?, ?, ?)\n",
      "2020-08-09 12:50:42,899 INFO sqlalchemy.engine.base.Engine ('abc', 'abc123', None)\n",
      "2020-08-09 12:50:42,900 INFO sqlalchemy.engine.base.Engine INSERT INTO members (name, username, email) VALUES (?, ?, ?)\n",
      "2020-08-09 12:50:42,905 INFO sqlalchemy.engine.base.Engine ('xyz', 'xyz456', None)\n",
      "2020-08-09 12:50:42,909 INFO sqlalchemy.engine.base.Engine COMMIT\n"
     ]
    }
   ],
   "source": [
    "session.commit()"
   ]
  },
  {
   "cell_type": "code",
   "execution_count": 23,
   "metadata": {},
   "outputs": [
    {
     "name": "stdout",
     "output_type": "stream",
     "text": [
      "2020-08-09 12:50:43,142 INFO sqlalchemy.engine.base.Engine BEGIN (implicit)\n",
      "2020-08-09 12:50:43,143 INFO sqlalchemy.engine.base.Engine SELECT members.\"ID\" AS \"members_ID\", members.name AS members_name, members.username AS members_username, members.email AS members_email \n",
      "FROM members \n",
      "WHERE members.\"ID\" = ?\n",
      "2020-08-09 12:50:43,146 INFO sqlalchemy.engine.base.Engine (1,)\n"
     ]
    },
    {
     "data": {
      "text/plain": [
       "1"
      ]
     },
     "execution_count": 23,
     "metadata": {},
     "output_type": "execute_result"
    }
   ],
   "source": [
    "# testing\n",
    "m1.ID"
   ]
  },
  {
   "cell_type": "code",
   "execution_count": 24,
   "metadata": {},
   "outputs": [
    {
     "name": "stdout",
     "output_type": "stream",
     "text": [
      "2020-08-09 12:50:43,251 INFO sqlalchemy.engine.base.Engine SELECT members.\"ID\" AS \"members_ID\", members.name AS members_name, members.username AS members_username, members.email AS members_email \n",
      "FROM members \n",
      "WHERE members.\"ID\" = ?\n",
      "2020-08-09 12:50:43,254 INFO sqlalchemy.engine.base.Engine (30,)\n"
     ]
    },
    {
     "data": {
      "text/plain": [
       "30"
      ]
     },
     "execution_count": 24,
     "metadata": {},
     "output_type": "execute_result"
    }
   ],
   "source": [
    "m3.ID"
   ]
  },
  {
   "cell_type": "code",
   "execution_count": 25,
   "metadata": {},
   "outputs": [
    {
     "data": {
      "text/plain": [
       "'nikita'"
      ]
     },
     "execution_count": 25,
     "metadata": {},
     "output_type": "execute_result"
    }
   ],
   "source": [
    "m1.name"
   ]
  },
  {
   "cell_type": "code",
   "execution_count": 26,
   "metadata": {},
   "outputs": [
    {
     "name": "stdout",
     "output_type": "stream",
     "text": [
      "2020-08-09 12:50:43,515 INFO sqlalchemy.engine.base.Engine SELECT members.\"ID\" AS \"members_ID\", members.name AS members_name, members.username AS members_username, members.email AS members_email \n",
      "FROM members \n",
      "WHERE members.\"ID\" = ?\n",
      "2020-08-09 12:50:43,518 INFO sqlalchemy.engine.base.Engine (29,)\n"
     ]
    },
    {
     "data": {
      "text/plain": [
       "'abc123'"
      ]
     },
     "execution_count": 26,
     "metadata": {},
     "output_type": "execute_result"
    }
   ],
   "source": [
    "m2.username"
   ]
  },
  {
   "cell_type": "code",
   "execution_count": 27,
   "metadata": {},
   "outputs": [
    {
     "name": "stdout",
     "output_type": "stream",
     "text": [
      "2020-08-09 12:50:43,610 INFO sqlalchemy.engine.base.Engine SELECT members.\"ID\" AS \"members_ID\", members.name AS members_name, members.username AS members_username, members.email AS members_email \n",
      "FROM members ORDER BY members.\"ID\"\n",
      "2020-08-09 12:50:43,613 INFO sqlalchemy.engine.base.Engine ()\n",
      "1 nikita nikita123\n",
      "2 abc abc123\n",
      "3 xyz xyz456\n",
      "4 nikita nikita123\n",
      "5 abc abc123\n",
      "6 xyz xyz456\n",
      "7 nikita nikita123\n",
      "8 abc abc123\n",
      "9 xyz xyz456\n",
      "10 nikita nikita123\n",
      "11 abc abc123\n",
      "12 xyz xyz456\n",
      "13 nikita nikita123\n",
      "14 abc abc123\n",
      "15 xyz xyz456\n",
      "16 nikita nikita123\n",
      "17 abc abc123\n",
      "18 xyz xyz456\n",
      "19 nikita nikita123\n",
      "20 abc abc123\n",
      "21 xyz xyz456\n",
      "22 nikita nikita123\n",
      "23 abc abc123\n",
      "24 xyz xyz456\n",
      "25 nikita nikita123\n",
      "26 abc abc123\n",
      "27 xyz xyz456\n",
      "28 nikita nikita123\n",
      "29 abc abc123\n",
      "30 xyz xyz456\n"
     ]
    }
   ],
   "source": [
    "for members in session.query(members).order_by(members.ID):\n",
    "    print(members.ID,members.name, members.username)"
   ]
  },
  {
   "cell_type": "code",
   "execution_count": 28,
   "metadata": {},
   "outputs": [
    {
     "name": "stdout",
     "output_type": "stream",
     "text": [
      "2020-08-09 12:50:43,679 INFO sqlalchemy.engine.base.Engine SELECT count(?) AS count_1\n",
      "2020-08-09 12:50:43,681 INFO sqlalchemy.engine.base.Engine (30,)\n"
     ]
    },
    {
     "data": {
      "text/plain": [
       "1"
      ]
     },
     "execution_count": 28,
     "metadata": {},
     "output_type": "execute_result"
    }
   ],
   "source": [
    "from sqlalchemy import func\n",
    "\n",
    "session.query(func.count(members.ID)).scalar()"
   ]
  },
  {
   "cell_type": "code",
   "execution_count": 29,
   "metadata": {},
   "outputs": [
    {
     "name": "stdout",
     "output_type": "stream",
     "text": [
      "2020-08-09 12:50:43,761 INFO sqlalchemy.engine.base.Engine SELECT sum(?) AS sum_1\n",
      "2020-08-09 12:50:43,766 INFO sqlalchemy.engine.base.Engine (30,)\n"
     ]
    },
    {
     "data": {
      "text/plain": [
       "30"
      ]
     },
     "execution_count": 29,
     "metadata": {},
     "output_type": "execute_result"
    }
   ],
   "source": [
    "session.query(func.sum(members.ID)).scalar()"
   ]
  },
  {
   "cell_type": "code",
   "execution_count": 30,
   "metadata": {},
   "outputs": [],
   "source": [
    "#Trial for Foreign Key\n",
    "from sqlalchemy import ForeignKey\n",
    "from sqlalchemy.orm import relationship\n",
    "\n",
    "class Proposal(Base):\n",
    "    __tablename__ = 'Proposal'\n",
    "    \n",
    "    Number = Column(String, primary_key=True)\n",
    "    Cycle_Number = Column(Float,nullable = False)\n",
    "    Title = Column(String, nullable=False)\n",
    "    #Telescope_ID = Column(String,ForeignKey('telescopes.ID') )\n",
    "    PI_ID = Column(Integer,ForeignKey('members.ID') )\n",
    "    \n",
    "    \n",
    "    # Access the user corresponding to an address.\n",
    "    members = relationship(\"members\", back_populates=\"Proposal\")\n",
    "\n",
    "    def __repr__(self):\n",
    "        return \"<Proposal(PI_ID='%s')>\" % self.PI_ID"
   ]
  },
  {
   "cell_type": "code",
   "execution_count": 31,
   "metadata": {},
   "outputs": [
    {
     "name": "stdout",
     "output_type": "stream",
     "text": [
      "2020-08-09 12:50:43,985 INFO sqlalchemy.engine.base.Engine PRAGMA main.table_info(\"members\")\n",
      "2020-08-09 12:50:43,988 INFO sqlalchemy.engine.base.Engine ()\n",
      "2020-08-09 12:50:43,996 INFO sqlalchemy.engine.base.Engine PRAGMA main.table_info(\"Proposal\")\n",
      "2020-08-09 12:50:43,999 INFO sqlalchemy.engine.base.Engine ()\n"
     ]
    }
   ],
   "source": [
    "Base.metadata.create_all(engine)"
   ]
  },
  {
   "cell_type": "code",
   "execution_count": 56,
   "metadata": {},
   "outputs": [],
   "source": [
    "psrinfo = np.genfromtxt(r'C:\\Users\\nikita.agarwal\\Downloads\\psrs.txt',dtype=str)"
   ]
  },
  {
   "cell_type": "code",
   "execution_count": 57,
   "metadata": {},
   "outputs": [
    {
     "name": "stdout",
     "output_type": "stream",
     "text": [
      "[['PSRJ' 'RAJ' 'DECJ']\n",
      " ['J0002+6216' '00:02:58.17' '+62:16:09.4']\n",
      " ['J0006+1834' '00:06:04.8' '+18:34:59']\n",
      " ...\n",
      " ['J2352+65' '23:52' '+65']\n",
      " ['J2354-22' '23:54:26' '-22:51:53']\n",
      " ['J2354+6155' '23:54:04.724' '+61:55:46.79']]\n"
     ]
    }
   ],
   "source": [
    "print(psrinfo)"
   ]
  },
  {
   "cell_type": "code",
   "execution_count": 60,
   "metadata": {},
   "outputs": [
    {
     "ename": "ValueError",
     "evalue": "Some errors were detected !\n    Line #3 (got 4 columns instead of 3)\n    Line #4 (got 5 columns instead of 3)\n    Line #5 (got 4 columns instead of 3)\n    Line #6 (got 5 columns instead of 3)\n    Line #7 (got 4 columns instead of 3)\n    Line #9 (got 4 columns instead of 3)\n    Line #10 (got 4 columns instead of 3)\n    Line #11 (got 4 columns instead of 3)\n    Line #12 (got 4 columns instead of 3)\n    Line #13 (got 4 columns instead of 3)\n    Line #14 (got 4 columns instead of 3)\n    Line #15 (got 4 columns instead of 3)\n    Line #16 (got 4 columns instead of 3)\n    Line #17 (got 5 columns instead of 3)\n    Line #18 (got 4 columns instead of 3)\n    Line #19 (got 5 columns instead of 3)\n    Line #20 (got 4 columns instead of 3)\n    Line #21 (got 4 columns instead of 3)\n    Line #22 (got 4 columns instead of 3)\n    Line #23 (got 4 columns instead of 3)\n    Line #24 (got 4 columns instead of 3)",
     "output_type": "error",
     "traceback": [
      "\u001b[1;31m---------------------------------------------------------------------------\u001b[0m",
      "\u001b[1;31mValueError\u001b[0m                                Traceback (most recent call last)",
      "\u001b[1;32m<ipython-input-60-5cd19e79c7ca>\u001b[0m in \u001b[0;36m<module>\u001b[1;34m\u001b[0m\n\u001b[1;32m----> 1\u001b[1;33m \u001b[0muserinfo\u001b[0m \u001b[1;33m=\u001b[0m \u001b[0mnp\u001b[0m\u001b[1;33m.\u001b[0m\u001b[0mgenfromtxt\u001b[0m\u001b[1;33m(\u001b[0m\u001b[1;34mr'C:\\Users\\nikita.agarwal\\Downloads\\users.txt'\u001b[0m\u001b[1;33m,\u001b[0m\u001b[0mdtype\u001b[0m\u001b[1;33m=\u001b[0m\u001b[0mstr\u001b[0m\u001b[1;33m)\u001b[0m\u001b[1;33m\u001b[0m\u001b[1;33m\u001b[0m\u001b[0m\n\u001b[0m",
      "\u001b[1;32mc:\\Users\\nikita.agarwal\\OneDrive\\Attachments\\lib\\site-packages\\numpy\\lib\\npyio.py\u001b[0m in \u001b[0;36mgenfromtxt\u001b[1;34m(fname, dtype, comments, delimiter, skip_header, skip_footer, converters, missing_values, filling_values, usecols, names, excludelist, deletechars, replace_space, autostrip, case_sensitive, defaultfmt, unpack, usemask, loose, invalid_raise, max_rows, encoding)\u001b[0m\n\u001b[0;32m   2101\u001b[0m             \u001b[1;31m# Raise an exception ?\u001b[0m\u001b[1;33m\u001b[0m\u001b[1;33m\u001b[0m\u001b[1;33m\u001b[0m\u001b[0m\n\u001b[0;32m   2102\u001b[0m             \u001b[1;32mif\u001b[0m \u001b[0minvalid_raise\u001b[0m\u001b[1;33m:\u001b[0m\u001b[1;33m\u001b[0m\u001b[1;33m\u001b[0m\u001b[0m\n\u001b[1;32m-> 2103\u001b[1;33m                 \u001b[1;32mraise\u001b[0m \u001b[0mValueError\u001b[0m\u001b[1;33m(\u001b[0m\u001b[0merrmsg\u001b[0m\u001b[1;33m)\u001b[0m\u001b[1;33m\u001b[0m\u001b[1;33m\u001b[0m\u001b[0m\n\u001b[0m\u001b[0;32m   2104\u001b[0m             \u001b[1;31m# Issue a warning ?\u001b[0m\u001b[1;33m\u001b[0m\u001b[1;33m\u001b[0m\u001b[1;33m\u001b[0m\u001b[0m\n\u001b[0;32m   2105\u001b[0m             \u001b[1;32melse\u001b[0m\u001b[1;33m:\u001b[0m\u001b[1;33m\u001b[0m\u001b[1;33m\u001b[0m\u001b[0m\n",
      "\u001b[1;31mValueError\u001b[0m: Some errors were detected !\n    Line #3 (got 4 columns instead of 3)\n    Line #4 (got 5 columns instead of 3)\n    Line #5 (got 4 columns instead of 3)\n    Line #6 (got 5 columns instead of 3)\n    Line #7 (got 4 columns instead of 3)\n    Line #9 (got 4 columns instead of 3)\n    Line #10 (got 4 columns instead of 3)\n    Line #11 (got 4 columns instead of 3)\n    Line #12 (got 4 columns instead of 3)\n    Line #13 (got 4 columns instead of 3)\n    Line #14 (got 4 columns instead of 3)\n    Line #15 (got 4 columns instead of 3)\n    Line #16 (got 4 columns instead of 3)\n    Line #17 (got 5 columns instead of 3)\n    Line #18 (got 4 columns instead of 3)\n    Line #19 (got 5 columns instead of 3)\n    Line #20 (got 4 columns instead of 3)\n    Line #21 (got 4 columns instead of 3)\n    Line #22 (got 4 columns instead of 3)\n    Line #23 (got 4 columns instead of 3)\n    Line #24 (got 4 columns instead of 3)"
     ]
    }
   ],
   "source": [
    "userinfo = np.genfromtxt(r'C:\\Users\\nikita.agarwal\\Downloads\\users.txt',dtype=str)"
   ]
  },
  {
   "cell_type": "code",
   "execution_count": null,
   "metadata": {},
   "outputs": [],
   "source": []
  }
 ],
 "metadata": {
  "kernelspec": {
   "display_name": "Python 3",
   "language": "python",
   "name": "python3"
  },
  "language_info": {
   "codemirror_mode": {
    "name": "ipython",
    "version": 3
   },
   "file_extension": ".py",
   "mimetype": "text/x-python",
   "name": "python",
   "nbconvert_exporter": "python",
   "pygments_lexer": "ipython3",
   "version": "3.7.7"
  }
 },
 "nbformat": 4,
 "nbformat_minor": 4
}
