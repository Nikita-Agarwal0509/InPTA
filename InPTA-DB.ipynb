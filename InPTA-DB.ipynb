{
 "cells": [
  {
   "cell_type": "code",
   "execution_count": 1,
   "metadata": {},
   "outputs": [],
   "source": [
    "from sqlalchemy.ext.declarative import declarative_base\n",
    "from sqlalchemy import Column, Integer, String, Float, ForeignKey\n",
    "from sqlalchemy.orm import sessionmaker\n",
    "from sqlalchemy.orm import relationship"
   ]
  },
  {
   "cell_type": "code",
   "execution_count": 2,
   "metadata": {},
   "outputs": [],
   "source": [
    "import numpy as np"
   ]
  },
  {
   "cell_type": "code",
   "execution_count": 3,
   "metadata": {},
   "outputs": [],
   "source": [
    "from sqlalchemy import create_engine\n",
    "engine = create_engine('sqlite:///InPTA.db', echo = True)"
   ]
  },
  {
   "cell_type": "code",
   "execution_count": 4,
   "metadata": {},
   "outputs": [],
   "source": [
    "Base = declarative_base()"
   ]
  },
  {
   "cell_type": "code",
   "execution_count": 5,
   "metadata": {},
   "outputs": [],
   "source": [
    "class Member(Base):\n",
    "    __tablename__ = 'members'\n",
    "    \n",
    "    id = Column(Integer, primary_key=True)\n",
    "    name = Column(String(100))\n",
    "    username = Column(String(45))\n",
    "    email = Column(String(100))\n",
    "\n",
    "    def __repr__(self):\n",
    "        return \"<Member(id='%s', name='%s', username='%s')>\" % (self.id, self.name, self.username)"
   ]
  },
  {
   "cell_type": "code",
   "execution_count": 6,
   "metadata": {},
   "outputs": [],
   "source": [
    "def hms_to_rad(raj):\n",
    "    hh, mm, ss = raj.split(':')\n",
    "    rad = (float(hh) + float(mm)/60. + float(ss)/3600.)*np.pi/12.\n",
    "    return rad\n",
    "\n",
    "def dms_to_rad(decj):\n",
    "    dd, mm, ss = decj.split(':')\n",
    "    sign = np.sign(float(dd))\n",
    "    rad = sign*(sign*float(dd) + float(mm)/60. + float(ss)/3600.)*np.pi/180.\n",
    "    return rad"
   ]
  },
  {
   "cell_type": "code",
   "execution_count": 7,
   "metadata": {},
   "outputs": [],
   "source": [
    "class Source(Base):\n",
    "    __tablename__ = 'sources'\n",
    "    \n",
    "    jname = Column(String(45), primary_key=True)\n",
    "    srctype = Column(String(10))\n",
    "    raj = Column(Float)\n",
    "    decj = Column(Float)\n",
    "    \n",
    "    def __init__(self, jname, srctype, raj, decj):\n",
    "        self.jname = jname\n",
    "        self.srctype = srctype\n",
    "        self.raj = hms_to_rad(raj)\n",
    "        self.decj = dms_to_rad(decj)\n",
    "        \n",
    "    def __repr__(self):\n",
    "        return \"<Source(JName='%s', Type='%s', RA='%s', DEC='%s')>\" % (self.jname, self.srctype, self.raj, self.decj)"
   ]
  },
  {
   "cell_type": "code",
   "execution_count": 8,
   "metadata": {},
   "outputs": [],
   "source": [
    "class Telescope(Base):\n",
    "    __tablename__ = 'telescopes'\n",
    "    \n",
    "    id = Column(String(10), primary_key=True)\n",
    "    name = Column(String(45))\n",
    "    lat = Column(Float)\n",
    "    long = Column(Float)\n",
    "\n",
    "    def __repr__(self):\n",
    "        return \"<Telescope('%s')>\" % (self.id)"
   ]
  },
  {
   "cell_type": "code",
   "execution_count": 9,
   "metadata": {},
   "outputs": [],
   "source": [
    "class Proposal(Base):\n",
    "    __tablename__ = 'proposals'\n",
    "    \n",
    "    number = Column(String(10), primary_key=True)\n",
    "    cycle_number = Column(Integer)\n",
    "    title = Column(String(500))\n",
    "    telescope_id = Column(String(10), ForeignKey(\"telescopes.id\")) \n",
    "    pi_id = Column(Integer, ForeignKey(\"members.id\")) # The foreign key is given like \"tablename.fieldname\".\n",
    "    file = Column(String(500))\n",
    "    \n",
    "    telescope = relationship(\"Telescope\")\n",
    "    PI = relationship(\"Member\")\n",
    "\n",
    "    def __repr__(self):\n",
    "        return \"<Proposal(number='%s',title='%s')>\" % (self.number, self.title)"
   ]
  },
  {
   "cell_type": "code",
   "execution_count": 10,
   "metadata": {},
   "outputs": [
    {
     "name": "stdout",
     "output_type": "stream",
     "text": [
      "2020-08-27 11:21:31,011 INFO sqlalchemy.engine.base.Engine SELECT CAST('test plain returns' AS VARCHAR(60)) AS anon_1\n",
      "2020-08-27 11:21:31,013 INFO sqlalchemy.engine.base.Engine ()\n",
      "2020-08-27 11:21:31,017 INFO sqlalchemy.engine.base.Engine SELECT CAST('test unicode returns' AS VARCHAR(60)) AS anon_1\n",
      "2020-08-27 11:21:31,019 INFO sqlalchemy.engine.base.Engine ()\n",
      "2020-08-27 11:21:31,023 INFO sqlalchemy.engine.base.Engine PRAGMA main.table_info(\"members\")\n",
      "2020-08-27 11:21:31,025 INFO sqlalchemy.engine.base.Engine ()\n",
      "2020-08-27 11:21:31,028 INFO sqlalchemy.engine.base.Engine PRAGMA main.table_info(\"sources\")\n",
      "2020-08-27 11:21:31,030 INFO sqlalchemy.engine.base.Engine ()\n",
      "2020-08-27 11:21:31,032 INFO sqlalchemy.engine.base.Engine PRAGMA main.table_info(\"telescopes\")\n",
      "2020-08-27 11:21:31,033 INFO sqlalchemy.engine.base.Engine ()\n",
      "2020-08-27 11:21:31,035 INFO sqlalchemy.engine.base.Engine PRAGMA main.table_info(\"proposals\")\n",
      "2020-08-27 11:21:31,037 INFO sqlalchemy.engine.base.Engine ()\n"
     ]
    }
   ],
   "source": [
    "Base.metadata.create_all(engine)"
   ]
  },
  {
   "cell_type": "code",
   "execution_count": 11,
   "metadata": {},
   "outputs": [],
   "source": [
    "Session = sessionmaker(bind=engine)\n",
    "session = Session()"
   ]
  },
  {
   "cell_type": "code",
   "execution_count": 12,
   "metadata": {},
   "outputs": [],
   "source": [
    "session.rollback()"
   ]
  },
  {
   "cell_type": "code",
   "execution_count": 13,
   "metadata": {},
   "outputs": [
    {
     "name": "stdout",
     "output_type": "stream",
     "text": [
      "2020-08-27 11:21:34,260 INFO sqlalchemy.engine.base.Engine BEGIN (implicit)\n",
      "2020-08-27 11:21:34,274 INFO sqlalchemy.engine.base.Engine SELECT sources.jname AS sources_jname, sources.srctype AS sources_srctype, sources.raj AS sources_raj, sources.decj AS sources_decj \n",
      "FROM sources \n",
      "WHERE sources.jname = ?\n",
      "2020-08-27 11:21:34,279 INFO sqlalchemy.engine.base.Engine ('J0002+6216',)\n"
     ]
    }
   ],
   "source": [
    "#testsrc = Source(jname=\"J0002+6216\", raj=\"00:02:58.17\", decj=\"+62:16:09.4\", srctype=\"PSR\")\n",
    "#session.add(testsrc)\n",
    "#session.commit()\n",
    "\n",
    "testsrc = session.query(Source).filter(Source.jname=='J0002+6216').one()"
   ]
  },
  {
   "cell_type": "code",
   "execution_count": 14,
   "metadata": {},
   "outputs": [
    {
     "data": {
      "text/plain": [
       "<Source(JName='J0002+6216', Type='PSR', RA='0.0064784440172464515', DEC='1.0868039200611601')>"
      ]
     },
     "execution_count": 14,
     "metadata": {},
     "output_type": "execute_result"
    }
   ],
   "source": [
    "testsrc"
   ]
  },
  {
   "cell_type": "code",
   "execution_count": 17,
   "metadata": {},
   "outputs": [
    {
     "name": "stdout",
     "output_type": "stream",
     "text": [
      "2020-08-27 11:24:34,926 INFO sqlalchemy.engine.base.Engine SELECT telescopes.id AS telescopes_id, telescopes.name AS telescopes_name, telescopes.lat AS telescopes_lat, telescopes.long AS telescopes_long \n",
      "FROM telescopes \n",
      "WHERE telescopes.id = ?\n",
      "2020-08-27 11:24:34,934 INFO sqlalchemy.engine.base.Engine ('GMRT',)\n"
     ]
    }
   ],
   "source": [
    "#gmrt = Telescope(id='GMRT', name='Giant Meterwave Radio Telescope', lat=0.33329486135, long=1.29241146296)\n",
    "#session.add(gmrt)\n",
    "#session.commit()\n",
    "\n",
    "gmrt = session.query(Telescope).filter(Telescope.id=='GMRT').one()"
   ]
  },
  {
   "cell_type": "code",
   "execution_count": 18,
   "metadata": {},
   "outputs": [
    {
     "name": "stdout",
     "output_type": "stream",
     "text": [
      "2020-08-27 11:24:37,468 INFO sqlalchemy.engine.base.Engine SELECT members.id AS members_id, members.name AS members_name, members.username AS members_username, members.email AS members_email \n",
      "FROM members \n",
      "WHERE members.username = ?\n",
      "2020-08-27 11:24:37,480 INFO sqlalchemy.engine.base.Engine ('testuser',)\n"
     ]
    }
   ],
   "source": [
    "#testmember = Member(name=\"Test User\", username=\"testuser\", email=\"testusersassd@gmail.com\")\n",
    "#session.add(testmember)\n",
    "#session.commit()\n",
    "testuser = session.query(Member).filter(Member.username=='testuser').one()"
   ]
  },
  {
   "cell_type": "code",
   "execution_count": 19,
   "metadata": {},
   "outputs": [],
   "source": [
    "## This is how you create an object with foreign keys.\n",
    "testproposal = Proposal(number='37_066', cycle_number=37, title=\"Bla bla\", telescope=gmrt, PI=testuser)"
   ]
  },
  {
   "cell_type": "code",
   "execution_count": 22,
   "metadata": {},
   "outputs": [
    {
     "name": "stdout",
     "output_type": "stream",
     "text": [
      "2020-08-27 11:25:24,946 INFO sqlalchemy.engine.base.Engine INSERT INTO proposals (number, cycle_number, title, \"telescope_ID\", pi_id, file) VALUES (?, ?, ?, ?, ?, ?)\n",
      "2020-08-27 11:25:24,953 INFO sqlalchemy.engine.base.Engine ('37_066', 37, 'Bla bla', 'GMRT', 1, None)\n",
      "2020-08-27 11:25:24,963 INFO sqlalchemy.engine.base.Engine COMMIT\n"
     ]
    }
   ],
   "source": [
    "session.add(testproposal)\n",
    "session.commit()"
   ]
  },
  {
   "cell_type": "code",
   "execution_count": null,
   "metadata": {},
   "outputs": [],
   "source": []
  }
 ],
 "metadata": {
  "kernelspec": {
   "display_name": "Python 3",
   "language": "python",
   "name": "python3"
  },
  "language_info": {
   "codemirror_mode": {
    "name": "ipython",
    "version": 3
   },
   "file_extension": ".py",
   "mimetype": "text/x-python",
   "name": "python",
   "nbconvert_exporter": "python",
   "pygments_lexer": "ipython3",
   "version": "3.6.9"
  }
 },
 "nbformat": 4,
 "nbformat_minor": 2
}
