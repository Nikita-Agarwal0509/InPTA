{
 "cells": [
  {
   "cell_type": "code",
   "execution_count": 26,
   "metadata": {},
   "outputs": [],
   "source": [
    "from sqlalchemy.ext.declarative import declarative_base\n",
    "from sqlalchemy import Column, Integer, String, Float, ForeignKey\n",
    "from sqlalchemy.orm import sessionmaker\n",
    "from sqlalchemy.orm import relationship"
   ]
  },
  {
   "cell_type": "code",
   "execution_count": 27,
   "metadata": {},
   "outputs": [
    {
     "name": "stderr",
     "output_type": "stream",
     "text": [
      "usage: ipykernel_launcher.py [-f F]\n",
      "ipykernel_launcher.py: error: argument -f: can't open 'C:\\Users\\nikita.agarwal\\Downloads\\psrs.txt': [Errno 2] No such file or directory: 'C:\\\\Users\\\\nikita.agarwal\\\\Downloads\\\\psrs.txt'\n"
     ]
    },
    {
     "ename": "SystemExit",
     "evalue": "2",
     "output_type": "error",
     "traceback": [
      "An exception has occurred, use %tb to see the full traceback.\n",
      "\u001b[0;31mSystemExit\u001b[0m\u001b[0;31m:\u001b[0m 2\n"
     ]
    },
    {
     "name": "stderr",
     "output_type": "stream",
     "text": [
      "/usr/lib/python3/dist-packages/IPython/core/interactiveshell.py:2890: UserWarning: To exit: use 'exit', 'quit', or Ctrl-D.\n",
      "  warn(\"To exit: use 'exit', 'quit', or Ctrl-D.\", stacklevel=1)\n"
     ]
    }
   ],
   "source": [
    "import argparse\n",
    "parser = argparse.ArgumentParser(add_help=False)\n",
    "parser.add_argument('-f', type=argparse.FileType('r'))\n",
    "\n",
    "args = parser.parse_args(['-f',r'C:\\Users\\nikita.agarwal\\Downloads\\psrs.txt'])\n",
    "print (args.f.readlines())\n",
    "args = parser.parse_args(['-f', r'C:\\Users\\nikita.agarwal\\Downloads\\pr.txt'])\n",
    "print (args.f.readlines())\n",
    "args = parser.parse_args(['-f', r'C:\\Users\\nikita.agarwal\\Downloads\\users.txt'])\n",
    "print (args.f.readlines())"
   ]
  },
  {
   "cell_type": "code",
   "execution_count": 28,
   "metadata": {},
   "outputs": [],
   "source": [
    "import numpy as np"
   ]
  },
  {
   "cell_type": "code",
   "execution_count": 29,
   "metadata": {},
   "outputs": [],
   "source": [
    "from sqlalchemy import create_engine\n",
    "engine = create_engine('sqlite:///InPTA.db', echo = True)"
   ]
  },
  {
   "cell_type": "code",
   "execution_count": 30,
   "metadata": {},
   "outputs": [],
   "source": [
    "Base = declarative_base()"
   ]
  },
  {
   "cell_type": "code",
   "execution_count": 31,
   "metadata": {},
   "outputs": [],
   "source": [
    "class Member(Base):\n",
    "    __tablename__ = 'members'\n",
    "    \n",
    "    id = Column(Integer, primary_key=True)\n",
    "    name = Column(String(100))\n",
    "    username = Column(String(45))\n",
    "    email = Column(String(100))\n",
    "\n",
    "    def __repr__(self):\n",
    "        return \"<Member(id='%s', name='%s', username='%s')>\" % (self.id, self.name, self.username)"
   ]
  },
  {
   "cell_type": "code",
   "execution_count": 32,
   "metadata": {},
   "outputs": [],
   "source": [
    "def hms_to_rad(raj):\n",
    "    if raj.count(':') == 2:\n",
    "        hh, mm, ss = raj.split(':')\n",
    "        rad = (float(hh) + float(mm)/60. + float(ss)/3600.)*np.pi/12.\n",
    "        return rad\n",
    "    elif raj.count(':') == 1:\n",
    "        hh, mm = raj.split(':')\n",
    "        rad = (float(hh) + float(mm)/60.)*np.pi/12.\n",
    "        return rad\n",
    "    elif raj.count(':') == 0:\n",
    "        rad = (float(raj))*np.pi/12.\n",
    "        return rad\n",
    "    \n",
    "def dms_to_rad(decj):\n",
    "    if decj.count(':') == 2:\n",
    "        dd, mm, ss = decj.split(':')\n",
    "        sign = np.sign(float(dd))\n",
    "        rad = sign*(sign*float(dd) + float(mm)/60. + float(ss)/3600.)*np.pi/180.\n",
    "        return rad\n",
    "    elif decj.count(':') == 1:\n",
    "        dd, mm = decj.split(':')\n",
    "        sign = np.sign(float(dd))\n",
    "        rad = sign*(sign*float(dd) + float(mm)/60.)*np.pi/180.\n",
    "        return rad\n",
    "    elif decj.count(':') == 0:\n",
    "        rad = (float(decj))*np.pi/180.\n",
    "        return rad"
   ]
  },
  {
   "cell_type": "code",
   "execution_count": 33,
   "metadata": {},
   "outputs": [],
   "source": [
    "class Source(Base):\n",
    "    __tablename__ = 'sources'\n",
    "    \n",
    "    jname = Column(String(45), primary_key=True)\n",
    "    srctype = Column(String(10))\n",
    "    raj = Column(Float)\n",
    "    decj = Column(Float)\n",
    "        \n",
    "    def __repr__(self):\n",
    "        return \"<Source(JName='%s',SrcType='%s', RA='%s', DEC='%s')>\" % (self.jname,self.srctype,self.raj,self.decj)"
   ]
  },
  {
   "cell_type": "code",
   "execution_count": 34,
   "metadata": {},
   "outputs": [],
   "source": [
    "class Telescope(Base):\n",
    "    __tablename__ = 'telescopes'\n",
    "    \n",
    "    id = Column(String(10), primary_key=True)\n",
    "    name = Column(String(45))\n",
    "    lat = Column(Float)\n",
    "    long = Column(Float)\n",
    "\n",
    "    def __repr__(self):\n",
    "        return \"<Telescope('%s')>\" % (self.id)"
   ]
  },
  {
   "cell_type": "code",
   "execution_count": 35,
   "metadata": {},
   "outputs": [],
   "source": [
    "class Proposal(Base):\n",
    "    __tablename__ = 'proposals'\n",
    "    \n",
    "    number = Column(String(10), primary_key=True)\n",
    "    cycle_number = Column(Integer)\n",
    "    title = Column(String(500))\n",
    "    telescope_id = Column(String(10), ForeignKey(\"telescopes.id\")) \n",
    "    pi_id = Column(Integer, ForeignKey(\"members.id\")) # The foreign key is given like \"tablename.fieldname\".\n",
    "    file = Column(String(500))\n",
    "    \n",
    "    telescope = relationship(\"Telescope\")\n",
    "    PI = relationship(\"Member\")\n",
    "\n",
    "    def __repr__(self):\n",
    "        return \"<Proposal(number='%s',title='%s')>\" % (self.number, self.title)"
   ]
  },
  {
   "cell_type": "code",
   "execution_count": 36,
   "metadata": {},
   "outputs": [],
   "source": [
    "psrinfos = np.genfromtxt(r'/home/nikita/Documents/psrs.txt',skip_header=1,dtype=str,delimiter='\\t')\n",
    "proposalinfs = np.genfromtxt(r'/home/nikita/Documents/pr.txt',dtype=str,skip_header=1,delimiter=',')\n",
    "userinfos = np.genfromtxt(r'/home/nikita/Documents/users.txt',dtype=str,delimiter='\\t',skip_header=1)"
   ]
  },
  {
   "cell_type": "code",
   "execution_count": 37,
   "metadata": {},
   "outputs": [
    {
     "name": "stdout",
     "output_type": "stream",
     "text": [
      "2020-11-11 21:40:05,290 INFO sqlalchemy.engine.base.Engine SELECT CAST('test plain returns' AS VARCHAR(60)) AS anon_1\n",
      "2020-11-11 21:40:05,290 INFO sqlalchemy.engine.base.Engine ()\n",
      "2020-11-11 21:40:05,292 INFO sqlalchemy.engine.base.Engine SELECT CAST('test unicode returns' AS VARCHAR(60)) AS anon_1\n",
      "2020-11-11 21:40:05,293 INFO sqlalchemy.engine.base.Engine ()\n",
      "2020-11-11 21:40:05,294 INFO sqlalchemy.engine.base.Engine PRAGMA main.table_info(\"members\")\n",
      "2020-11-11 21:40:05,295 INFO sqlalchemy.engine.base.Engine ()\n",
      "2020-11-11 21:40:05,296 INFO sqlalchemy.engine.base.Engine PRAGMA main.table_info(\"sources\")\n",
      "2020-11-11 21:40:05,297 INFO sqlalchemy.engine.base.Engine ()\n",
      "2020-11-11 21:40:05,298 INFO sqlalchemy.engine.base.Engine PRAGMA main.table_info(\"telescopes\")\n",
      "2020-11-11 21:40:05,299 INFO sqlalchemy.engine.base.Engine ()\n",
      "2020-11-11 21:40:05,300 INFO sqlalchemy.engine.base.Engine PRAGMA main.table_info(\"proposals\")\n",
      "2020-11-11 21:40:05,301 INFO sqlalchemy.engine.base.Engine ()\n"
     ]
    }
   ],
   "source": [
    "Base.metadata.create_all(engine)"
   ]
  },
  {
   "cell_type": "code",
   "execution_count": 38,
   "metadata": {},
   "outputs": [],
   "source": [
    "Session = sessionmaker(bind=engine)\n",
    "session = Session()"
   ]
  },
  {
   "cell_type": "code",
   "execution_count": 39,
   "metadata": {},
   "outputs": [
    {
     "ename": "ValueError",
     "evalue": "could not convert string to float: ",
     "output_type": "error",
     "traceback": [
      "\u001b[0;31m---------------------------------------------------------------------------\u001b[0m",
      "\u001b[0;31mValueError\u001b[0m                                Traceback (most recent call last)",
      "\u001b[0;32m<ipython-input-39-9f1f1347254e>\u001b[0m in \u001b[0;36m<module>\u001b[0;34m()\u001b[0m\n\u001b[0;32m----> 1\u001b[0;31m \u001b[0mplsrinfs\u001b[0m \u001b[0;34m=\u001b[0m \u001b[0;34m[\u001b[0m\u001b[0mSource\u001b[0m\u001b[0;34m(\u001b[0m\u001b[0mjname\u001b[0m\u001b[0;34m=\u001b[0m\u001b[0mPSRJ\u001b[0m\u001b[0;34m,\u001b[0m \u001b[0mraj\u001b[0m\u001b[0;34m=\u001b[0m\u001b[0mhms_to_rad\u001b[0m\u001b[0;34m(\u001b[0m\u001b[0mRAJ\u001b[0m\u001b[0;34m)\u001b[0m\u001b[0;34m,\u001b[0m \u001b[0mdecj\u001b[0m\u001b[0;34m=\u001b[0m\u001b[0mdms_to_rad\u001b[0m\u001b[0;34m(\u001b[0m\u001b[0mDECJ\u001b[0m\u001b[0;34m)\u001b[0m\u001b[0;34m,\u001b[0m \u001b[0msrctype\u001b[0m\u001b[0;34m=\u001b[0m\u001b[0;34m\"PSR\"\u001b[0m\u001b[0;34m)\u001b[0m \u001b[0;32mfor\u001b[0m \u001b[0mPSRJ\u001b[0m\u001b[0;34m,\u001b[0m \u001b[0mRAJ\u001b[0m\u001b[0;34m,\u001b[0m \u001b[0mDECJ\u001b[0m \u001b[0;32min\u001b[0m \u001b[0mpsrinfos\u001b[0m\u001b[0;34m]\u001b[0m\u001b[0;34m\u001b[0m\u001b[0;34m\u001b[0m\u001b[0m\n\u001b[0m",
      "\u001b[0;32m<ipython-input-39-9f1f1347254e>\u001b[0m in \u001b[0;36m<listcomp>\u001b[0;34m(.0)\u001b[0m\n\u001b[0;32m----> 1\u001b[0;31m \u001b[0mplsrinfs\u001b[0m \u001b[0;34m=\u001b[0m \u001b[0;34m[\u001b[0m\u001b[0mSource\u001b[0m\u001b[0;34m(\u001b[0m\u001b[0mjname\u001b[0m\u001b[0;34m=\u001b[0m\u001b[0mPSRJ\u001b[0m\u001b[0;34m,\u001b[0m \u001b[0mraj\u001b[0m\u001b[0;34m=\u001b[0m\u001b[0mhms_to_rad\u001b[0m\u001b[0;34m(\u001b[0m\u001b[0mRAJ\u001b[0m\u001b[0;34m)\u001b[0m\u001b[0;34m,\u001b[0m \u001b[0mdecj\u001b[0m\u001b[0;34m=\u001b[0m\u001b[0mdms_to_rad\u001b[0m\u001b[0;34m(\u001b[0m\u001b[0mDECJ\u001b[0m\u001b[0;34m)\u001b[0m\u001b[0;34m,\u001b[0m \u001b[0msrctype\u001b[0m\u001b[0;34m=\u001b[0m\u001b[0;34m\"PSR\"\u001b[0m\u001b[0;34m)\u001b[0m \u001b[0;32mfor\u001b[0m \u001b[0mPSRJ\u001b[0m\u001b[0;34m,\u001b[0m \u001b[0mRAJ\u001b[0m\u001b[0;34m,\u001b[0m \u001b[0mDECJ\u001b[0m \u001b[0;32min\u001b[0m \u001b[0mpsrinfos\u001b[0m\u001b[0;34m]\u001b[0m\u001b[0;34m\u001b[0m\u001b[0;34m\u001b[0m\u001b[0m\n\u001b[0m",
      "\u001b[0;32m<ipython-input-32-eb8bb8f43f24>\u001b[0m in \u001b[0;36mhms_to_rad\u001b[0;34m(raj)\u001b[0m\n\u001b[1;32m      9\u001b[0m         \u001b[0;32mreturn\u001b[0m \u001b[0mrad\u001b[0m\u001b[0;34m\u001b[0m\u001b[0;34m\u001b[0m\u001b[0m\n\u001b[1;32m     10\u001b[0m     \u001b[0;32melif\u001b[0m \u001b[0mraj\u001b[0m\u001b[0;34m.\u001b[0m\u001b[0mcount\u001b[0m\u001b[0;34m(\u001b[0m\u001b[0;34m':'\u001b[0m\u001b[0;34m)\u001b[0m \u001b[0;34m==\u001b[0m \u001b[0;36m0\u001b[0m\u001b[0;34m:\u001b[0m\u001b[0;34m\u001b[0m\u001b[0;34m\u001b[0m\u001b[0m\n\u001b[0;32m---> 11\u001b[0;31m         \u001b[0mrad\u001b[0m \u001b[0;34m=\u001b[0m \u001b[0;34m(\u001b[0m\u001b[0mfloat\u001b[0m\u001b[0;34m(\u001b[0m\u001b[0mraj\u001b[0m\u001b[0;34m)\u001b[0m\u001b[0;34m)\u001b[0m\u001b[0;34m*\u001b[0m\u001b[0mnp\u001b[0m\u001b[0;34m.\u001b[0m\u001b[0mpi\u001b[0m\u001b[0;34m/\u001b[0m\u001b[0;36m12.\u001b[0m\u001b[0;34m\u001b[0m\u001b[0;34m\u001b[0m\u001b[0m\n\u001b[0m\u001b[1;32m     12\u001b[0m         \u001b[0;32mreturn\u001b[0m \u001b[0mrad\u001b[0m\u001b[0;34m\u001b[0m\u001b[0;34m\u001b[0m\u001b[0m\n\u001b[1;32m     13\u001b[0m \u001b[0;34m\u001b[0m\u001b[0m\n",
      "\u001b[0;31mValueError\u001b[0m: could not convert string to float: "
     ]
    }
   ],
   "source": [
    "plsrinfs = [Source(jname=PSRJ, raj=hms_to_rad(RAJ), decj=dms_to_rad(DECJ), srctype=\"PSR\") for PSRJ, RAJ, DECJ in psrinfos]"
   ]
  },
  {
   "cell_type": "code",
   "execution_count": 40,
   "metadata": {},
   "outputs": [
    {
     "ename": "NameError",
     "evalue": "name 'plsrinfs' is not defined",
     "output_type": "error",
     "traceback": [
      "\u001b[0;31m---------------------------------------------------------------------------\u001b[0m",
      "\u001b[0;31mNameError\u001b[0m                                 Traceback (most recent call last)",
      "\u001b[0;32m<ipython-input-40-1f749374c4ab>\u001b[0m in \u001b[0;36m<module>\u001b[0;34m()\u001b[0m\n\u001b[0;32m----> 1\u001b[0;31m \u001b[0msession\u001b[0m\u001b[0;34m.\u001b[0m\u001b[0madd_all\u001b[0m\u001b[0;34m(\u001b[0m\u001b[0mplsrinfs\u001b[0m\u001b[0;34m)\u001b[0m\u001b[0;34m\u001b[0m\u001b[0;34m\u001b[0m\u001b[0m\n\u001b[0m\u001b[1;32m      2\u001b[0m \u001b[0msession\u001b[0m\u001b[0;34m.\u001b[0m\u001b[0mcommit\u001b[0m\u001b[0;34m(\u001b[0m\u001b[0;34m)\u001b[0m\u001b[0;34m\u001b[0m\u001b[0;34m\u001b[0m\u001b[0m\n",
      "\u001b[0;31mNameError\u001b[0m: name 'plsrinfs' is not defined"
     ]
    }
   ],
   "source": [
    "session.add_all(plsrinfs)\n",
    "session.commit()"
   ]
  },
  {
   "cell_type": "code",
   "execution_count": 41,
   "metadata": {},
   "outputs": [
    {
     "name": "stdout",
     "output_type": "stream",
     "text": [
      "2020-11-11 21:40:16,315 INFO sqlalchemy.engine.base.Engine BEGIN (implicit)\n",
      "2020-11-11 21:40:16,317 INFO sqlalchemy.engine.base.Engine SELECT telescopes.id AS telescopes_id, telescopes.name AS telescopes_name, telescopes.lat AS telescopes_lat, telescopes.long AS telescopes_long \n",
      "FROM telescopes \n",
      "WHERE telescopes.id = ?\n",
      "2020-11-11 21:40:16,317 INFO sqlalchemy.engine.base.Engine ('GMRT',)\n"
     ]
    },
    {
     "ename": "NoResultFound",
     "evalue": "No row was found for one()",
     "output_type": "error",
     "traceback": [
      "\u001b[0;31m---------------------------------------------------------------------------\u001b[0m",
      "\u001b[0;31mNoResultFound\u001b[0m                             Traceback (most recent call last)",
      "\u001b[0;32m<ipython-input-41-0368ab5da3b6>\u001b[0m in \u001b[0;36m<module>\u001b[0;34m()\u001b[0m\n\u001b[0;32m----> 1\u001b[0;31m \u001b[0mgmrt\u001b[0m \u001b[0;34m=\u001b[0m \u001b[0msession\u001b[0m\u001b[0;34m.\u001b[0m\u001b[0mquery\u001b[0m\u001b[0;34m(\u001b[0m\u001b[0mTelescope\u001b[0m\u001b[0;34m)\u001b[0m\u001b[0;34m.\u001b[0m\u001b[0mfilter\u001b[0m\u001b[0;34m(\u001b[0m\u001b[0mTelescope\u001b[0m\u001b[0;34m.\u001b[0m\u001b[0mid\u001b[0m\u001b[0;34m==\u001b[0m\u001b[0;34m'GMRT'\u001b[0m\u001b[0;34m)\u001b[0m\u001b[0;34m.\u001b[0m\u001b[0mone\u001b[0m\u001b[0;34m(\u001b[0m\u001b[0;34m)\u001b[0m\u001b[0;34m\u001b[0m\u001b[0;34m\u001b[0m\u001b[0m\n\u001b[0m",
      "\u001b[0;32m/home/nikita/.local/lib/python3.6/site-packages/sqlalchemy/orm/query.py\u001b[0m in \u001b[0;36mone\u001b[0;34m(self)\u001b[0m\n\u001b[1;32m   3498\u001b[0m         \u001b[0;32melse\u001b[0m\u001b[0;34m:\u001b[0m\u001b[0;34m\u001b[0m\u001b[0;34m\u001b[0m\u001b[0m\n\u001b[1;32m   3499\u001b[0m             \u001b[0;32mif\u001b[0m \u001b[0mret\u001b[0m \u001b[0;32mis\u001b[0m \u001b[0;32mNone\u001b[0m\u001b[0;34m:\u001b[0m\u001b[0;34m\u001b[0m\u001b[0;34m\u001b[0m\u001b[0m\n\u001b[0;32m-> 3500\u001b[0;31m                 \u001b[0;32mraise\u001b[0m \u001b[0morm_exc\u001b[0m\u001b[0;34m.\u001b[0m\u001b[0mNoResultFound\u001b[0m\u001b[0;34m(\u001b[0m\u001b[0;34m\"No row was found for one()\"\u001b[0m\u001b[0;34m)\u001b[0m\u001b[0;34m\u001b[0m\u001b[0;34m\u001b[0m\u001b[0m\n\u001b[0m\u001b[1;32m   3501\u001b[0m             \u001b[0;32mreturn\u001b[0m \u001b[0mret\u001b[0m\u001b[0;34m\u001b[0m\u001b[0;34m\u001b[0m\u001b[0m\n\u001b[1;32m   3502\u001b[0m \u001b[0;34m\u001b[0m\u001b[0m\n",
      "\u001b[0;31mNoResultFound\u001b[0m: No row was found for one()"
     ]
    }
   ],
   "source": [
    "gmrt = session.query(Telescope).filter(Telescope.id=='GMRT').one()"
   ]
  },
  {
   "cell_type": "code",
   "execution_count": 42,
   "metadata": {},
   "outputs": [],
   "source": [
    "members = [Member(name=name, email=email, username=uname) for name, email,uname in userinfos]"
   ]
  },
  {
   "cell_type": "code",
   "execution_count": 43,
   "metadata": {},
   "outputs": [
    {
     "name": "stdout",
     "output_type": "stream",
     "text": [
      "2020-11-11 21:40:23,889 INFO sqlalchemy.engine.base.Engine INSERT INTO members (name, username, email) VALUES (?, ?, ?)\n",
      "2020-11-11 21:40:23,892 INFO sqlalchemy.engine.base.Engine ('Abhimanyu Susobhanan', 'asusobhanan', 'abhisrkckl@gmail.com')\n",
      "2020-11-11 21:40:23,896 INFO sqlalchemy.engine.base.Engine INSERT INTO members (name, username, email) VALUES (?, ?, ?)\n",
      "2020-11-11 21:40:23,897 INFO sqlalchemy.engine.base.Engine ('Arpita Choudhary', 'achoudhary', 'arp.astro@gmail.com')\n",
      "2020-11-11 21:40:23,898 INFO sqlalchemy.engine.base.Engine INSERT INTO members (name, username, email) VALUES (?, ?, ?)\n",
      "2020-11-11 21:40:23,899 INFO sqlalchemy.engine.base.Engine ('Arun Kumar Naidu', 'arun', 'arunnaidu123@gmail.com')\n",
      "2020-11-11 21:40:23,899 INFO sqlalchemy.engine.base.Engine INSERT INTO members (name, username, email) VALUES (?, ?, ?)\n",
      "2020-11-11 21:40:23,900 INFO sqlalchemy.engine.base.Engine ('Avishek Basu', 'avishek', 'avishekbs3@gmail.com')\n",
      "2020-11-11 21:40:23,901 INFO sqlalchemy.engine.base.Engine INSERT INTO members (name, username, email) VALUES (?, ?, ?)\n",
      "2020-11-11 21:40:23,901 INFO sqlalchemy.engine.base.Engine ('Bhal Chandra Joshi', 'bcj', 'bcj@ncra.tifr.res.in')\n",
      "2020-11-11 21:40:23,902 INFO sqlalchemy.engine.base.Engine INSERT INTO members (name, username, email) VALUES (?, ?, ?)\n",
      "2020-11-11 21:40:23,903 INFO sqlalchemy.engine.base.Engine ('Dhruv Pathak', 'dhruv.pathak', 'pathakdhruv9786@gmail.com')\n",
      "2020-11-11 21:40:23,903 INFO sqlalchemy.engine.base.Engine INSERT INTO members (name, username, email) VALUES (?, ?, ?)\n",
      "2020-11-11 21:40:23,904 INFO sqlalchemy.engine.base.Engine ('Achamveedu Gopakumar', '', 'gopu.tifr@gmail.com')\n",
      "2020-11-11 21:40:23,905 INFO sqlalchemy.engine.base.Engine INSERT INTO members (name, username, email) VALUES (?, ?, ?)\n",
      "2020-11-11 21:40:23,905 INFO sqlalchemy.engine.base.Engine ('Jaikhomba Singha', 'jsingha', 'mjaikhomba@gmail.com')\n",
      "2020-11-11 21:40:23,906 INFO sqlalchemy.engine.base.Engine INSERT INTO members (name, username, email) VALUES (?, ?, ?)\n",
      "2020-11-11 21:40:23,906 INFO sqlalchemy.engine.base.Engine ('Kishalay De', 'kishalay', 'kde@astro.caltech.edu')\n",
      "2020-11-11 21:40:23,908 INFO sqlalchemy.engine.base.Engine INSERT INTO members (name, username, email) VALUES (?, ?, ?)\n",
      "2020-11-11 21:40:23,909 INFO sqlalchemy.engine.base.Engine ('Krishnakumar MA', 'kkma', 'kk.ambalappat@gmail.com')\n",
      "2020-11-11 21:40:23,911 INFO sqlalchemy.engine.base.Engine INSERT INTO members (name, username, email) VALUES (?, ?, ?)\n",
      "2020-11-11 21:40:23,912 INFO sqlalchemy.engine.base.Engine ('Lankeswar Dey', 'lankeswar.dey', 'lanky441@gmail.com')\n",
      "2020-11-11 21:40:23,914 INFO sqlalchemy.engine.base.Engine INSERT INTO members (name, username, email) VALUES (?, ?, ?)\n",
      "2020-11-11 21:40:23,915 INFO sqlalchemy.engine.base.Engine ('Manjari Bagchi', 'mbagchi', 'manjari.bagchi@gmail.com')\n",
      "2020-11-11 21:40:23,916 INFO sqlalchemy.engine.base.Engine INSERT INTO members (name, username, email) VALUES (?, ?, ?)\n",
      "2020-11-11 21:40:23,917 INFO sqlalchemy.engine.base.Engine ('Mayuresh Surnis', 'mpsurnis', 'msurnis@gmail.com')\n",
      "2020-11-11 21:40:23,918 INFO sqlalchemy.engine.base.Engine INSERT INTO members (name, username, email) VALUES (?, ?, ?)\n",
      "2020-11-11 21:40:23,919 INFO sqlalchemy.engine.base.Engine ('Neelam Dhanda', 'nbatra', 'neelam.dhanda@gmail.com')\n",
      "2020-11-11 21:40:23,920 INFO sqlalchemy.engine.base.Engine INSERT INTO members (name, username, email) VALUES (?, ?, ?)\n",
      "2020-11-11 21:40:23,921 INFO sqlalchemy.engine.base.Engine ('Nobleson K', 'nkunjappy', 'noble.son.k@gmail.com')\n",
      "2020-11-11 21:40:23,923 INFO sqlalchemy.engine.base.Engine INSERT INTO members (name, username, email) VALUES (?, ?, ?)\n",
      "2020-11-11 21:40:23,923 INFO sqlalchemy.engine.base.Engine ('P. K. Manoharan', 'mano', 'mano.rac@gmail.com')\n",
      "2020-11-11 21:40:23,924 INFO sqlalchemy.engine.base.Engine INSERT INTO members (name, username, email) VALUES (?, ?, ?)\n",
      "2020-11-11 21:40:23,925 INFO sqlalchemy.engine.base.Engine ('Raghav Girgaonkar', 'raghav', 'raghav.girgaonkar@gmail.com')\n",
      "2020-11-11 21:40:23,926 INFO sqlalchemy.engine.base.Engine INSERT INTO members (name, username, email) VALUES (?, ?, ?)\n",
      "2020-11-11 21:40:23,926 INFO sqlalchemy.engine.base.Engine ('Sai Chaitanya Susarla', 'ssusarla', 'saichaitus.99@gmail.com')\n",
      "2020-11-11 21:40:23,927 INFO sqlalchemy.engine.base.Engine INSERT INTO members (name, username, email) VALUES (?, ?, ?)\n",
      "2020-11-11 21:40:23,927 INFO sqlalchemy.engine.base.Engine ('Shantanu Desai', 'shantanu', 'shntn05@gmail.com')\n",
      "2020-11-11 21:40:23,928 INFO sqlalchemy.engine.base.Engine INSERT INTO members (name, username, email) VALUES (?, ?, ?)\n",
      "2020-11-11 21:40:23,929 INFO sqlalchemy.engine.base.Engine ('Suryarao Bethapudi', 'sbethapudi', 'shining.surya.d8@gmail.com')\n",
      "2020-11-11 21:40:23,933 INFO sqlalchemy.engine.base.Engine INSERT INTO members (name, username, email) VALUES (?, ?, ?)\n",
      "2020-11-11 21:40:23,935 INFO sqlalchemy.engine.base.Engine ('T Prabu', 'prabu', 'prabu@rri.res.in')\n",
      "2020-11-11 21:40:23,937 INFO sqlalchemy.engine.base.Engine INSERT INTO members (name, username, email) VALUES (?, ?, ?)\n",
      "2020-11-11 21:40:23,937 INFO sqlalchemy.engine.base.Engine ('Yashwant Gupta', 'ygupta', 'ygupta@ncra.tifr.res.in')\n",
      "2020-11-11 21:40:23,939 INFO sqlalchemy.engine.base.Engine INSERT INTO members (name, username, email) VALUES (?, ?, ?)\n",
      "2020-11-11 21:40:23,940 INFO sqlalchemy.engine.base.Engine ('Yogesh Maan', 'ymaan', 'ymaan4@gmail.com')\n",
      "2020-11-11 21:40:23,942 INFO sqlalchemy.engine.base.Engine COMMIT\n"
     ]
    }
   ],
   "source": [
    "session.add_all(members)\n",
    "session.commit()"
   ]
  },
  {
   "cell_type": "code",
   "execution_count": 44,
   "metadata": {},
   "outputs": [],
   "source": [
    "def user_from_uname(uname):\n",
    "    return session.query(Member).filter_by(username=uname).one()"
   ]
  },
  {
   "cell_type": "code",
   "execution_count": 45,
   "metadata": {},
   "outputs": [
    {
     "name": "stdout",
     "output_type": "stream",
     "text": [
      "2020-11-11 21:40:25,867 INFO sqlalchemy.engine.base.Engine BEGIN (implicit)\n",
      "2020-11-11 21:40:25,868 INFO sqlalchemy.engine.base.Engine SELECT members.id AS members_id, members.name AS members_name, members.username AS members_username, members.email AS members_email \n",
      "FROM members \n",
      "WHERE members.username = ?\n",
      "2020-11-11 21:40:25,869 INFO sqlalchemy.engine.base.Engine ('BHAL CHANDRA JOSHI',)\n"
     ]
    },
    {
     "ename": "NoResultFound",
     "evalue": "No row was found for one()",
     "output_type": "error",
     "traceback": [
      "\u001b[0;31m---------------------------------------------------------------------------\u001b[0m",
      "\u001b[0;31mNoResultFound\u001b[0m                             Traceback (most recent call last)",
      "\u001b[0;32m<ipython-input-45-26bfed900842>\u001b[0m in \u001b[0;36m<module>\u001b[0;34m()\u001b[0m\n\u001b[0;32m----> 1\u001b[0;31m \u001b[0mproposals\u001b[0m \u001b[0;34m=\u001b[0m \u001b[0;34m[\u001b[0m\u001b[0mProposal\u001b[0m\u001b[0;34m(\u001b[0m\u001b[0mnumber\u001b[0m\u001b[0;34m=\u001b[0m\u001b[0mproposal_id\u001b[0m\u001b[0;34m.\u001b[0m\u001b[0mstrip\u001b[0m\u001b[0;34m(\u001b[0m\u001b[0;34m)\u001b[0m\u001b[0;34m,\u001b[0m \u001b[0mcycle_number\u001b[0m\u001b[0;34m=\u001b[0m\u001b[0mcycle_number\u001b[0m\u001b[0;34m.\u001b[0m\u001b[0mstrip\u001b[0m\u001b[0;34m(\u001b[0m\u001b[0;34m)\u001b[0m\u001b[0;34m,\u001b[0m \u001b[0mtitle\u001b[0m\u001b[0;34m=\u001b[0m\u001b[0mtitle\u001b[0m\u001b[0;34m.\u001b[0m\u001b[0mstrip\u001b[0m\u001b[0;34m(\u001b[0m\u001b[0;34m)\u001b[0m\u001b[0;34m,\u001b[0m \u001b[0mPI\u001b[0m\u001b[0;34m=\u001b[0m\u001b[0muser_from_uname\u001b[0m\u001b[0;34m(\u001b[0m\u001b[0mpi_uname\u001b[0m\u001b[0;34m.\u001b[0m\u001b[0mstrip\u001b[0m\u001b[0;34m(\u001b[0m\u001b[0;34m)\u001b[0m\u001b[0;34m)\u001b[0m\u001b[0;34m,\u001b[0m \u001b[0mtelescope\u001b[0m\u001b[0;34m=\u001b[0m\u001b[0mgmrt\u001b[0m\u001b[0;34m)\u001b[0m \u001b[0;32mfor\u001b[0m \u001b[0mproposal_id\u001b[0m\u001b[0;34m,\u001b[0m \u001b[0mcycle_number\u001b[0m\u001b[0;34m,\u001b[0m \u001b[0mtitle\u001b[0m\u001b[0;34m,\u001b[0m \u001b[0mpi_uname\u001b[0m \u001b[0;32min\u001b[0m \u001b[0mproposalinfs\u001b[0m\u001b[0;34m]\u001b[0m\u001b[0;34m\u001b[0m\u001b[0;34m\u001b[0m\u001b[0m\n\u001b[0m",
      "\u001b[0;32m<ipython-input-45-26bfed900842>\u001b[0m in \u001b[0;36m<listcomp>\u001b[0;34m(.0)\u001b[0m\n\u001b[0;32m----> 1\u001b[0;31m \u001b[0mproposals\u001b[0m \u001b[0;34m=\u001b[0m \u001b[0;34m[\u001b[0m\u001b[0mProposal\u001b[0m\u001b[0;34m(\u001b[0m\u001b[0mnumber\u001b[0m\u001b[0;34m=\u001b[0m\u001b[0mproposal_id\u001b[0m\u001b[0;34m.\u001b[0m\u001b[0mstrip\u001b[0m\u001b[0;34m(\u001b[0m\u001b[0;34m)\u001b[0m\u001b[0;34m,\u001b[0m \u001b[0mcycle_number\u001b[0m\u001b[0;34m=\u001b[0m\u001b[0mcycle_number\u001b[0m\u001b[0;34m.\u001b[0m\u001b[0mstrip\u001b[0m\u001b[0;34m(\u001b[0m\u001b[0;34m)\u001b[0m\u001b[0;34m,\u001b[0m \u001b[0mtitle\u001b[0m\u001b[0;34m=\u001b[0m\u001b[0mtitle\u001b[0m\u001b[0;34m.\u001b[0m\u001b[0mstrip\u001b[0m\u001b[0;34m(\u001b[0m\u001b[0;34m)\u001b[0m\u001b[0;34m,\u001b[0m \u001b[0mPI\u001b[0m\u001b[0;34m=\u001b[0m\u001b[0muser_from_uname\u001b[0m\u001b[0;34m(\u001b[0m\u001b[0mpi_uname\u001b[0m\u001b[0;34m.\u001b[0m\u001b[0mstrip\u001b[0m\u001b[0;34m(\u001b[0m\u001b[0;34m)\u001b[0m\u001b[0;34m)\u001b[0m\u001b[0;34m,\u001b[0m \u001b[0mtelescope\u001b[0m\u001b[0;34m=\u001b[0m\u001b[0mgmrt\u001b[0m\u001b[0;34m)\u001b[0m \u001b[0;32mfor\u001b[0m \u001b[0mproposal_id\u001b[0m\u001b[0;34m,\u001b[0m \u001b[0mcycle_number\u001b[0m\u001b[0;34m,\u001b[0m \u001b[0mtitle\u001b[0m\u001b[0;34m,\u001b[0m \u001b[0mpi_uname\u001b[0m \u001b[0;32min\u001b[0m \u001b[0mproposalinfs\u001b[0m\u001b[0;34m]\u001b[0m\u001b[0;34m\u001b[0m\u001b[0;34m\u001b[0m\u001b[0m\n\u001b[0m",
      "\u001b[0;32m<ipython-input-44-301488e5381c>\u001b[0m in \u001b[0;36muser_from_uname\u001b[0;34m(uname)\u001b[0m\n\u001b[1;32m      1\u001b[0m \u001b[0;32mdef\u001b[0m \u001b[0muser_from_uname\u001b[0m\u001b[0;34m(\u001b[0m\u001b[0muname\u001b[0m\u001b[0;34m)\u001b[0m\u001b[0;34m:\u001b[0m\u001b[0;34m\u001b[0m\u001b[0;34m\u001b[0m\u001b[0m\n\u001b[0;32m----> 2\u001b[0;31m     \u001b[0;32mreturn\u001b[0m \u001b[0msession\u001b[0m\u001b[0;34m.\u001b[0m\u001b[0mquery\u001b[0m\u001b[0;34m(\u001b[0m\u001b[0mMember\u001b[0m\u001b[0;34m)\u001b[0m\u001b[0;34m.\u001b[0m\u001b[0mfilter_by\u001b[0m\u001b[0;34m(\u001b[0m\u001b[0musername\u001b[0m\u001b[0;34m=\u001b[0m\u001b[0muname\u001b[0m\u001b[0;34m)\u001b[0m\u001b[0;34m.\u001b[0m\u001b[0mone\u001b[0m\u001b[0;34m(\u001b[0m\u001b[0;34m)\u001b[0m\u001b[0;34m\u001b[0m\u001b[0;34m\u001b[0m\u001b[0m\n\u001b[0m",
      "\u001b[0;32m/home/nikita/.local/lib/python3.6/site-packages/sqlalchemy/orm/query.py\u001b[0m in \u001b[0;36mone\u001b[0;34m(self)\u001b[0m\n\u001b[1;32m   3498\u001b[0m         \u001b[0;32melse\u001b[0m\u001b[0;34m:\u001b[0m\u001b[0;34m\u001b[0m\u001b[0;34m\u001b[0m\u001b[0m\n\u001b[1;32m   3499\u001b[0m             \u001b[0;32mif\u001b[0m \u001b[0mret\u001b[0m \u001b[0;32mis\u001b[0m \u001b[0;32mNone\u001b[0m\u001b[0;34m:\u001b[0m\u001b[0;34m\u001b[0m\u001b[0;34m\u001b[0m\u001b[0m\n\u001b[0;32m-> 3500\u001b[0;31m                 \u001b[0;32mraise\u001b[0m \u001b[0morm_exc\u001b[0m\u001b[0;34m.\u001b[0m\u001b[0mNoResultFound\u001b[0m\u001b[0;34m(\u001b[0m\u001b[0;34m\"No row was found for one()\"\u001b[0m\u001b[0;34m)\u001b[0m\u001b[0;34m\u001b[0m\u001b[0;34m\u001b[0m\u001b[0m\n\u001b[0m\u001b[1;32m   3501\u001b[0m             \u001b[0;32mreturn\u001b[0m \u001b[0mret\u001b[0m\u001b[0;34m\u001b[0m\u001b[0;34m\u001b[0m\u001b[0m\n\u001b[1;32m   3502\u001b[0m \u001b[0;34m\u001b[0m\u001b[0m\n",
      "\u001b[0;31mNoResultFound\u001b[0m: No row was found for one()"
     ]
    }
   ],
   "source": [
    "proposals = [Proposal(number=proposal_id.strip(), cycle_number=cycle_number.strip(), title=title.strip(), PI=user_from_uname(pi_uname.strip()), telescope=gmrt) for proposal_id, cycle_number, title, pi_uname in proposalinfs]"
   ]
  },
  {
   "cell_type": "code",
   "execution_count": null,
   "metadata": {},
   "outputs": [],
   "source": [
    "session.add_all(proposals)\n",
    "session.commit()"
   ]
  },
  {
   "cell_type": "code",
   "execution_count": null,
   "metadata": {},
   "outputs": [],
   "source": []
  }
 ],
 "metadata": {
  "celltoolbar": "Raw Cell Format",
  "kernelspec": {
   "display_name": "Python 3",
   "language": "python",
   "name": "python3"
  },
  "language_info": {
   "codemirror_mode": {
    "name": "ipython",
    "version": 3
   },
   "file_extension": ".py",
   "mimetype": "text/x-python",
   "name": "python",
   "nbconvert_exporter": "python",
   "pygments_lexer": "ipython3",
   "version": "3.6.9"
  }
 },
 "nbformat": 4,
 "nbformat_minor": 2
}
